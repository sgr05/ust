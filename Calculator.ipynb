{
 "cells": [
  {
   "cell_type": "markdown",
   "id": "967db79c-b2a0-4e3e-afd6-bbd76090932b",
   "metadata": {},
   "source": [
    "## ASSIGNMENT"
   ]
  },
  {
   "cell_type": "code",
   "execution_count": 2,
   "id": "88948ba6-fbc7-4b7b-a2cc-707bb78197c1",
   "metadata": {},
   "outputs": [
    {
     "name": "stdin",
     "output_type": "stream",
     "text": [
      "Enter first number DER\n"
     ]
    },
    {
     "name": "stdout",
     "output_type": "stream",
     "text": [
      "Enter a valid number.\n"
     ]
    },
    {
     "name": "stdin",
     "output_type": "stream",
     "text": [
      "Enter first number 23\n",
      "Enter second number 2\n"
     ]
    },
    {
     "name": "stdout",
     "output_type": "stream",
     "text": [
      "Choose your operation  \n",
      "Enter 1 for addition\n",
      "Enter 2 for Sub\n",
      "Enter 3 for Mul\n",
      "Enter 4 for div\n"
     ]
    },
    {
     "name": "stdin",
     "output_type": "stream",
     "text": [
      "Enter your choice 1\n"
     ]
    },
    {
     "name": "stdout",
     "output_type": "stream",
     "text": [
      "25\n"
     ]
    }
   ],
   "source": [
    "def add(a,b):\n",
    "    return a+b\n",
    "def sub(a,b):\n",
    "    return a-b\n",
    "def mult(a,b):\n",
    "    return a*b\n",
    "def div(a,b):\n",
    "    return a/b\n",
    "def get_integer_input(num):\n",
    "    while True:\n",
    "        try:\n",
    "            value = int(input(num))\n",
    "            return value\n",
    "        except ValueError:\n",
    "            print(\"Enter a valid number.\")\n",
    "x=get_integer_input(\"Enter first number\")\n",
    "y=get_integer_input(\"Enter second number\")\n",
    "print(\"Choose your operation  \")\n",
    "print(\"Enter 1 for addition\")\n",
    "print(\"Enter 2 for Sub\")\n",
    "print(\"Enter 3 for Mul\")\n",
    "print(\"Enter 4 for div\")\n",
    "while True:\n",
    "    op=int(input(\"Enter your choice\"))\n",
    "    if op==1:\n",
    "        print(add(x,y))\n",
    "        break\n",
    "    elif op==2:\n",
    "        print(sub(x,y))\n",
    "        break\n",
    "    elif op==3:\n",
    "        print(mult(x,y))\n",
    "        break\n",
    "    elif op==4:\n",
    "        print(div(x,y))\n",
    "        break\n",
    "    else:\n",
    "        print(\"Invalid input\")\n",
    "    "
   ]
  },
  {
   "cell_type": "code",
   "execution_count": null,
   "id": "66f60204-38d4-48ee-bb68-3a858ca7d173",
   "metadata": {},
   "outputs": [],
   "source": []
  }
 ],
 "metadata": {
  "kernelspec": {
   "display_name": "Python 3 (ipykernel)",
   "language": "python",
   "name": "python3"
  },
  "language_info": {
   "codemirror_mode": {
    "name": "ipython",
    "version": 3
   },
   "file_extension": ".py",
   "mimetype": "text/x-python",
   "name": "python",
   "nbconvert_exporter": "python",
   "pygments_lexer": "ipython3",
   "version": "3.11.0"
  }
 },
 "nbformat": 4,
 "nbformat_minor": 5
}
