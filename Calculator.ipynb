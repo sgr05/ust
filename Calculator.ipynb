{
 "cells": [
  {
   "cell_type": "markdown",
   "id": "967db79c-b2a0-4e3e-afd6-bbd76090932b",
   "metadata": {},
   "source": [
    "## ASSIGNMENT"
   ]
  },
  {
   "cell_type": "markdown",
   "id": "a47713e5-9b0c-4749-9ddb-5adb4f448538",
   "metadata": {},
   "source": [
    "## Calculator"
   ]
  },
  {
   "cell_type": "code",
   "execution_count": 1,
   "id": "66f60204-38d4-48ee-bb68-3a858ca7d173",
   "metadata": {},
   "outputs": [
    {
     "name": "stdout",
     "output_type": "stream",
     "text": [
      "Enter 1 to use calculator\n",
      "Enter any other number to quit\n"
     ]
    },
    {
     "name": "stdin",
     "output_type": "stream",
     "text": [
      "Would you like to use my calculator 1\n",
      "Enter first number:  3\n",
      "Enter second number:  4\n"
     ]
    },
    {
     "name": "stdout",
     "output_type": "stream",
     "text": [
      "Choose your operation:\n",
      "Enter 1 for Addition\n",
      "Enter 2 for Subtraction\n",
      "Enter 3 for Multiplication\n",
      "Enter 4 for Division\n"
     ]
    },
    {
     "name": "stdin",
     "output_type": "stream",
     "text": [
      "Enter your choice:  3\n"
     ]
    },
    {
     "name": "stdout",
     "output_type": "stream",
     "text": [
      "The result is 12\n",
      "########################\n",
      "Enter 1 to use calculator\n",
      "Enter any other number to quit\n"
     ]
    },
    {
     "name": "stdin",
     "output_type": "stream",
     "text": [
      "Would you like to use my calculator 1\n",
      "Enter first number:  3\n",
      "Enter second number:  4\n"
     ]
    },
    {
     "name": "stdout",
     "output_type": "stream",
     "text": [
      "Choose your operation:\n",
      "Enter 1 for Addition\n",
      "Enter 2 for Subtraction\n",
      "Enter 3 for Multiplication\n",
      "Enter 4 for Division\n"
     ]
    },
    {
     "name": "stdin",
     "output_type": "stream",
     "text": [
      "Enter your choice:  3\n"
     ]
    },
    {
     "name": "stdout",
     "output_type": "stream",
     "text": [
      "The result is 12\n",
      "########################\n",
      "Enter 1 to use calculator\n",
      "Enter any other number to quit\n"
     ]
    },
    {
     "name": "stdin",
     "output_type": "stream",
     "text": [
      "Would you like to use my calculator 7\n"
     ]
    }
   ],
   "source": [
    "def add(a, b):\n",
    "    return a + b\n",
    "def sub(a, b):\n",
    "    return a - b\n",
    "def mult(a, b):\n",
    "    return a * b\n",
    "def div(a, b):\n",
    "    try:\n",
    "        return a / b\n",
    "    except ZeroDivisionError:\n",
    "        return \"Error: Division by zero is not possible.\"\n",
    "def ginput(num):\n",
    "    while True:\n",
    "        try:\n",
    "            value = int(input(num))\n",
    "            return value\n",
    "        except ValueError:\n",
    "            print(\"Enter a valid number.\")\n",
    "while True:\n",
    "    print(\"Enter 1 to use calculator\")\n",
    "    print(\"Enter any other number to quit\")\n",
    "    a=ginput(\"Would you like to use my calculator\")\n",
    "    if a==1:\n",
    "    \n",
    "        x = ginput(\"Enter first number: \")\n",
    "        y = ginput(\"Enter second number: \")\n",
    "\n",
    "        print(\"Choose your operation:\")\n",
    "        print(\"Enter 1 for Addition\")\n",
    "        print(\"Enter 2 for Subtraction\")\n",
    "        print(\"Enter 3 for Multiplication\")\n",
    "        print(\"Enter 4 for Division\")\n",
    "    \n",
    "        while True:\n",
    "            op = ginput(\"Enter your choice: \")\n",
    "            if op == 1:\n",
    "                print(\"The result is\",add(x, y))\n",
    "                print(\"########################\")\n",
    "                break\n",
    "            elif op == 2:\n",
    "                print(\"The result is\",sub(x, y))\n",
    "                print(\"########################\")\n",
    "                break\n",
    "            elif op == 3:\n",
    "                print(\"The result is\",mult(x, y))\n",
    "                print(\"########################\")\n",
    "                break\n",
    "            elif op == 4:\n",
    "                print(\"The result is\",div(x, y))\n",
    "                print(\"########################\")\n",
    "                break\n",
    "           \n",
    "            else:\n",
    "                print(\"Invalid input, please try again.\")\n",
    "    else:\n",
    "        break"
   ]
  },
  {
   "cell_type": "code",
   "execution_count": null,
   "id": "19ba1960-790e-4e14-accd-6a3199589a6c",
   "metadata": {},
   "outputs": [],
   "source": []
  }
 ],
 "metadata": {
  "kernelspec": {
   "display_name": "Python 3 (ipykernel)",
   "language": "python",
   "name": "python3"
  },
  "language_info": {
   "codemirror_mode": {
    "name": "ipython",
    "version": 3
   },
   "file_extension": ".py",
   "mimetype": "text/x-python",
   "name": "python",
   "nbconvert_exporter": "python",
   "pygments_lexer": "ipython3",
   "version": "3.11.0"
  }
 },
 "nbformat": 4,
 "nbformat_minor": 5
}
