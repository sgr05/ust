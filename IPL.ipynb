{
 "cells": [
  {
   "cell_type": "markdown",
   "id": "3772c3ed-04d1-4e07-a246-124097eca1cb",
   "metadata": {},
   "source": [
    "## ASSIGNMENT"
   ]
  },
  {
   "cell_type": "code",
   "execution_count": 19,
   "id": "0675aa30-383e-4c0c-8ed2-8eeb3f75fcc8",
   "metadata": {},
   "outputs": [],
   "source": [
    "import pandas as pd\n",
    "df=pd.read_csv(\"data.csv\")"
   ]
  },
  {
   "cell_type": "code",
   "execution_count": 20,
   "id": "4f7a9f48-3349-4da9-b30c-90b84214dfa9",
   "metadata": {},
   "outputs": [
    {
     "data": {
      "text/html": [
       "<div>\n",
       "<style scoped>\n",
       "    .dataframe tbody tr th:only-of-type {\n",
       "        vertical-align: middle;\n",
       "    }\n",
       "\n",
       "    .dataframe tbody tr th {\n",
       "        vertical-align: top;\n",
       "    }\n",
       "\n",
       "    .dataframe thead th {\n",
       "        text-align: right;\n",
       "    }\n",
       "</style>\n",
       "<table border=\"1\" class=\"dataframe\">\n",
       "  <thead>\n",
       "    <tr style=\"text-align: right;\">\n",
       "      <th></th>\n",
       "      <th>id</th>\n",
       "      <th>season</th>\n",
       "      <th>city</th>\n",
       "      <th>date</th>\n",
       "      <th>team1</th>\n",
       "      <th>team2</th>\n",
       "      <th>toss_winner</th>\n",
       "      <th>toss_decision</th>\n",
       "      <th>result</th>\n",
       "      <th>dl_applied</th>\n",
       "      <th>winner</th>\n",
       "      <th>win_by_runs</th>\n",
       "      <th>win_by_wickets</th>\n",
       "      <th>player_of_match</th>\n",
       "      <th>venue</th>\n",
       "      <th>umpire1</th>\n",
       "      <th>umpire2</th>\n",
       "      <th>umpire3</th>\n",
       "    </tr>\n",
       "  </thead>\n",
       "  <tbody>\n",
       "    <tr>\n",
       "      <th>0</th>\n",
       "      <td>1</td>\n",
       "      <td>2008</td>\n",
       "      <td>Bangalore</td>\n",
       "      <td>2008-04-18</td>\n",
       "      <td>Kolkata Knight Riders</td>\n",
       "      <td>Royal Challengers Bangalore</td>\n",
       "      <td>Royal Challengers Bangalore</td>\n",
       "      <td>field</td>\n",
       "      <td>normal</td>\n",
       "      <td>0</td>\n",
       "      <td>Kolkata Knight Riders</td>\n",
       "      <td>140</td>\n",
       "      <td>0</td>\n",
       "      <td>BB McCullum</td>\n",
       "      <td>M Chinnaswamy Stadium</td>\n",
       "      <td>Asad Rauf</td>\n",
       "      <td>RE Koertzen</td>\n",
       "      <td>NaN</td>\n",
       "    </tr>\n",
       "    <tr>\n",
       "      <th>1</th>\n",
       "      <td>2</td>\n",
       "      <td>2008</td>\n",
       "      <td>Chandigarh</td>\n",
       "      <td>2008-04-19</td>\n",
       "      <td>Chennai Super Kings</td>\n",
       "      <td>Kings XI Punjab</td>\n",
       "      <td>Chennai Super Kings</td>\n",
       "      <td>bat</td>\n",
       "      <td>normal</td>\n",
       "      <td>0</td>\n",
       "      <td>Chennai Super Kings</td>\n",
       "      <td>33</td>\n",
       "      <td>0</td>\n",
       "      <td>MEK Hussey</td>\n",
       "      <td>Punjab Cricket Association Stadium, Mohali</td>\n",
       "      <td>MR Benson</td>\n",
       "      <td>SL Shastri</td>\n",
       "      <td>NaN</td>\n",
       "    </tr>\n",
       "    <tr>\n",
       "      <th>2</th>\n",
       "      <td>3</td>\n",
       "      <td>2008</td>\n",
       "      <td>Delhi</td>\n",
       "      <td>2008-04-19</td>\n",
       "      <td>Rajasthan Royals</td>\n",
       "      <td>Delhi Daredevils</td>\n",
       "      <td>Rajasthan Royals</td>\n",
       "      <td>bat</td>\n",
       "      <td>normal</td>\n",
       "      <td>0</td>\n",
       "      <td>Delhi Daredevils</td>\n",
       "      <td>0</td>\n",
       "      <td>9</td>\n",
       "      <td>MF Maharoof</td>\n",
       "      <td>Feroz Shah Kotla</td>\n",
       "      <td>Aleem Dar</td>\n",
       "      <td>GA Pratapkumar</td>\n",
       "      <td>NaN</td>\n",
       "    </tr>\n",
       "    <tr>\n",
       "      <th>3</th>\n",
       "      <td>4</td>\n",
       "      <td>2008</td>\n",
       "      <td>Mumbai</td>\n",
       "      <td>2008-04-20</td>\n",
       "      <td>Mumbai Indians</td>\n",
       "      <td>Royal Challengers Bangalore</td>\n",
       "      <td>Mumbai Indians</td>\n",
       "      <td>bat</td>\n",
       "      <td>normal</td>\n",
       "      <td>0</td>\n",
       "      <td>Royal Challengers Bangalore</td>\n",
       "      <td>0</td>\n",
       "      <td>5</td>\n",
       "      <td>MV Boucher</td>\n",
       "      <td>Wankhede Stadium</td>\n",
       "      <td>SJ Davis</td>\n",
       "      <td>DJ Harper</td>\n",
       "      <td>NaN</td>\n",
       "    </tr>\n",
       "    <tr>\n",
       "      <th>4</th>\n",
       "      <td>5</td>\n",
       "      <td>2008</td>\n",
       "      <td>Kolkata</td>\n",
       "      <td>2008-04-20</td>\n",
       "      <td>Deccan Chargers</td>\n",
       "      <td>Kolkata Knight Riders</td>\n",
       "      <td>Deccan Chargers</td>\n",
       "      <td>bat</td>\n",
       "      <td>normal</td>\n",
       "      <td>0</td>\n",
       "      <td>Kolkata Knight Riders</td>\n",
       "      <td>0</td>\n",
       "      <td>5</td>\n",
       "      <td>DJ Hussey</td>\n",
       "      <td>Eden Gardens</td>\n",
       "      <td>BF Bowden</td>\n",
       "      <td>K Hariharan</td>\n",
       "      <td>NaN</td>\n",
       "    </tr>\n",
       "    <tr>\n",
       "      <th>...</th>\n",
       "      <td>...</td>\n",
       "      <td>...</td>\n",
       "      <td>...</td>\n",
       "      <td>...</td>\n",
       "      <td>...</td>\n",
       "      <td>...</td>\n",
       "      <td>...</td>\n",
       "      <td>...</td>\n",
       "      <td>...</td>\n",
       "      <td>...</td>\n",
       "      <td>...</td>\n",
       "      <td>...</td>\n",
       "      <td>...</td>\n",
       "      <td>...</td>\n",
       "      <td>...</td>\n",
       "      <td>...</td>\n",
       "      <td>...</td>\n",
       "      <td>...</td>\n",
       "    </tr>\n",
       "    <tr>\n",
       "      <th>572</th>\n",
       "      <td>573</td>\n",
       "      <td>2016</td>\n",
       "      <td>Raipur</td>\n",
       "      <td>2016-05-22</td>\n",
       "      <td>Delhi Daredevils</td>\n",
       "      <td>Royal Challengers Bangalore</td>\n",
       "      <td>Royal Challengers Bangalore</td>\n",
       "      <td>field</td>\n",
       "      <td>normal</td>\n",
       "      <td>0</td>\n",
       "      <td>Royal Challengers Bangalore</td>\n",
       "      <td>0</td>\n",
       "      <td>6</td>\n",
       "      <td>V Kohli</td>\n",
       "      <td>Shaheed Veer Narayan Singh International Stadium</td>\n",
       "      <td>A Nand Kishore</td>\n",
       "      <td>BNJ Oxenford</td>\n",
       "      <td>NaN</td>\n",
       "    </tr>\n",
       "    <tr>\n",
       "      <th>573</th>\n",
       "      <td>574</td>\n",
       "      <td>2016</td>\n",
       "      <td>Bangalore</td>\n",
       "      <td>2016-05-24</td>\n",
       "      <td>Gujarat Lions</td>\n",
       "      <td>Royal Challengers Bangalore</td>\n",
       "      <td>Royal Challengers Bangalore</td>\n",
       "      <td>field</td>\n",
       "      <td>normal</td>\n",
       "      <td>0</td>\n",
       "      <td>Royal Challengers Bangalore</td>\n",
       "      <td>0</td>\n",
       "      <td>4</td>\n",
       "      <td>AB de Villiers</td>\n",
       "      <td>M Chinnaswamy Stadium</td>\n",
       "      <td>AK Chaudhary</td>\n",
       "      <td>HDPK Dharmasena</td>\n",
       "      <td>NaN</td>\n",
       "    </tr>\n",
       "    <tr>\n",
       "      <th>574</th>\n",
       "      <td>575</td>\n",
       "      <td>2016</td>\n",
       "      <td>Delhi</td>\n",
       "      <td>2016-05-25</td>\n",
       "      <td>Sunrisers Hyderabad</td>\n",
       "      <td>Kolkata Knight Riders</td>\n",
       "      <td>Kolkata Knight Riders</td>\n",
       "      <td>field</td>\n",
       "      <td>normal</td>\n",
       "      <td>0</td>\n",
       "      <td>Sunrisers Hyderabad</td>\n",
       "      <td>22</td>\n",
       "      <td>0</td>\n",
       "      <td>MC Henriques</td>\n",
       "      <td>Feroz Shah Kotla</td>\n",
       "      <td>M Erasmus</td>\n",
       "      <td>C Shamshuddin</td>\n",
       "      <td>NaN</td>\n",
       "    </tr>\n",
       "    <tr>\n",
       "      <th>575</th>\n",
       "      <td>576</td>\n",
       "      <td>2016</td>\n",
       "      <td>Delhi</td>\n",
       "      <td>2016-05-27</td>\n",
       "      <td>Gujarat Lions</td>\n",
       "      <td>Sunrisers Hyderabad</td>\n",
       "      <td>Sunrisers Hyderabad</td>\n",
       "      <td>field</td>\n",
       "      <td>normal</td>\n",
       "      <td>0</td>\n",
       "      <td>Sunrisers Hyderabad</td>\n",
       "      <td>0</td>\n",
       "      <td>4</td>\n",
       "      <td>DA Warner</td>\n",
       "      <td>Feroz Shah Kotla</td>\n",
       "      <td>M Erasmus</td>\n",
       "      <td>CK Nandan</td>\n",
       "      <td>NaN</td>\n",
       "    </tr>\n",
       "    <tr>\n",
       "      <th>576</th>\n",
       "      <td>577</td>\n",
       "      <td>2016</td>\n",
       "      <td>Bangalore</td>\n",
       "      <td>2016-05-29</td>\n",
       "      <td>Sunrisers Hyderabad</td>\n",
       "      <td>Royal Challengers Bangalore</td>\n",
       "      <td>Sunrisers Hyderabad</td>\n",
       "      <td>bat</td>\n",
       "      <td>normal</td>\n",
       "      <td>0</td>\n",
       "      <td>Sunrisers Hyderabad</td>\n",
       "      <td>8</td>\n",
       "      <td>0</td>\n",
       "      <td>BCJ Cutting</td>\n",
       "      <td>M Chinnaswamy Stadium</td>\n",
       "      <td>HDPK Dharmasena</td>\n",
       "      <td>BNJ Oxenford</td>\n",
       "      <td>NaN</td>\n",
       "    </tr>\n",
       "  </tbody>\n",
       "</table>\n",
       "<p>577 rows × 18 columns</p>\n",
       "</div>"
      ],
      "text/plain": [
       "      id  season        city        date                  team1  \\\n",
       "0      1    2008   Bangalore  2008-04-18  Kolkata Knight Riders   \n",
       "1      2    2008  Chandigarh  2008-04-19    Chennai Super Kings   \n",
       "2      3    2008       Delhi  2008-04-19       Rajasthan Royals   \n",
       "3      4    2008      Mumbai  2008-04-20         Mumbai Indians   \n",
       "4      5    2008     Kolkata  2008-04-20        Deccan Chargers   \n",
       "..   ...     ...         ...         ...                    ...   \n",
       "572  573    2016      Raipur  2016-05-22       Delhi Daredevils   \n",
       "573  574    2016   Bangalore  2016-05-24          Gujarat Lions   \n",
       "574  575    2016       Delhi  2016-05-25    Sunrisers Hyderabad   \n",
       "575  576    2016       Delhi  2016-05-27          Gujarat Lions   \n",
       "576  577    2016   Bangalore  2016-05-29    Sunrisers Hyderabad   \n",
       "\n",
       "                           team2                  toss_winner toss_decision  \\\n",
       "0    Royal Challengers Bangalore  Royal Challengers Bangalore         field   \n",
       "1                Kings XI Punjab          Chennai Super Kings           bat   \n",
       "2               Delhi Daredevils             Rajasthan Royals           bat   \n",
       "3    Royal Challengers Bangalore               Mumbai Indians           bat   \n",
       "4          Kolkata Knight Riders              Deccan Chargers           bat   \n",
       "..                           ...                          ...           ...   \n",
       "572  Royal Challengers Bangalore  Royal Challengers Bangalore         field   \n",
       "573  Royal Challengers Bangalore  Royal Challengers Bangalore         field   \n",
       "574        Kolkata Knight Riders        Kolkata Knight Riders         field   \n",
       "575          Sunrisers Hyderabad          Sunrisers Hyderabad         field   \n",
       "576  Royal Challengers Bangalore          Sunrisers Hyderabad           bat   \n",
       "\n",
       "     result  dl_applied                       winner  win_by_runs  \\\n",
       "0    normal           0        Kolkata Knight Riders          140   \n",
       "1    normal           0          Chennai Super Kings           33   \n",
       "2    normal           0             Delhi Daredevils            0   \n",
       "3    normal           0  Royal Challengers Bangalore            0   \n",
       "4    normal           0        Kolkata Knight Riders            0   \n",
       "..      ...         ...                          ...          ...   \n",
       "572  normal           0  Royal Challengers Bangalore            0   \n",
       "573  normal           0  Royal Challengers Bangalore            0   \n",
       "574  normal           0          Sunrisers Hyderabad           22   \n",
       "575  normal           0          Sunrisers Hyderabad            0   \n",
       "576  normal           0          Sunrisers Hyderabad            8   \n",
       "\n",
       "     win_by_wickets player_of_match  \\\n",
       "0                 0     BB McCullum   \n",
       "1                 0      MEK Hussey   \n",
       "2                 9     MF Maharoof   \n",
       "3                 5      MV Boucher   \n",
       "4                 5       DJ Hussey   \n",
       "..              ...             ...   \n",
       "572               6         V Kohli   \n",
       "573               4  AB de Villiers   \n",
       "574               0    MC Henriques   \n",
       "575               4       DA Warner   \n",
       "576               0     BCJ Cutting   \n",
       "\n",
       "                                                venue          umpire1  \\\n",
       "0                               M Chinnaswamy Stadium        Asad Rauf   \n",
       "1          Punjab Cricket Association Stadium, Mohali        MR Benson   \n",
       "2                                    Feroz Shah Kotla        Aleem Dar   \n",
       "3                                    Wankhede Stadium         SJ Davis   \n",
       "4                                        Eden Gardens        BF Bowden   \n",
       "..                                                ...              ...   \n",
       "572  Shaheed Veer Narayan Singh International Stadium   A Nand Kishore   \n",
       "573                             M Chinnaswamy Stadium     AK Chaudhary   \n",
       "574                                  Feroz Shah Kotla        M Erasmus   \n",
       "575                                  Feroz Shah Kotla        M Erasmus   \n",
       "576                             M Chinnaswamy Stadium  HDPK Dharmasena   \n",
       "\n",
       "             umpire2  umpire3  \n",
       "0        RE Koertzen      NaN  \n",
       "1         SL Shastri      NaN  \n",
       "2     GA Pratapkumar      NaN  \n",
       "3          DJ Harper      NaN  \n",
       "4        K Hariharan      NaN  \n",
       "..               ...      ...  \n",
       "572     BNJ Oxenford      NaN  \n",
       "573  HDPK Dharmasena      NaN  \n",
       "574    C Shamshuddin      NaN  \n",
       "575        CK Nandan      NaN  \n",
       "576     BNJ Oxenford      NaN  \n",
       "\n",
       "[577 rows x 18 columns]"
      ]
     },
     "execution_count": 20,
     "metadata": {},
     "output_type": "execute_result"
    }
   ],
   "source": [
    "df"
   ]
  },
  {
   "cell_type": "code",
   "execution_count": 21,
   "id": "ddbce84a-76fa-4fb3-a354-7a88cecef436",
   "metadata": {},
   "outputs": [
    {
     "data": {
      "text/html": [
       "<div>\n",
       "<style scoped>\n",
       "    .dataframe tbody tr th:only-of-type {\n",
       "        vertical-align: middle;\n",
       "    }\n",
       "\n",
       "    .dataframe tbody tr th {\n",
       "        vertical-align: top;\n",
       "    }\n",
       "\n",
       "    .dataframe thead th {\n",
       "        text-align: right;\n",
       "    }\n",
       "</style>\n",
       "<table border=\"1\" class=\"dataframe\">\n",
       "  <thead>\n",
       "    <tr style=\"text-align: right;\">\n",
       "      <th></th>\n",
       "      <th>id</th>\n",
       "      <th>season</th>\n",
       "      <th>dl_applied</th>\n",
       "      <th>win_by_runs</th>\n",
       "      <th>win_by_wickets</th>\n",
       "      <th>umpire3</th>\n",
       "    </tr>\n",
       "  </thead>\n",
       "  <tbody>\n",
       "    <tr>\n",
       "      <th>count</th>\n",
       "      <td>577.000000</td>\n",
       "      <td>577.000000</td>\n",
       "      <td>577.000000</td>\n",
       "      <td>577.000000</td>\n",
       "      <td>577.000000</td>\n",
       "      <td>0.0</td>\n",
       "    </tr>\n",
       "    <tr>\n",
       "      <th>mean</th>\n",
       "      <td>289.000000</td>\n",
       "      <td>2012.029463</td>\n",
       "      <td>0.025997</td>\n",
       "      <td>13.715771</td>\n",
       "      <td>3.363951</td>\n",
       "      <td>NaN</td>\n",
       "    </tr>\n",
       "    <tr>\n",
       "      <th>std</th>\n",
       "      <td>166.709828</td>\n",
       "      <td>2.486247</td>\n",
       "      <td>0.159263</td>\n",
       "      <td>23.619282</td>\n",
       "      <td>3.416049</td>\n",
       "      <td>NaN</td>\n",
       "    </tr>\n",
       "    <tr>\n",
       "      <th>min</th>\n",
       "      <td>1.000000</td>\n",
       "      <td>2008.000000</td>\n",
       "      <td>0.000000</td>\n",
       "      <td>0.000000</td>\n",
       "      <td>0.000000</td>\n",
       "      <td>NaN</td>\n",
       "    </tr>\n",
       "    <tr>\n",
       "      <th>25%</th>\n",
       "      <td>145.000000</td>\n",
       "      <td>2010.000000</td>\n",
       "      <td>0.000000</td>\n",
       "      <td>0.000000</td>\n",
       "      <td>0.000000</td>\n",
       "      <td>NaN</td>\n",
       "    </tr>\n",
       "    <tr>\n",
       "      <th>50%</th>\n",
       "      <td>289.000000</td>\n",
       "      <td>2012.000000</td>\n",
       "      <td>0.000000</td>\n",
       "      <td>0.000000</td>\n",
       "      <td>3.000000</td>\n",
       "      <td>NaN</td>\n",
       "    </tr>\n",
       "    <tr>\n",
       "      <th>75%</th>\n",
       "      <td>433.000000</td>\n",
       "      <td>2014.000000</td>\n",
       "      <td>0.000000</td>\n",
       "      <td>20.000000</td>\n",
       "      <td>6.000000</td>\n",
       "      <td>NaN</td>\n",
       "    </tr>\n",
       "    <tr>\n",
       "      <th>max</th>\n",
       "      <td>577.000000</td>\n",
       "      <td>2016.000000</td>\n",
       "      <td>1.000000</td>\n",
       "      <td>144.000000</td>\n",
       "      <td>10.000000</td>\n",
       "      <td>NaN</td>\n",
       "    </tr>\n",
       "  </tbody>\n",
       "</table>\n",
       "</div>"
      ],
      "text/plain": [
       "               id       season  dl_applied  win_by_runs  win_by_wickets  \\\n",
       "count  577.000000   577.000000  577.000000   577.000000      577.000000   \n",
       "mean   289.000000  2012.029463    0.025997    13.715771        3.363951   \n",
       "std    166.709828     2.486247    0.159263    23.619282        3.416049   \n",
       "min      1.000000  2008.000000    0.000000     0.000000        0.000000   \n",
       "25%    145.000000  2010.000000    0.000000     0.000000        0.000000   \n",
       "50%    289.000000  2012.000000    0.000000     0.000000        3.000000   \n",
       "75%    433.000000  2014.000000    0.000000    20.000000        6.000000   \n",
       "max    577.000000  2016.000000    1.000000   144.000000       10.000000   \n",
       "\n",
       "       umpire3  \n",
       "count      0.0  \n",
       "mean       NaN  \n",
       "std        NaN  \n",
       "min        NaN  \n",
       "25%        NaN  \n",
       "50%        NaN  \n",
       "75%        NaN  \n",
       "max        NaN  "
      ]
     },
     "execution_count": 21,
     "metadata": {},
     "output_type": "execute_result"
    }
   ],
   "source": [
    "df.describe()"
   ]
  },
  {
   "cell_type": "markdown",
   "id": "81d2c388-f8a5-44f4-9abd-0019baeb1cb2",
   "metadata": {},
   "source": [
    "## Finding and Handling null values"
   ]
  },
  {
   "cell_type": "code",
   "execution_count": 49,
   "id": "142009f9-0c75-4075-a7eb-dd0fdab0cfe5",
   "metadata": {},
   "outputs": [
    {
     "data": {
      "text/plain": [
       "id                 0\n",
       "season             0\n",
       "city               0\n",
       "date               0\n",
       "team1              0\n",
       "team2              0\n",
       "toss_winner        0\n",
       "toss_decision      0\n",
       "result             0\n",
       "dl_applied         0\n",
       "winner             0\n",
       "win_by_runs        0\n",
       "win_by_wickets     0\n",
       "player_of_match    0\n",
       "venue              0\n",
       "umpire1            0\n",
       "umpire2            0\n",
       "dtype: int64"
      ]
     },
     "execution_count": 49,
     "metadata": {},
     "output_type": "execute_result"
    }
   ],
   "source": [
    "#Check for null values\n",
    "df.isnull().sum()"
   ]
  },
  {
   "cell_type": "code",
   "execution_count": 23,
   "id": "55b17b22-e764-4c65-a2b4-e37e33a33775",
   "metadata": {},
   "outputs": [],
   "source": [
    "#Since only few rows have missing value I'm Droping all the rows with missing values \n",
    "#Deleting the column umpire3 since all the values are empty"
   ]
  },
  {
   "cell_type": "code",
   "execution_count": 24,
   "id": "74c857bd-1596-4aa7-8be7-d13f84180c4f",
   "metadata": {},
   "outputs": [
    {
     "data": {
      "text/plain": [
       "id                 0\n",
       "season             0\n",
       "city               0\n",
       "date               0\n",
       "team1              0\n",
       "team2              0\n",
       "toss_winner        0\n",
       "toss_decision      0\n",
       "result             0\n",
       "dl_applied         0\n",
       "winner             0\n",
       "win_by_runs        0\n",
       "win_by_wickets     0\n",
       "player_of_match    0\n",
       "venue              0\n",
       "umpire1            0\n",
       "umpire2            0\n",
       "dtype: int64"
      ]
     },
     "execution_count": 24,
     "metadata": {},
     "output_type": "execute_result"
    }
   ],
   "source": [
    "df.drop(\"umpire3\",axis=1,inplace=True)\n",
    "df.dropna(inplace=True)\n",
    "df.isnull().sum()"
   ]
  },
  {
   "cell_type": "code",
   "execution_count": 25,
   "id": "a7c94fe6-c8ca-4a08-9bfc-f8ea30499764",
   "metadata": {},
   "outputs": [
    {
     "data": {
      "text/plain": [
       "array(['Kolkata Knight Riders', 'Chennai Super Kings', 'Delhi Daredevils',\n",
       "       'Royal Challengers Bangalore', 'Rajasthan Royals',\n",
       "       'Kings XI Punjab', 'Deccan Chargers', 'Mumbai Indians',\n",
       "       'Pune Warriors', 'Kochi Tuskers Kerala', 'Sunrisers Hyderabad',\n",
       "       'Rising Pune Supergiants', 'Gujarat Lions'], dtype=object)"
      ]
     },
     "execution_count": 25,
     "metadata": {},
     "output_type": "execute_result"
    }
   ],
   "source": [
    "## Ipl match winners\n",
    "df[\"winner\"].unique()"
   ]
  },
  {
   "cell_type": "markdown",
   "id": "9c17a835-eb75-4aa5-b7b4-691ecf4fc840",
   "metadata": {},
   "source": [
    "## Details when kochi tuskers kerala won the match\n"
   ]
  },
  {
   "cell_type": "code",
   "execution_count": 26,
   "id": "88403485-ec17-471e-8294-42a8eee58896",
   "metadata": {},
   "outputs": [
    {
     "data": {
      "text/html": [
       "<div>\n",
       "<style scoped>\n",
       "    .dataframe tbody tr th:only-of-type {\n",
       "        vertical-align: middle;\n",
       "    }\n",
       "\n",
       "    .dataframe tbody tr th {\n",
       "        vertical-align: top;\n",
       "    }\n",
       "\n",
       "    .dataframe thead th {\n",
       "        text-align: right;\n",
       "    }\n",
       "</style>\n",
       "<table border=\"1\" class=\"dataframe\">\n",
       "  <thead>\n",
       "    <tr style=\"text-align: right;\">\n",
       "      <th></th>\n",
       "      <th>id</th>\n",
       "      <th>season</th>\n",
       "      <th>city</th>\n",
       "      <th>date</th>\n",
       "      <th>team1</th>\n",
       "      <th>team2</th>\n",
       "      <th>toss_winner</th>\n",
       "      <th>toss_decision</th>\n",
       "      <th>result</th>\n",
       "      <th>dl_applied</th>\n",
       "      <th>winner</th>\n",
       "      <th>win_by_runs</th>\n",
       "      <th>win_by_wickets</th>\n",
       "      <th>player_of_match</th>\n",
       "      <th>venue</th>\n",
       "      <th>umpire1</th>\n",
       "      <th>umpire2</th>\n",
       "    </tr>\n",
       "  </thead>\n",
       "  <tbody>\n",
       "    <tr>\n",
       "      <th>187</th>\n",
       "      <td>188</td>\n",
       "      <td>2011</td>\n",
       "      <td>Mumbai</td>\n",
       "      <td>2011-04-15</td>\n",
       "      <td>Mumbai Indians</td>\n",
       "      <td>Kochi Tuskers Kerala</td>\n",
       "      <td>Kochi Tuskers Kerala</td>\n",
       "      <td>field</td>\n",
       "      <td>normal</td>\n",
       "      <td>0</td>\n",
       "      <td>Kochi Tuskers Kerala</td>\n",
       "      <td>0</td>\n",
       "      <td>8</td>\n",
       "      <td>BB McCullum</td>\n",
       "      <td>Wankhede Stadium</td>\n",
       "      <td>BR Doctrove</td>\n",
       "      <td>PR Reiffel</td>\n",
       "    </tr>\n",
       "    <tr>\n",
       "      <th>192</th>\n",
       "      <td>193</td>\n",
       "      <td>2011</td>\n",
       "      <td>Kochi</td>\n",
       "      <td>2011-04-18</td>\n",
       "      <td>Chennai Super Kings</td>\n",
       "      <td>Kochi Tuskers Kerala</td>\n",
       "      <td>Kochi Tuskers Kerala</td>\n",
       "      <td>field</td>\n",
       "      <td>normal</td>\n",
       "      <td>1</td>\n",
       "      <td>Kochi Tuskers Kerala</td>\n",
       "      <td>0</td>\n",
       "      <td>7</td>\n",
       "      <td>BB McCullum</td>\n",
       "      <td>Nehru Stadium</td>\n",
       "      <td>K Hariharan</td>\n",
       "      <td>AL Hill</td>\n",
       "    </tr>\n",
       "    <tr>\n",
       "      <th>195</th>\n",
       "      <td>196</td>\n",
       "      <td>2011</td>\n",
       "      <td>Kolkata</td>\n",
       "      <td>2011-04-20</td>\n",
       "      <td>Kochi Tuskers Kerala</td>\n",
       "      <td>Kolkata Knight Riders</td>\n",
       "      <td>Kolkata Knight Riders</td>\n",
       "      <td>field</td>\n",
       "      <td>normal</td>\n",
       "      <td>0</td>\n",
       "      <td>Kochi Tuskers Kerala</td>\n",
       "      <td>6</td>\n",
       "      <td>0</td>\n",
       "      <td>DPMD Jayawardene</td>\n",
       "      <td>Eden Gardens</td>\n",
       "      <td>Aleem Dar</td>\n",
       "      <td>RB Tiffin</td>\n",
       "    </tr>\n",
       "    <tr>\n",
       "      <th>214</th>\n",
       "      <td>215</td>\n",
       "      <td>2011</td>\n",
       "      <td>Delhi</td>\n",
       "      <td>2011-05-02</td>\n",
       "      <td>Delhi Daredevils</td>\n",
       "      <td>Kochi Tuskers Kerala</td>\n",
       "      <td>Kochi Tuskers Kerala</td>\n",
       "      <td>field</td>\n",
       "      <td>normal</td>\n",
       "      <td>0</td>\n",
       "      <td>Kochi Tuskers Kerala</td>\n",
       "      <td>0</td>\n",
       "      <td>7</td>\n",
       "      <td>P Parameswaran</td>\n",
       "      <td>Feroz Shah Kotla</td>\n",
       "      <td>Asad Rauf</td>\n",
       "      <td>SL Shastri</td>\n",
       "    </tr>\n",
       "    <tr>\n",
       "      <th>218</th>\n",
       "      <td>219</td>\n",
       "      <td>2011</td>\n",
       "      <td>Kochi</td>\n",
       "      <td>2011-05-05</td>\n",
       "      <td>Kochi Tuskers Kerala</td>\n",
       "      <td>Kolkata Knight Riders</td>\n",
       "      <td>Kolkata Knight Riders</td>\n",
       "      <td>field</td>\n",
       "      <td>normal</td>\n",
       "      <td>0</td>\n",
       "      <td>Kochi Tuskers Kerala</td>\n",
       "      <td>17</td>\n",
       "      <td>0</td>\n",
       "      <td>BJ Hodge</td>\n",
       "      <td>Nehru Stadium</td>\n",
       "      <td>S Ravi</td>\n",
       "      <td>RJ Tucker</td>\n",
       "    </tr>\n",
       "    <tr>\n",
       "      <th>234</th>\n",
       "      <td>235</td>\n",
       "      <td>2011</td>\n",
       "      <td>Indore</td>\n",
       "      <td>2011-05-15</td>\n",
       "      <td>Rajasthan Royals</td>\n",
       "      <td>Kochi Tuskers Kerala</td>\n",
       "      <td>Kochi Tuskers Kerala</td>\n",
       "      <td>field</td>\n",
       "      <td>normal</td>\n",
       "      <td>0</td>\n",
       "      <td>Kochi Tuskers Kerala</td>\n",
       "      <td>0</td>\n",
       "      <td>8</td>\n",
       "      <td>BJ Hodge</td>\n",
       "      <td>Holkar Cricket Stadium</td>\n",
       "      <td>PR Reiffel</td>\n",
       "      <td>RJ Tucker</td>\n",
       "    </tr>\n",
       "  </tbody>\n",
       "</table>\n",
       "</div>"
      ],
      "text/plain": [
       "      id  season     city        date                 team1  \\\n",
       "187  188    2011   Mumbai  2011-04-15        Mumbai Indians   \n",
       "192  193    2011    Kochi  2011-04-18   Chennai Super Kings   \n",
       "195  196    2011  Kolkata  2011-04-20  Kochi Tuskers Kerala   \n",
       "214  215    2011    Delhi  2011-05-02      Delhi Daredevils   \n",
       "218  219    2011    Kochi  2011-05-05  Kochi Tuskers Kerala   \n",
       "234  235    2011   Indore  2011-05-15      Rajasthan Royals   \n",
       "\n",
       "                     team2            toss_winner toss_decision  result  \\\n",
       "187   Kochi Tuskers Kerala   Kochi Tuskers Kerala         field  normal   \n",
       "192   Kochi Tuskers Kerala   Kochi Tuskers Kerala         field  normal   \n",
       "195  Kolkata Knight Riders  Kolkata Knight Riders         field  normal   \n",
       "214   Kochi Tuskers Kerala   Kochi Tuskers Kerala         field  normal   \n",
       "218  Kolkata Knight Riders  Kolkata Knight Riders         field  normal   \n",
       "234   Kochi Tuskers Kerala   Kochi Tuskers Kerala         field  normal   \n",
       "\n",
       "     dl_applied                winner  win_by_runs  win_by_wickets  \\\n",
       "187           0  Kochi Tuskers Kerala            0               8   \n",
       "192           1  Kochi Tuskers Kerala            0               7   \n",
       "195           0  Kochi Tuskers Kerala            6               0   \n",
       "214           0  Kochi Tuskers Kerala            0               7   \n",
       "218           0  Kochi Tuskers Kerala           17               0   \n",
       "234           0  Kochi Tuskers Kerala            0               8   \n",
       "\n",
       "      player_of_match                   venue      umpire1     umpire2  \n",
       "187       BB McCullum        Wankhede Stadium  BR Doctrove  PR Reiffel  \n",
       "192       BB McCullum           Nehru Stadium  K Hariharan     AL Hill  \n",
       "195  DPMD Jayawardene            Eden Gardens    Aleem Dar   RB Tiffin  \n",
       "214    P Parameswaran        Feroz Shah Kotla    Asad Rauf  SL Shastri  \n",
       "218          BJ Hodge           Nehru Stadium       S Ravi   RJ Tucker  \n",
       "234          BJ Hodge  Holkar Cricket Stadium   PR Reiffel   RJ Tucker  "
      ]
     },
     "execution_count": 26,
     "metadata": {},
     "output_type": "execute_result"
    }
   ],
   "source": [
    "##Details when kochi tuskers kerala won the match\n",
    "df[df[\"winner\"]==\"Kochi Tuskers Kerala\"]"
   ]
  },
  {
   "cell_type": "markdown",
   "id": "e2493ccd-e370-4cb3-864c-d30461943550",
   "metadata": {},
   "source": [
    "## Relation between toss winning and match winning"
   ]
  },
  {
   "cell_type": "code",
   "execution_count": 27,
   "id": "ac08b6b3-e9ee-4a05-b483-77e158b590bd",
   "metadata": {},
   "outputs": [
    {
     "data": {
      "text/plain": [
       "np.int64(288)"
      ]
     },
     "execution_count": 27,
     "metadata": {},
     "output_type": "execute_result"
    }
   ],
   "source": [
    "# Toss winner becoming winners\n",
    "a=df[df[\"toss_winner\"]==df[\"winner\"]]\n",
    "a.id.count()\n"
   ]
  },
  {
   "cell_type": "code",
   "execution_count": 28,
   "id": "628b61bf-da4a-4d84-a83a-6dba140f4978",
   "metadata": {},
   "outputs": [
    {
     "data": {
      "text/plain": [
       "np.int64(279)"
      ]
     },
     "execution_count": 28,
     "metadata": {},
     "output_type": "execute_result"
    }
   ],
   "source": [
    "# Toss winner becoming losers\n",
    "b=df[df[\"toss_winner\"]!=df[\"winner\"]]\n",
    "b.id.count()"
   ]
  },
  {
   "cell_type": "code",
   "execution_count": 29,
   "id": "bd942e71-63dc-4cd9-932b-b764f6bb9f16",
   "metadata": {},
   "outputs": [],
   "source": [
    "# From this above data it is clear that team winning a toss is more likely to win the match"
   ]
  },
  {
   "cell_type": "markdown",
   "id": "bc47146d-dd24-4f46-8889-892531e0b50f",
   "metadata": {},
   "source": [
    "## Team with 0 wins"
   ]
  },
  {
   "cell_type": "code",
   "execution_count": 30,
   "id": "47e1ad4b-908c-4c7f-b2a4-cd3077e82b5c",
   "metadata": {},
   "outputs": [
    {
     "data": {
      "text/plain": [
       "array(['Kolkata Knight Riders', 'Chennai Super Kings', 'Delhi Daredevils',\n",
       "       'Royal Challengers Bangalore', 'Rajasthan Royals',\n",
       "       'Kings XI Punjab', 'Deccan Chargers', 'Mumbai Indians',\n",
       "       'Pune Warriors', 'Kochi Tuskers Kerala', 'Sunrisers Hyderabad',\n",
       "       'Rising Pune Supergiants', 'Gujarat Lions'], dtype=object)"
      ]
     },
     "execution_count": 30,
     "metadata": {},
     "output_type": "execute_result"
    }
   ],
   "source": [
    "#Winning team list\n",
    "a=df[\"winner\"].unique()\n",
    "a"
   ]
  },
  {
   "cell_type": "code",
   "execution_count": null,
   "id": "33f1eb04-ecc3-49b6-9fb2-ba954b2574c8",
   "metadata": {},
   "outputs": [],
   "source": []
  },
  {
   "cell_type": "code",
   "execution_count": 31,
   "id": "c1246c8f-4ed8-42bd-9421-77edb0bb7cd2",
   "metadata": {},
   "outputs": [
    {
     "data": {
      "text/plain": [
       "array(['Kolkata Knight Riders', 'Chennai Super Kings', 'Rajasthan Royals',\n",
       "       'Mumbai Indians', 'Deccan Chargers', 'Kings XI Punjab',\n",
       "       'Royal Challengers Bangalore', 'Delhi Daredevils',\n",
       "       'Kochi Tuskers Kerala', 'Pune Warriors', 'Sunrisers Hyderabad',\n",
       "       'Rising Pune Supergiants', 'Gujarat Lions'], dtype=object)"
      ]
     },
     "execution_count": 31,
     "metadata": {},
     "output_type": "execute_result"
    }
   ],
   "source": [
    "# Lost team list\n",
    "b=pd.concat([df[\"team1\"], df[\"team2\"]]).unique()\n",
    "b"
   ]
  },
  {
   "cell_type": "code",
   "execution_count": 32,
   "id": "b0918417-56fe-4de7-9c41-0eff63e4549a",
   "metadata": {},
   "outputs": [],
   "source": [
    "# From this data it is clear that \"Delhi DAredevils\" has never won a single match \n"
   ]
  },
  {
   "cell_type": "markdown",
   "id": "6c5436d7-d1b3-49fa-a677-8331b350ae99",
   "metadata": {},
   "source": [
    "## What team choose(BAT FIELD) after winning the toss?"
   ]
  },
  {
   "cell_type": "code",
   "execution_count": 33,
   "id": "055f50ec-6f12-4f4e-864a-544c81e6f268",
   "metadata": {},
   "outputs": [
    {
     "data": {
      "text/plain": [
       "array(['field', 'bat'], dtype=object)"
      ]
     },
     "execution_count": 33,
     "metadata": {},
     "output_type": "execute_result"
    }
   ],
   "source": [
    "df[\"toss_decision\"].unique()"
   ]
  },
  {
   "cell_type": "code",
   "execution_count": 34,
   "id": "a2f1f289-818f-43d4-bfd5-1f0013988ffe",
   "metadata": {},
   "outputs": [
    {
     "data": {
      "text/plain": [
       "np.int64(309)"
      ]
     },
     "execution_count": 34,
     "metadata": {},
     "output_type": "execute_result"
    }
   ],
   "source": [
    "# Team chosing to bowl \n",
    "a=df[df[\"toss_decision\"] == \"field\"]\n",
    "a.id.count()"
   ]
  },
  {
   "cell_type": "code",
   "execution_count": 35,
   "id": "3a3b1622-53ed-44cc-805d-ec5a7fa4cfe5",
   "metadata": {},
   "outputs": [
    {
     "data": {
      "text/plain": [
       "np.int64(258)"
      ]
     },
     "execution_count": 35,
     "metadata": {},
     "output_type": "execute_result"
    }
   ],
   "source": [
    "# Team chosing to bat \n",
    "a=df[df[\"toss_decision\"] == \"bat\"]\n",
    "a.id.count()"
   ]
  },
  {
   "cell_type": "code",
   "execution_count": 36,
   "id": "0c8b345a-b66c-4b71-bb2c-0f591c1fcc2b",
   "metadata": {},
   "outputs": [],
   "source": [
    "# From the above its clear that most teams wants to FIELD first\n"
   ]
  },
  {
   "cell_type": "markdown",
   "id": "9a611e36-ac2c-41e2-a8d0-5e05831648ba",
   "metadata": {},
   "source": []
  },
  {
   "cell_type": "markdown",
   "id": "87fc8067-44d5-45bc-bdcd-2270efb2b819",
   "metadata": {},
   "source": [
    "## Which year hosted the most number of matches"
   ]
  },
  {
   "cell_type": "code",
   "execution_count": 43,
   "id": "2cbf55c6-f71a-4ff2-a806-09850525895c",
   "metadata": {},
   "outputs": [],
   "source": [
    "a=df[[\"id\",\"date\"]]"
   ]
  },
  {
   "cell_type": "code",
   "execution_count": 44,
   "id": "56f73f68-3c3c-4cc7-bac5-e5c3b0fc5a34",
   "metadata": {},
   "outputs": [
    {
     "name": "stderr",
     "output_type": "stream",
     "text": [
      "C:\\Users\\Administrator\\AppData\\Local\\Temp\\ipykernel_5564\\2724752167.py:1: SettingWithCopyWarning: \n",
      "A value is trying to be set on a copy of a slice from a DataFrame.\n",
      "Try using .loc[row_indexer,col_indexer] = value instead\n",
      "\n",
      "See the caveats in the documentation: https://pandas.pydata.org/pandas-docs/stable/user_guide/indexing.html#returning-a-view-versus-a-copy\n",
      "  a[\"year\"] = a[\"date\"].str.split(\"-\").str[0]\n"
     ]
    }
   ],
   "source": [
    "a[\"year\"] = a[\"date\"].str.split(\"-\").str[0]"
   ]
  },
  {
   "cell_type": "code",
   "execution_count": 48,
   "id": "e177dcdf-0d83-474a-b42b-a352676456ee",
   "metadata": {},
   "outputs": [
    {
     "data": {
      "text/plain": [
       "year\n",
       "2013    76\n",
       "2012    74\n",
       "2011    72\n",
       "2016    60\n",
       "2010    60\n",
       "2008    58\n",
       "2009    57\n",
       "2015    57\n",
       "2014    53\n",
       "Name: count, dtype: int64"
      ]
     },
     "execution_count": 48,
     "metadata": {},
     "output_type": "execute_result"
    }
   ],
   "source": [
    "a[\"year\"].value_counts()"
   ]
  },
  {
   "cell_type": "markdown",
   "id": "bf795935-0c47-466a-bb7e-ebd611178108",
   "metadata": {},
   "source": [
    "## Player with the most \"Player of the matches\"\n"
   ]
  },
  {
   "cell_type": "code",
   "execution_count": 50,
   "id": "a26e8dbe-2ea1-48e1-88ef-32af2721b78a",
   "metadata": {},
   "outputs": [
    {
     "data": {
      "text/plain": [
       "player_of_match\n",
       "CH Gayle    17\n",
       "Name: count, dtype: int64"
      ]
     },
     "execution_count": 50,
     "metadata": {},
     "output_type": "execute_result"
    }
   ],
   "source": [
    "df[\"player_of_match\"].value_counts().head(1)"
   ]
  },
  {
   "cell_type": "markdown",
   "id": "fb508c2d-f795-4075-9324-3dcd729e7d22",
   "metadata": {},
   "source": [
    "## Top 10 winner "
   ]
  },
  {
   "cell_type": "code",
   "execution_count": 51,
   "id": "6e1b2dbe-665f-4baf-b6ac-9e53eee8d8ac",
   "metadata": {},
   "outputs": [
    {
     "data": {
      "text/plain": [
       "winner\n",
       "Mumbai Indians                 80\n",
       "Chennai Super Kings            77\n",
       "Royal Challengers Bangalore    69\n",
       "Kolkata Knight Riders          68\n",
       "Rajasthan Royals               63\n",
       "Kings XI Punjab                62\n",
       "Delhi Daredevils               55\n",
       "Sunrisers Hyderabad            32\n",
       "Deccan Chargers                29\n",
       "Pune Warriors                  12\n",
       "Name: count, dtype: int64"
      ]
     },
     "execution_count": 51,
     "metadata": {},
     "output_type": "execute_result"
    }
   ],
   "source": [
    "df[\"winner\"].value_counts().head(10)"
   ]
  },
  {
   "cell_type": "code",
   "execution_count": null,
   "id": "db3a1e98-177d-4165-a1b6-d064a74e20fd",
   "metadata": {},
   "outputs": [],
   "source": []
  }
 ],
 "metadata": {
  "kernelspec": {
   "display_name": "Python 3 (ipykernel)",
   "language": "python",
   "name": "python3"
  },
  "language_info": {
   "codemirror_mode": {
    "name": "ipython",
    "version": 3
   },
   "file_extension": ".py",
   "mimetype": "text/x-python",
   "name": "python",
   "nbconvert_exporter": "python",
   "pygments_lexer": "ipython3",
   "version": "3.11.0"
  }
 },
 "nbformat": 4,
 "nbformat_minor": 5
}
