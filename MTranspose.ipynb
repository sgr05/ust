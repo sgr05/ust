{
 "cells": [
  {
   "cell_type": "markdown",
   "id": "6f838607-9365-4804-a753-735fc7dcac5a",
   "metadata": {},
   "source": [
    "## ASSIGNEMENT"
   ]
  },
  {
   "cell_type": "markdown",
   "id": "9999c428-dc6c-4eb2-adee-46da9333f3e1",
   "metadata": {},
   "source": [
    "## Matrix transpose using python\n"
   ]
  },
  {
   "cell_type": "code",
   "execution_count": 3,
   "id": "527897da-02d0-430e-9c36-63d07e186bf4",
   "metadata": {},
   "outputs": [
    {
     "name": "stdout",
     "output_type": "stream",
     "text": [
      "[[1, 4, 7], [2, 5, 8], [3, 6, 9]]\n"
     ]
    }
   ],
   "source": [
    "matrix = [[1, 2, 3], [4, 5, 6], [7, 8, 9]]\n",
    "transpose = [[row[i] for row in matrix] for i in range(len(matrix[0]))]\n",
    "print(transpose)\n"
   ]
  },
  {
   "cell_type": "code",
   "execution_count": null,
   "id": "49ca13b5-1b62-42fb-be61-d90c32ca0d53",
   "metadata": {},
   "outputs": [],
   "source": []
  }
 ],
 "metadata": {
  "kernelspec": {
   "display_name": "Python 3 (ipykernel)",
   "language": "python",
   "name": "python3"
  },
  "language_info": {
   "codemirror_mode": {
    "name": "ipython",
    "version": 3
   },
   "file_extension": ".py",
   "mimetype": "text/x-python",
   "name": "python",
   "nbconvert_exporter": "python",
   "pygments_lexer": "ipython3",
   "version": "3.11.0"
  }
 },
 "nbformat": 4,
 "nbformat_minor": 5
}
