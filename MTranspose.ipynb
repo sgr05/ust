{
 "cells": [
  {
   "cell_type": "markdown",
   "id": "6f838607-9365-4804-a753-735fc7dcac5a",
   "metadata": {},
   "source": [
    "## ASSIGNEMENT"
   ]
  },
  {
   "cell_type": "markdown",
   "id": "9999c428-dc6c-4eb2-adee-46da9333f3e1",
   "metadata": {},
   "source": [
    "## Matrix transpose using python\n"
   ]
  },
  {
   "cell_type": "code",
   "execution_count": 5,
   "id": "527897da-02d0-430e-9c36-63d07e186bf4",
   "metadata": {},
   "outputs": [
    {
     "name": "stdin",
     "output_type": "stream",
     "text": [
      "Enter the number of rows  3\n",
      "Enter the number of columns 3\n"
     ]
    },
    {
     "name": "stdout",
     "output_type": "stream",
     "text": [
      "Enter the elements row-wise with space seperating each:\n"
     ]
    },
    {
     "name": "stdin",
     "output_type": "stream",
     "text": [
      " 1 2 3\n",
      " 4 5 6\n",
      " 7 8 9\n"
     ]
    },
    {
     "name": "stdout",
     "output_type": "stream",
     "text": [
      "Original Matrix is\n",
      "[1, 2, 3]\n",
      "[4, 5, 6]\n",
      "[7, 8, 9]\n",
      "Transposed Matrix is\n",
      "[1, 4, 7]\n",
      "[2, 5, 8]\n",
      "[3, 6, 9]\n"
     ]
    }
   ],
   "source": [
    "\n",
    "def create_matrix(rows, cols):\n",
    "    matrix = []\n",
    "    print(\"Enter the elements row-wise with space seperating each:\")\n",
    "    for i in range(rows):\n",
    "        row = list(map(int, input().split()))\n",
    "        matrix.append(row)\n",
    "    return matrix\n",
    "\n",
    "\n",
    "def transpose_matrix(matrix):\n",
    "    rows = len(matrix)\n",
    "    cols = len(matrix[0])\n",
    "    transposed = [[matrix[j][i] for j in range(rows)] for i in range(cols)]\n",
    "    return transposed\n",
    "\n",
    "rows = int(input(\"Enter the number of rows \"))\n",
    "cols = int(input(\"Enter the number of columns\"))\n",
    "matrix = create_matrix(rows, cols)\n",
    "print(\"Original Matrix is\")\n",
    "for row in matrix:\n",
    "    print(row)\n",
    "\n",
    "transposed = transpose_matrix(matrix)\n",
    "print(\"Transposed Matrix is\")\n",
    "for row in transposed:\n",
    "    print(row)\n"
   ]
  },
  {
   "cell_type": "code",
   "execution_count": null,
   "id": "49ca13b5-1b62-42fb-be61-d90c32ca0d53",
   "metadata": {},
   "outputs": [],
   "source": []
  }
 ],
 "metadata": {
  "kernelspec": {
   "display_name": "Python 3 (ipykernel)",
   "language": "python",
   "name": "python3"
  },
  "language_info": {
   "codemirror_mode": {
    "name": "ipython",
    "version": 3
   },
   "file_extension": ".py",
   "mimetype": "text/x-python",
   "name": "python",
   "nbconvert_exporter": "python",
   "pygments_lexer": "ipython3",
   "version": "3.11.0"
  }
 },
 "nbformat": 4,
 "nbformat_minor": 5
}
