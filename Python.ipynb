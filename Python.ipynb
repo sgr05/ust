{
 "cells": [
  {
   "cell_type": "code",
   "execution_count": 258,
   "id": "4e1645e7-5b63-4d98-a0ba-d804e03317f8",
   "metadata": {},
   "outputs": [],
   "source": [
    "a=10;\n",
    "b=20;"
   ]
  },
  {
   "cell_type": "code",
   "execution_count": 259,
   "id": "e5ceaba5-1afc-4ec4-a9fd-772c6fc2fd28",
   "metadata": {},
   "outputs": [
    {
     "name": "stdout",
     "output_type": "stream",
     "text": [
      "10 20\n"
     ]
    }
   ],
   "source": [
    "print(a,b)"
   ]
  },
  {
   "cell_type": "code",
   "execution_count": 260,
   "id": "91b515c4-a42e-4ecb-a271-1b58566c8912",
   "metadata": {},
   "outputs": [
    {
     "name": "stdout",
     "output_type": "stream",
     "text": [
      "Value of a is 10 Value of b is 20\n"
     ]
    }
   ],
   "source": [
    "print(\"Value of a is {} Value of b is {}\".format(a,b))"
   ]
  },
  {
   "cell_type": "code",
   "execution_count": 261,
   "id": "2804dae8-3173-4bc2-a4fe-26966e1d68e9",
   "metadata": {},
   "outputs": [
    {
     "name": "stdout",
     "output_type": "stream",
     "text": [
      "HI,I am Sagar,I am a developer in UST\n"
     ]
    }
   ],
   "source": [
    "# Pass by valuew\n",
    "print(\"HI,I am {},I am a {} in {}\".format(\"Sagar\",\"developer\",\"UST\"))"
   ]
  },
  {
   "cell_type": "code",
   "execution_count": 262,
   "id": "399aa0b9-c040-4aba-9350-a87978feb528",
   "metadata": {},
   "outputs": [
    {
     "ename": "KeyboardInterrupt",
     "evalue": "Interrupted by user",
     "output_type": "error",
     "traceback": [
      "\u001b[31m---------------------------------------------------------------------------\u001b[39m",
      "\u001b[31mKeyboardInterrupt\u001b[39m                         Traceback (most recent call last)",
      "\u001b[36mCell\u001b[39m\u001b[36m \u001b[39m\u001b[32mIn[262]\u001b[39m\u001b[32m, line 2\u001b[39m\n\u001b[32m      1\u001b[39m \u001b[38;5;66;03m#input enter by user\u001b[39;00m\n\u001b[32m----> \u001b[39m\u001b[32m2\u001b[39m num=\u001b[38;5;28mint\u001b[39m(\u001b[38;5;28;43minput\u001b[39;49m\u001b[43m(\u001b[49m\u001b[33;43m\"\u001b[39;49m\u001b[33;43mEnter number\u001b[39;49m\u001b[33;43m\"\u001b[39;49m\u001b[43m)\u001b[49m)\n\u001b[32m      3\u001b[39m \u001b[38;5;28mprint\u001b[39m (num)\n",
      "\u001b[36mFile \u001b[39m\u001b[32mC:\\Program Files\\Python311\\Lib\\site-packages\\ipykernel\\kernelbase.py:1282\u001b[39m, in \u001b[36mKernel.raw_input\u001b[39m\u001b[34m(self, prompt)\u001b[39m\n\u001b[32m   1280\u001b[39m     msg = \u001b[33m\"\u001b[39m\u001b[33mraw_input was called, but this frontend does not support input requests.\u001b[39m\u001b[33m\"\u001b[39m\n\u001b[32m   1281\u001b[39m     \u001b[38;5;28;01mraise\u001b[39;00m StdinNotImplementedError(msg)\n\u001b[32m-> \u001b[39m\u001b[32m1282\u001b[39m \u001b[38;5;28;01mreturn\u001b[39;00m \u001b[38;5;28;43mself\u001b[39;49m\u001b[43m.\u001b[49m\u001b[43m_input_request\u001b[49m\u001b[43m(\u001b[49m\n\u001b[32m   1283\u001b[39m \u001b[43m    \u001b[49m\u001b[38;5;28;43mstr\u001b[39;49m\u001b[43m(\u001b[49m\u001b[43mprompt\u001b[49m\u001b[43m)\u001b[49m\u001b[43m,\u001b[49m\n\u001b[32m   1284\u001b[39m \u001b[43m    \u001b[49m\u001b[38;5;28;43mself\u001b[39;49m\u001b[43m.\u001b[49m\u001b[43m_parent_ident\u001b[49m\u001b[43m[\u001b[49m\u001b[33;43m\"\u001b[39;49m\u001b[33;43mshell\u001b[39;49m\u001b[33;43m\"\u001b[39;49m\u001b[43m]\u001b[49m\u001b[43m,\u001b[49m\n\u001b[32m   1285\u001b[39m \u001b[43m    \u001b[49m\u001b[38;5;28;43mself\u001b[39;49m\u001b[43m.\u001b[49m\u001b[43mget_parent\u001b[49m\u001b[43m(\u001b[49m\u001b[33;43m\"\u001b[39;49m\u001b[33;43mshell\u001b[39;49m\u001b[33;43m\"\u001b[39;49m\u001b[43m)\u001b[49m\u001b[43m,\u001b[49m\n\u001b[32m   1286\u001b[39m \u001b[43m    \u001b[49m\u001b[43mpassword\u001b[49m\u001b[43m=\u001b[49m\u001b[38;5;28;43;01mFalse\u001b[39;49;00m\u001b[43m,\u001b[49m\n\u001b[32m   1287\u001b[39m \u001b[43m\u001b[49m\u001b[43m)\u001b[49m\n",
      "\u001b[36mFile \u001b[39m\u001b[32mC:\\Program Files\\Python311\\Lib\\site-packages\\ipykernel\\kernelbase.py:1325\u001b[39m, in \u001b[36mKernel._input_request\u001b[39m\u001b[34m(self, prompt, ident, parent, password)\u001b[39m\n\u001b[32m   1322\u001b[39m \u001b[38;5;28;01mexcept\u001b[39;00m \u001b[38;5;167;01mKeyboardInterrupt\u001b[39;00m:\n\u001b[32m   1323\u001b[39m     \u001b[38;5;66;03m# re-raise KeyboardInterrupt, to truncate traceback\u001b[39;00m\n\u001b[32m   1324\u001b[39m     msg = \u001b[33m\"\u001b[39m\u001b[33mInterrupted by user\u001b[39m\u001b[33m\"\u001b[39m\n\u001b[32m-> \u001b[39m\u001b[32m1325\u001b[39m     \u001b[38;5;28;01mraise\u001b[39;00m \u001b[38;5;167;01mKeyboardInterrupt\u001b[39;00m(msg) \u001b[38;5;28;01mfrom\u001b[39;00m\u001b[38;5;250m \u001b[39m\u001b[38;5;28;01mNone\u001b[39;00m\n\u001b[32m   1326\u001b[39m \u001b[38;5;28;01mexcept\u001b[39;00m \u001b[38;5;167;01mException\u001b[39;00m:\n\u001b[32m   1327\u001b[39m     \u001b[38;5;28mself\u001b[39m.log.warning(\u001b[33m\"\u001b[39m\u001b[33mInvalid Message:\u001b[39m\u001b[33m\"\u001b[39m, exc_info=\u001b[38;5;28;01mTrue\u001b[39;00m)\n",
      "\u001b[31mKeyboardInterrupt\u001b[39m: Interrupted by user"
     ]
    }
   ],
   "source": [
    "#input enter by user\n",
    "num=int(input(\"Enter number\"))\n",
    "print (num)"
   ]
  },
  {
   "cell_type": "code",
   "execution_count": null,
   "id": "87b8b45c-7aac-4f6d-a855-5739c658bff5",
   "metadata": {},
   "outputs": [],
   "source": [
    "a=13\n",
    "b=3\n",
    "print(a/b)\n",
    "print(a//b)\n",
    "print(a**b)"
   ]
  },
  {
   "cell_type": "code",
   "execution_count": null,
   "id": "1b439ba5-4c2a-4b41-bc8a-33544b8d5840",
   "metadata": {},
   "outputs": [],
   "source": [
    "a= True\n",
    "b=False\n",
    "print(a,b)\n",
    "print(not b)\n",
    "print(a or b)\n",
    "print(a and b)"
   ]
  },
  {
   "cell_type": "code",
   "execution_count": null,
   "id": "420f7800-732b-4d9f-b355-e8aac85e8584",
   "metadata": {},
   "outputs": [],
   "source": [
    "a=10\n",
    "print(bin(a))"
   ]
  },
  {
   "cell_type": "code",
   "execution_count": null,
   "id": "aacb19ab-5148-498e-b5f4-31721daf73ba",
   "metadata": {},
   "outputs": [],
   "source": [
    "c=3\n",
    "d=3\n",
    "print(c is  d)# to find if the content of 2 variables are the same"
   ]
  },
  {
   "cell_type": "code",
   "execution_count": null,
   "id": "8627690b-87b6-4fa5-a895-47f5e0453087",
   "metadata": {},
   "outputs": [],
   "source": [
    "l1=[1,2,3]\n",
    "l2=[1,2,3]\n",
    "print(l1 is  l2)\n",
    "##In list, memory is allocated dynamically ,so every list will be having different addresses no matter if the content is same."
   ]
  },
  {
   "cell_type": "code",
   "execution_count": null,
   "id": "4ed620c4-3993-45e8-8305-b31c702abad7",
   "metadata": {},
   "outputs": [],
   "source": [
    "print(5 in l1)"
   ]
  },
  {
   "cell_type": "code",
   "execution_count": null,
   "id": "3f7ded62-7e46-4574-ba94-5e531848fb33",
   "metadata": {},
   "outputs": [],
   "source": [
    "print(1 in l1)"
   ]
  },
  {
   "cell_type": "code",
   "execution_count": null,
   "id": "9756f67d-7790-4251-85c1-4cc6e16f6724",
   "metadata": {},
   "outputs": [],
   "source": [
    "num=10\n",
    "if None: # None will not allow to get into loop\n",
    "    print(\"number is positive\")\n",
    "print(\"This will print always\")"
   ]
  },
  {
   "cell_type": "code",
   "execution_count": null,
   "id": "7e23e02e-4681-429d-87c0-694b098746b4",
   "metadata": {},
   "outputs": [],
   "source": [
    "num=19\n",
    "if(num>10 and 20>num):\n",
    "    print(\"1st division\")\n",
    "elif(num>10 and 20<num):\n",
    "     print(\"2nd division\")\n",
    "elif(num>10 and 12>=num):\n",
    "     print(\"3rd division\")\n",
    "else:\n",
    "    print(\"Fail\")"
   ]
  },
  {
   "cell_type": "code",
   "execution_count": null,
   "id": "970cdffc-938b-4690-8c1d-456f45ead65b",
   "metadata": {},
   "outputs": [],
   "source": [
    "a=10\n",
    "b=10\n",
    "c=122\n",
    "if (a>=b and a>=c):\n",
    "    print(a,\"is the largest\")\n",
    "elif (b>=c and b>=a):\n",
    "    print(b,\"is the largest\")\n",
    "else:\n",
    "    print(c,\"is the largeest\")"
   ]
  },
  {
   "cell_type": "markdown",
   "id": "495a7075-6dba-4e96-8b28-145d3a842964",
   "metadata": {},
   "source": [
    "## FOR LOOP"
   ]
  },
  {
   "cell_type": "code",
   "execution_count": null,
   "id": "d0821a38-5d95-4cf2-9b40-39b17678ff53",
   "metadata": {},
   "outputs": [],
   "source": [
    "a=[10,20,30,40,50]\n",
    "prod=2\n",
    "for i in a:\n",
    "    prod*=i\n",
    "    print(prod)"
   ]
  },
  {
   "cell_type": "code",
   "execution_count": null,
   "id": "4a56a035-674a-42dd-8954-6f239bb7077c",
   "metadata": {},
   "outputs": [],
   "source": [
    "for i in range(10):\n",
    "    print (i)"
   ]
  },
  {
   "cell_type": "code",
   "execution_count": null,
   "id": "bb687621-4481-4f38-a50d-8f19ea056eb2",
   "metadata": {},
   "outputs": [],
   "source": [
    "for i in range(1,10):\n",
    "    print (i)"
   ]
  },
  {
   "cell_type": "code",
   "execution_count": null,
   "id": "eeefe34a-f9ca-4e32-b5f8-77fcf6e046a3",
   "metadata": {},
   "outputs": [],
   "source": [
    "for i in range(1,10,2):\n",
    "    print (i)\n"
   ]
  },
  {
   "cell_type": "code",
   "execution_count": null,
   "id": "d1154e82-93b3-442a-a6e7-ce629f50c2fa",
   "metadata": {},
   "outputs": [],
   "source": [
    "for i in range(1,10,2):\n",
    "    print (i)\n",
    "else:\n",
    "    print(\"No more data available \")"
   ]
  },
  {
   "cell_type": "code",
   "execution_count": null,
   "id": "f5897a5f-0393-489e-bf16-d6508161339e",
   "metadata": {},
   "outputs": [],
   "source": [
    "## Odd or even\n",
    "odd=[]\n",
    "even=[]\n",
    "for i in range (1,10):\n",
    "    if (i%2==0):\n",
    "        even.append(i)\n",
    "    else:\n",
    "        odd.append(i)\n",
    "print(\"Odd number are\",odd)\n",
    "print(\"Even numbers are\",even)"
   ]
  },
  {
   "cell_type": "code",
   "execution_count": null,
   "id": "1529d834-e73f-440d-8bcc-4bf943f518f3",
   "metadata": {},
   "outputs": [],
   "source": [
    "## Prime\n",
    "prime=[]\n",
    "for i in range (1,10):\n",
    "    if (i<=2):\n",
    "        prime.append(i)\n",
    "    for x in range(2, i):\n",
    "        if i % x  != 0:\n",
    "            prime.append(i)\n",
    "print(prime)\n",
    "        "
   ]
  },
  {
   "cell_type": "code",
   "execution_count": null,
   "id": "3c25b54a-0af9-4ced-a74f-90bcb583e12c",
   "metadata": {},
   "outputs": [],
   "source": [
    "prime = []\n",
    "for i in range(1, 10):\n",
    "    if i > 1:  # Prime numbers are greater than 1\n",
    "        for x in range(2, i):\n",
    "            if i % x == 0:  # If divisible, it's not prime\n",
    "                break\n",
    "        else:\n",
    "            prime.append(i)  # Append if no divisors were found\n",
    "print(prime)\n"
   ]
  },
  {
   "cell_type": "markdown",
   "id": "075596b3-6b1a-4e3b-8eea-02eab06cdd1d",
   "metadata": {},
   "source": [
    "## Function"
   ]
  },
  {
   "cell_type": "code",
   "execution_count": null,
   "id": "1a313e2a-d2ba-4ae8-83f3-d41ea735e5fd",
   "metadata": {},
   "outputs": [],
   "source": [
    "def show_name(name):\n",
    "    '''\n",
    "    this function shows the name\n",
    "    '''\n",
    "    print(\"My name is\",str(name))\n",
    "show_name(\"Sagar\")"
   ]
  },
  {
   "cell_type": "code",
   "execution_count": null,
   "id": "4ad7430a-f8be-4a2d-8ced-2a90687648b0",
   "metadata": {},
   "outputs": [],
   "source": [
    "def get_sum(lst):\n",
    "    all=0\n",
    "    for num in lst:\n",
    "        all+=num\n",
    "        #print(all)\n",
    "    return all\n",
    "get_sum([1,2,3,4])\n",
    "#print(all)"
   ]
  },
  {
   "cell_type": "code",
   "execution_count": null,
   "id": "b43d0e78-45b7-4d97-a924-2a62aee1a75e",
   "metadata": {},
   "outputs": [],
   "source": [
    "## HCF of 2 numbers\n",
    "def hcf(a,b):\n",
    "    a1=[]\n",
    "    b1=[]\n",
    "    for i in range(1,a+1):\n",
    "        if a % i == 0:  \n",
    "            a1.append(i)\n",
    "    for k in range(1,b+1):\n",
    "        if b % k == 0: \n",
    "            b1.append(k)\n",
    "    common_elements = list(set(a1) & set(b1))\n",
    "    Hcf=max(common_elements)\n",
    "    return Hcf\n",
    "    \n",
    "        \n",
    "        \n",
    "    "
   ]
  },
  {
   "cell_type": "code",
   "execution_count": null,
   "id": "6aaaa227-7fa4-4ae3-a014-3137edf1dd66",
   "metadata": {},
   "outputs": [],
   "source": [
    "hcf(9,81)"
   ]
  },
  {
   "cell_type": "code",
   "execution_count": null,
   "id": "8c94547b-bfdf-4297-94df-d81a0ab8d15b",
   "metadata": {},
   "outputs": [],
   "source": [
    "# abs: whatever you pass inside abs it will return positive value\n",
    "a=-100\n",
    "print(abs(a))"
   ]
  },
  {
   "cell_type": "code",
   "execution_count": null,
   "id": "4de28e88-fd04-423e-8994-59718fab5b7f",
   "metadata": {},
   "outputs": [],
   "source": [
    "lst =[1,2,3,4,-4,0]\n",
    "print(all(lst))"
   ]
  },
  {
   "cell_type": "code",
   "execution_count": null,
   "id": "732d1518-6b39-4b35-b5be-41fb5f66808f",
   "metadata": {},
   "outputs": [],
   "source": [
    "lst=[]\n",
    "print(type(lst))\n",
    "print(dir(lst))\n",
    "\n"
   ]
  },
  {
   "cell_type": "markdown",
   "id": "1c51e042-71c1-4598-987f-cdbbb8c92f20",
   "metadata": {},
   "source": [
    "## enumerate"
   ]
  },
  {
   "cell_type": "code",
   "execution_count": null,
   "id": "0b2bf046-8de6-485d-adcd-bc0307c7e73f",
   "metadata": {},
   "outputs": [],
   "source": [
    "lst=[10,20,30,40,50]\n",
    "for index,num in enumerate(lst,start=0):\n",
    "    print(\"index {0} has value {1}\".format(index,num))"
   ]
  },
  {
   "cell_type": "markdown",
   "id": "526279fb-cdb0-4ee8-a82b-f41f11527aa1",
   "metadata": {},
   "source": [
    "## Filter"
   ]
  },
  {
   "cell_type": "code",
   "execution_count": null,
   "id": "de659fee-170a-44b6-9631-5fca76d0344b",
   "metadata": {},
   "outputs": [],
   "source": [
    "def check_positive(num):\n",
    "    if num>0:\n",
    "        return num\n",
    "        "
   ]
  },
  {
   "cell_type": "code",
   "execution_count": null,
   "id": "96238aa1-7d10-4df7-b1d4-cbee1e9bd771",
   "metadata": {},
   "outputs": [],
   "source": [
    "lst_lst=range(-10,10)\n",
    "lst_positive= list(filter(lambda x:x>0,lst_lst))\n",
    "#lst_positive=list(filter(lambda n:n%2!=0,lst_lst))\n",
    "for i in lst_positive:\n",
    "    print(i)"
   ]
  },
  {
   "cell_type": "markdown",
   "id": "cd10c860-a28e-437e-97b4-7b4337269e3f",
   "metadata": {},
   "source": [
    "# map"
   ]
  },
  {
   "cell_type": "code",
   "execution_count": null,
   "id": "df1c45f1-4aba-4fce-8e5f-6af90aa1d7ae",
   "metadata": {},
   "outputs": [],
   "source": [
    "Squared= list(map(lambda x: x**2,[1,2,3,4]))\n",
    "print(Squared)"
   ]
  },
  {
   "cell_type": "markdown",
   "id": "27ebf3d8-4034-40da-8ebb-d516541f3305",
   "metadata": {},
   "source": [
    "## Reduce"
   ]
  },
  {
   "cell_type": "code",
   "execution_count": null,
   "id": "ae965281-156d-447f-94fa-95d49f1d90a7",
   "metadata": {},
   "outputs": [],
   "source": [
    "from functools import reduce\n",
    "lst=[1,2,3,4]\n",
    "product = reduce (lambda x,y:x*y,lst)\n",
    "print(product)"
   ]
  },
  {
   "cell_type": "code",
   "execution_count": null,
   "id": "990d5ba5-08f2-4f97-b55c-d386fc5291e9",
   "metadata": {},
   "outputs": [],
   "source": [
    "def add(a,b):\n",
    "    return a+b\n",
    "def sub(a,b):\n",
    "    return a-b\n",
    "def mult(a,b):\n",
    "    return a*b\n",
    "def div(a,b):\n",
    "    return a/b\n",
    "def get_integer_input(num):\n",
    "    while True:\n",
    "        try:\n",
    "            value = int(input(num))\n",
    "            return value\n",
    "        except ValueError:\n",
    "            print(\"Enter a valid number.\")\n",
    "x=get_integer_input(\"Enter first number\")\n",
    "y=get_integer_input(\"Enter second number\")\n",
    "print(\"Choose your operation  \")\n",
    "print(\"Enter 1 for addition\")\n",
    "print(\"Enter 2 for Sub\")\n",
    "print(\"Enter 3 for Mul\")\n",
    "print(\"Enter 4 for div\")\n",
    "while True:\n",
    "    op=int(input(\"Enter your choice\"))\n",
    "    if op==1:\n",
    "        print(add(x,y))\n",
    "        break\n",
    "    elif op==2:\n",
    "        print(sub(x,y))\n",
    "        break\n",
    "    elif op==3:\n",
    "        print(mult(x,y))\n",
    "        break\n",
    "    elif op==4:\n",
    "        print(div(x,y))\n",
    "        break\n",
    "    else:\n",
    "        print(\"Invalid input\")\n",
    "    \n",
    "    \n"
   ]
  },
  {
   "cell_type": "code",
   "execution_count": null,
   "id": "82769174-b664-4179-ac83-fd2ae3b30eb8",
   "metadata": {},
   "outputs": [],
   "source": [
    "def add(a,b):\n",
    "    return a+b"
   ]
  },
  {
   "cell_type": "code",
   "execution_count": null,
   "id": "32546f98-2359-462a-a6d9-642c5a216cc7",
   "metadata": {},
   "outputs": [],
   "source": [
    "add(1,2)"
   ]
  },
  {
   "cell_type": "code",
   "execution_count": null,
   "id": "ca875215-4dbd-4ee7-8155-7c86fac531de",
   "metadata": {},
   "outputs": [],
   "source": [
    "a=2\n",
    "def fu(b):\n",
    "    a=3\n",
    "    print(a)\n",
    "print(a)"
   ]
  },
  {
   "cell_type": "markdown",
   "id": "d82e9cc6-b1dd-42ea-acee-6dacaa0892c1",
   "metadata": {},
   "source": [
    "## Default function"
   ]
  },
  {
   "cell_type": "code",
   "execution_count": null,
   "id": "697afd46-9250-4e30-bdbb-e65c3d24e88f",
   "metadata": {},
   "outputs": [],
   "source": [
    "# Case 1\n",
    "def say(x,y=3,z=4):\n",
    "    return x+y+z\n",
    "say(2)"
   ]
  },
  {
   "cell_type": "code",
   "execution_count": null,
   "id": "c61746d2-ba94-4238-8df6-7df5a381216f",
   "metadata": {},
   "outputs": [],
   "source": [
    "#Case 2\n",
    "def say(x,y=3,z=4mg):\n",
    "    return x+y+z\n",
    "say(2,y=2)"
   ]
  },
  {
   "cell_type": "code",
   "execution_count": null,
   "id": "a91f2e1e-bd36-4d2e-9ddc-f66138ebbde8",
   "metadata": {},
   "outputs": [],
   "source": [
    "say(2,2,2)"
   ]
  },
  {
   "cell_type": "code",
   "execution_count": null,
   "id": "146c5907-c879-476f-bc82-33242fb537b0",
   "metadata": {},
   "outputs": [],
   "source": [
    "say(1,1,2)"
   ]
  },
  {
   "cell_type": "markdown",
   "id": "fe1a9e11-81de-4445-a532-a4e2ff83f36a",
   "metadata": {},
   "source": [
    "## FILE HANDLING"
   ]
  },
  {
   "cell_type": "code",
   "execution_count": 327,
   "id": "4270a357-421a-4473-8ec8-dc5e62aea3e8",
   "metadata": {},
   "outputs": [],
   "source": [
    "import os"
   ]
  },
  {
   "cell_type": "code",
   "execution_count": 328,
   "id": "04de94a1-b669-442e-ac87-5390ed8757f2",
   "metadata": {},
   "outputs": [
    {
     "data": {
      "text/plain": [
       "'C:\\\\Users'"
      ]
     },
     "execution_count": 328,
     "metadata": {},
     "output_type": "execute_result"
    }
   ],
   "source": [
    "os.getcwd()"
   ]
  },
  {
   "cell_type": "code",
   "execution_count": 329,
   "id": "97612cb8-c066-48af-b516-86d854d6fb3f",
   "metadata": {},
   "outputs": [],
   "source": [
    "os.getenv('C:\\\\Users\\\\Administrator\\\\Documents')\n"
   ]
  },
  {
   "cell_type": "code",
   "execution_count": 330,
   "id": "cc6e97c8-5adf-4bc5-9af5-02215db856ba",
   "metadata": {},
   "outputs": [
    {
     "data": {
      "text/plain": [
       "21"
      ]
     },
     "execution_count": 330,
     "metadata": {},
     "output_type": "execute_result"
    }
   ],
   "source": [
    "lst=open(\"my.txt\",\"w\")\n",
    "lst.write(\"This is first line \\n\")\n",
    "lst.write(\"This is second line \\n\")"
   ]
  },
  {
   "cell_type": "code",
   "execution_count": 331,
   "id": "bce7a238-6344-4ad8-8876-d899508f8c60",
   "metadata": {},
   "outputs": [],
   "source": [
    "lst.close()"
   ]
  },
  {
   "cell_type": "code",
   "execution_count": 332,
   "id": "0efe3f4e-e5bb-411f-a045-c0206f6796c0",
   "metadata": {},
   "outputs": [],
   "source": [
    "ls=open(\"my.txt\",\"r\")\n",
    "ls.read()\n",
    "ls.close()"
   ]
  },
  {
   "cell_type": "code",
   "execution_count": 333,
   "id": "2cbf4e05-6901-4a72-8cbd-430d47098ee8",
   "metadata": {},
   "outputs": [],
   "source": [
    "ls=open(\"my.txt\",\"r\")\n",
    "ls.read(4)\n",
    "ls.close()"
   ]
  },
  {
   "cell_type": "code",
   "execution_count": 334,
   "id": "4146763e-e6aa-4d47-85cf-5b4bcb4b226e",
   "metadata": {},
   "outputs": [],
   "source": [
    "ls=open(\"my.txt\",\"r\")\n",
    "ls.read(10)\n",
    "ls.close()"
   ]
  },
  {
   "cell_type": "code",
   "execution_count": 335,
   "id": "a5464332-d3bf-4c3e-bb13-b016cacec4ea",
   "metadata": {},
   "outputs": [
    {
     "data": {
      "text/plain": [
       "0"
      ]
     },
     "execution_count": 335,
     "metadata": {},
     "output_type": "execute_result"
    }
   ],
   "source": [
    "ls=open(\"my.txt\",\"r\")\n",
    "ls.tell()"
   ]
  },
  {
   "cell_type": "code",
   "execution_count": 336,
   "id": "86378ee2-d12a-4704-bbe3-07bd9f3c0106",
   "metadata": {},
   "outputs": [
    {
     "data": {
      "text/plain": [
       "3"
      ]
     },
     "execution_count": 336,
     "metadata": {},
     "output_type": "execute_result"
    }
   ],
   "source": [
    "ls.seek(3)"
   ]
  },
  {
   "cell_type": "code",
   "execution_count": 337,
   "id": "be5c3048-8c43-41f7-b919-0478a6eeb6bc",
   "metadata": {},
   "outputs": [
    {
     "data": {
      "text/plain": [
       "3"
      ]
     },
     "execution_count": 337,
     "metadata": {},
     "output_type": "execute_result"
    }
   ],
   "source": [
    "ls.tell()"
   ]
  },
  {
   "cell_type": "code",
   "execution_count": 338,
   "id": "8222dc4e-1d43-4716-87d5-bb834d7744d0",
   "metadata": {},
   "outputs": [],
   "source": [
    "ls.close()"
   ]
  },
  {
   "cell_type": "code",
   "execution_count": 339,
   "id": "dfc1267c-07b4-4b3e-b55a-acb93801f5c5",
   "metadata": {},
   "outputs": [
    {
     "name": "stdout",
     "output_type": "stream",
     "text": [
      "This is first line \n",
      "This is second line \n",
      "\n"
     ]
    }
   ],
   "source": [
    "ls=open(\"my.txt\",\"r\")\n",
    "print(ls.read())\n",
    "ls.close()"
   ]
  },
  {
   "cell_type": "code",
   "execution_count": 340,
   "id": "0b08d232-9201-4a6d-a9a0-8089b44d4e6b",
   "metadata": {},
   "outputs": [
    {
     "name": "stdout",
     "output_type": "stream",
     "text": [
      "This is first line \n",
      "\n",
      "This is second line \n",
      "\n"
     ]
    }
   ],
   "source": [
    "ls=open(\"my.txt\",\"r\")\n",
    "ls.seek(0)\n",
    "for line in ls :\n",
    "    print(line)\n",
    "ls.close()"
   ]
  },
  {
   "cell_type": "code",
   "execution_count": 341,
   "id": "d180f44d-bdc7-4a63-9e2c-d6cf59013ad9",
   "metadata": {},
   "outputs": [],
   "source": [
    "ls=open(\"my.txt\",\"r\")\n",
    "ls.readline()\n",
    "ls.close()"
   ]
  },
  {
   "cell_type": "code",
   "execution_count": 342,
   "id": "2e2b3cba-4126-4935-abda-6885734b8d6d",
   "metadata": {},
   "outputs": [],
   "source": [
    "os.rename(\"my.txt\",\"your.txt\")"
   ]
  },
  {
   "cell_type": "code",
   "execution_count": 344,
   "id": "7a770b7b-b116-4e70-814e-788cf388f1af",
   "metadata": {},
   "outputs": [],
   "source": [
    "os.remove(\"your.txt\")"
   ]
  },
  {
   "cell_type": "markdown",
   "id": "1f62259b-53ac-454d-b418-7b0a894949ff",
   "metadata": {},
   "source": [
    "## Python directory and file management"
   ]
  },
  {
   "cell_type": "code",
   "execution_count": 305,
   "id": "278b1e3b-15ee-46e7-a60e-d8e9f3be6f62",
   "metadata": {},
   "outputs": [
    {
     "data": {
      "text/plain": [
       "'C:\\\\Users\\\\Administrator\\\\Documents'"
      ]
     },
     "execution_count": 305,
     "metadata": {},
     "output_type": "execute_result"
    }
   ],
   "source": [
    "os.getcwd()"
   ]
  },
  {
   "cell_type": "code",
   "execution_count": 306,
   "id": "ca9cacec-1c27-4957-a902-8872b7bbe1bf",
   "metadata": {},
   "outputs": [],
   "source": [
    "os.chdir(\"C:\\\\Users\\\\Administrator\")"
   ]
  },
  {
   "cell_type": "code",
   "execution_count": 307,
   "id": "dbe13693-2da9-43b0-a6c3-1d0e96e5a44d",
   "metadata": {},
   "outputs": [
    {
     "data": {
      "text/plain": [
       "'C:\\\\Users\\\\Administrator'"
      ]
     },
     "execution_count": 307,
     "metadata": {},
     "output_type": "execute_result"
    }
   ],
   "source": [
    "os.getcwd()"
   ]
  },
  {
   "cell_type": "code",
   "execution_count": 308,
   "id": "d98c76e3-c742-45b4-bca1-e8b6770e5de8",
   "metadata": {},
   "outputs": [],
   "source": [
    "os.chdir('C:\\\\Users\\\\Administrator\\\\Documents')"
   ]
  },
  {
   "cell_type": "code",
   "execution_count": 309,
   "id": "cfa7a566-58cf-403d-acb2-fe3e34936e66",
   "metadata": {},
   "outputs": [
    {
     "data": {
      "text/plain": [
       "'C:\\\\Users\\\\Administrator\\\\Documents'"
      ]
     },
     "execution_count": 309,
     "metadata": {},
     "output_type": "execute_result"
    }
   ],
   "source": [
    "os.getcwd()"
   ]
  },
  {
   "cell_type": "code",
   "execution_count": 324,
   "id": "a3c3cd01-dd4c-44f0-91dc-25e3f14a54f6",
   "metadata": {},
   "outputs": [],
   "source": [
    "os.chdir(\"C:\\\\Users\")"
   ]
  },
  {
   "cell_type": "code",
   "execution_count": 325,
   "id": "d46267f8-60ec-417b-92d2-a172e3143c27",
   "metadata": {},
   "outputs": [
    {
     "data": {
      "text/plain": [
       "['Administrator',\n",
       " 'All Users',\n",
       " 'Default',\n",
       " 'Default User',\n",
       " 'desktop.ini',\n",
       " 'Public',\n",
       " 'User']"
      ]
     },
     "execution_count": 325,
     "metadata": {},
     "output_type": "execute_result"
    }
   ],
   "source": [
    "os.listdir()"
   ]
  },
  {
   "cell_type": "code",
   "execution_count": 326,
   "id": "2344e462-ac91-4aa1-b26c-4c6869af685c",
   "metadata": {},
   "outputs": [
    {
     "data": {
      "text/plain": [
       "['Administrator',\n",
       " 'All Users',\n",
       " 'Default',\n",
       " 'Default User',\n",
       " 'desktop.ini',\n",
       " 'Public',\n",
       " 'User']"
      ]
     },
     "execution_count": 326,
     "metadata": {},
     "output_type": "execute_result"
    }
   ],
   "source": [
    "os.listdir(os.getcwd())"
   ]
  },
  {
   "cell_type": "code",
   "execution_count": 345,
   "id": "060f7065-0a7b-4bf9-85ee-d30f9b6882a1",
   "metadata": {},
   "outputs": [],
   "source": [
    "os.chdir('C:\\\\Users\\\\Administrator\\\\Documents')"
   ]
  },
  {
   "cell_type": "code",
   "execution_count": 346,
   "id": "a26a0d9d-7190-489a-8f9e-f9f5f6408340",
   "metadata": {},
   "outputs": [],
   "source": [
    "os.mkdir('Sagar')"
   ]
  },
  {
   "cell_type": "code",
   "execution_count": 347,
   "id": "ae089594-7b7d-4ad6-87bf-7b759707543a",
   "metadata": {},
   "outputs": [],
   "source": [
    "os.rmdir(\"Sagar\")"
   ]
  },
  {
   "cell_type": "code",
   "execution_count": 348,
   "id": "3aa8e687-d076-4ac9-92fe-96443615f02f",
   "metadata": {},
   "outputs": [
    {
     "data": {
      "text/plain": [
       "'C:\\\\Users\\\\Administrator\\\\Documents'"
      ]
     },
     "execution_count": 348,
     "metadata": {},
     "output_type": "execute_result"
    }
   ],
   "source": [
    "os.getcwd()"
   ]
  },
  {
   "cell_type": "code",
   "execution_count": 362,
   "id": "f77c0de5-6734-41fd-bc57-04ec6680176b",
   "metadata": {},
   "outputs": [
    {
     "name": "stdout",
     "output_type": "stream",
     "text": [
      "This is first line \n",
      "This is second line \n",
      "\n"
     ]
    }
   ],
   "source": [
    "# Open the file in write mode\n",
    "#By using with open the file is automatically closed\n",
    "with open(\"myy.txt\", \"w\") as lst:\n",
    "    # Write lines to the file\n",
    "    lst.write(\"This is first line \\n\")\n",
    "    lst.write(\"This is second line \\n\")\n",
    "with open(\"myy.txt\", \"r\") as lst:    \n",
    "    print(lst.read())"
   ]
  },
  {
   "cell_type": "code",
   "execution_count": 363,
   "id": "e58dc6f9-9498-4c31-a9b3-bbafb231fe4c",
   "metadata": {},
   "outputs": [],
   "source": [
    "os.remove(\"myy.txt\")"
   ]
  },
  {
   "cell_type": "code",
   "execution_count": 366,
   "id": "2aeed9fc-9d48-4d0f-921a-9a4c2a8c24ac",
   "metadata": {},
   "outputs": [
    {
     "data": {
      "text/plain": [
       "21"
      ]
     },
     "execution_count": 366,
     "metadata": {},
     "output_type": "execute_result"
    }
   ],
   "source": [
    "ls=open(\"my.txt\",\"w\")\n",
    "ls.write(\"This is first line \\n\")\n",
    "ls.write(\"This is second line \\n\")"
   ]
  },
  {
   "cell_type": "code",
   "execution_count": 367,
   "id": "9cd4b057-3943-4e5a-8897-3b6adb85912c",
   "metadata": {},
   "outputs": [
    {
     "ename": "PermissionError",
     "evalue": "[WinError 32] The process cannot access the file because it is being used by another process: 'my.txt'",
     "output_type": "error",
     "traceback": [
      "\u001b[31m---------------------------------------------------------------------------\u001b[39m",
      "\u001b[31mPermissionError\u001b[39m                           Traceback (most recent call last)",
      "\u001b[36mCell\u001b[39m\u001b[36m \u001b[39m\u001b[32mIn[367]\u001b[39m\u001b[32m, line 1\u001b[39m\n\u001b[32m----> \u001b[39m\u001b[32m1\u001b[39m \u001b[43mos\u001b[49m\u001b[43m.\u001b[49m\u001b[43mremove\u001b[49m\u001b[43m(\u001b[49m\u001b[33;43m\"\u001b[39;49m\u001b[33;43mmy.txt\u001b[39;49m\u001b[33;43m\"\u001b[39;49m\u001b[43m)\u001b[49m\n",
      "\u001b[31mPermissionError\u001b[39m: [WinError 32] The process cannot access the file because it is being used by another process: 'my.txt'"
     ]
    }
   ],
   "source": [
    "os.remove(\"my.txt\")"
   ]
  },
  {
   "cell_type": "markdown",
   "id": "f1311cbf-cef8-4863-84c6-96f34d2cda87",
   "metadata": {},
   "source": [
    "## ERRORs"
   ]
  },
  {
   "cell_type": "code",
   "execution_count": 368,
   "id": "8dc62963-d917-463b-8331-22f75b2236b4",
   "metadata": {},
   "outputs": [],
   "source": [
    "#There are two types of error compile time and run time error"
   ]
  },
  {
   "cell_type": "code",
   "execution_count": 370,
   "id": "334481c4-7644-4b17-896d-b86c342baf8c",
   "metadata": {},
   "outputs": [
    {
     "data": {
      "text/plain": [
       "['ArithmeticError',\n",
       " 'AssertionError',\n",
       " 'AttributeError',\n",
       " 'BaseException',\n",
       " 'BaseExceptionGroup',\n",
       " 'BlockingIOError',\n",
       " 'BrokenPipeError',\n",
       " 'BufferError',\n",
       " 'BytesWarning',\n",
       " 'ChildProcessError',\n",
       " 'ConnectionAbortedError',\n",
       " 'ConnectionError',\n",
       " 'ConnectionRefusedError',\n",
       " 'ConnectionResetError',\n",
       " 'DeprecationWarning',\n",
       " 'EOFError',\n",
       " 'Ellipsis',\n",
       " 'EncodingWarning',\n",
       " 'EnvironmentError',\n",
       " 'Exception',\n",
       " 'ExceptionGroup',\n",
       " 'False',\n",
       " 'FileExistsError',\n",
       " 'FileNotFoundError',\n",
       " 'FloatingPointError',\n",
       " 'FutureWarning',\n",
       " 'GeneratorExit',\n",
       " 'IOError',\n",
       " 'ImportError',\n",
       " 'ImportWarning',\n",
       " 'IndentationError',\n",
       " 'IndexError',\n",
       " 'InterruptedError',\n",
       " 'IsADirectoryError',\n",
       " 'KeyError',\n",
       " 'KeyboardInterrupt',\n",
       " 'LookupError',\n",
       " 'MemoryError',\n",
       " 'ModuleNotFoundError',\n",
       " 'NameError',\n",
       " 'None',\n",
       " 'NotADirectoryError',\n",
       " 'NotImplemented',\n",
       " 'NotImplementedError',\n",
       " 'OSError',\n",
       " 'OverflowError',\n",
       " 'PendingDeprecationWarning',\n",
       " 'PermissionError',\n",
       " 'ProcessLookupError',\n",
       " 'RecursionError',\n",
       " 'ReferenceError',\n",
       " 'ResourceWarning',\n",
       " 'RuntimeError',\n",
       " 'RuntimeWarning',\n",
       " 'StopAsyncIteration',\n",
       " 'StopIteration',\n",
       " 'SyntaxError',\n",
       " 'SyntaxWarning',\n",
       " 'SystemError',\n",
       " 'SystemExit',\n",
       " 'TabError',\n",
       " 'TimeoutError',\n",
       " 'True',\n",
       " 'TypeError',\n",
       " 'UnboundLocalError',\n",
       " 'UnicodeDecodeError',\n",
       " 'UnicodeEncodeError',\n",
       " 'UnicodeError',\n",
       " 'UnicodeTranslateError',\n",
       " 'UnicodeWarning',\n",
       " 'UserWarning',\n",
       " 'ValueError',\n",
       " 'Warning',\n",
       " 'WindowsError',\n",
       " 'ZeroDivisionError',\n",
       " '__IPYTHON__',\n",
       " '__build_class__',\n",
       " '__debug__',\n",
       " '__doc__',\n",
       " '__import__',\n",
       " '__loader__',\n",
       " '__name__',\n",
       " '__package__',\n",
       " '__spec__',\n",
       " 'abs',\n",
       " 'aiter',\n",
       " 'all',\n",
       " 'anext',\n",
       " 'any',\n",
       " 'ascii',\n",
       " 'bin',\n",
       " 'bool',\n",
       " 'breakpoint',\n",
       " 'bytearray',\n",
       " 'bytes',\n",
       " 'callable',\n",
       " 'chr',\n",
       " 'classmethod',\n",
       " 'compile',\n",
       " 'complex',\n",
       " 'copyright',\n",
       " 'credits',\n",
       " 'delattr',\n",
       " 'dict',\n",
       " 'dir',\n",
       " 'display',\n",
       " 'divmod',\n",
       " 'enumerate',\n",
       " 'eval',\n",
       " 'exec',\n",
       " 'execfile',\n",
       " 'filter',\n",
       " 'float',\n",
       " 'format',\n",
       " 'frozenset',\n",
       " 'get_ipython',\n",
       " 'getattr',\n",
       " 'globals',\n",
       " 'hasattr',\n",
       " 'hash',\n",
       " 'help',\n",
       " 'hex',\n",
       " 'id',\n",
       " 'input',\n",
       " 'int',\n",
       " 'isinstance',\n",
       " 'issubclass',\n",
       " 'iter',\n",
       " 'len',\n",
       " 'license',\n",
       " 'list',\n",
       " 'locals',\n",
       " 'map',\n",
       " 'max',\n",
       " 'memoryview',\n",
       " 'min',\n",
       " 'next',\n",
       " 'object',\n",
       " 'oct',\n",
       " 'open',\n",
       " 'ord',\n",
       " 'pow',\n",
       " 'print',\n",
       " 'property',\n",
       " 'range',\n",
       " 'repr',\n",
       " 'reversed',\n",
       " 'round',\n",
       " 'runfile',\n",
       " 'set',\n",
       " 'setattr',\n",
       " 'slice',\n",
       " 'sorted',\n",
       " 'staticmethod',\n",
       " 'str',\n",
       " 'sum',\n",
       " 'super',\n",
       " 'tuple',\n",
       " 'type',\n",
       " 'vars',\n",
       " 'zip']"
      ]
     },
     "execution_count": 370,
     "metadata": {},
     "output_type": "execute_result"
    }
   ],
   "source": [
    "dir(__builtins__)"
   ]
  },
  {
   "cell_type": "markdown",
   "id": "b4d88d15-a4c5-4807-9d3c-350a243863b2",
   "metadata": {},
   "source": [
    "## Exception handling"
   ]
  },
  {
   "cell_type": "code",
   "execution_count": 385,
   "id": "6010918b-4e67-4ba2-8f18-82c1fda44bb9",
   "metadata": {},
   "outputs": [
    {
     "name": "stdout",
     "output_type": "stream",
     "text": [
      "Got value as a\n",
      "You encountered an error , Error is (<class 'ValueError'>, ValueError(\"invalid literal for int() with base 10: 'a'\"), <traceback object at 0x0000011E3D672480>)\n",
      "next entry\n",
      "Got value as 0\n",
      "You encountered an error , Error is (<class 'ZeroDivisionError'>, ZeroDivisionError('division by zero'), <traceback object at 0x0000011E3D670580>)\n",
      "next entry\n",
      "Got value as 2\n",
      "When we divide 1 with the given entry we get 0.5\n",
      "Got value as 0\n",
      "You encountered an error , Error is (<class 'ZeroDivisionError'>, ZeroDivisionError('division by zero'), <traceback object at 0x0000011E3D65E540>)\n",
      "next entry\n"
     ]
    }
   ],
   "source": [
    "import sys\n",
    "lst=[\"a\",0,2,0]\n",
    "for i in  lst:\n",
    "    try:\n",
    "        print(\"Got value as\",i)\n",
    "        print(\"When we divide 1 with the given entry we get\",1/int(i))\n",
    "    except:\n",
    "        print(\"You encountered an error , Error is\",sys.exc_info())\n",
    "        print(\"next entry\")\n",
    "        "
   ]
  },
  {
   "cell_type": "markdown",
   "id": "c19f23c8-ab3b-41d9-afa2-9d657ac77cc5",
   "metadata": {},
   "source": [
    "## Catching specific exception"
   ]
  },
  {
   "cell_type": "code",
   "execution_count": 386,
   "id": "39a1fc25-7460-4c1f-b6ec-2578197b5dc6",
   "metadata": {},
   "outputs": [
    {
     "name": "stdout",
     "output_type": "stream",
     "text": [
      "Entered value is a\n",
      "This is value error\n",
      "Entered value is 0\n",
      "This is Zeroivision error\n",
      "Entered value is 2\n",
      "When we divide 1 with the given entry we get 0.5\n",
      "Entered value is 0\n",
      "This is Zeroivision error\n"
     ]
    }
   ],
   "source": [
    "for i in lst:\n",
    "    try:\n",
    "        print(\"Entered value is\",i)\n",
    "        print(\"When we divide 1 with the given entry we get\",1/int(i))\n",
    "    except(ValueError):\n",
    "        print(\"This is value error\")\n",
    "    except(ZeroDivisionError):\n",
    "        print(\"This is Zeroivision error\")\n",
    "    except:\n",
    "        print(\"This is other error\")\n",
    "        "
   ]
  },
  {
   "cell_type": "code",
   "execution_count": 387,
   "id": "37930a48-6978-4753-b62b-b53e549bf83c",
   "metadata": {},
   "outputs": [
    {
     "name": "stdout",
     "output_type": "stream",
     "text": [
      "Cannot open file\n"
     ]
    },
    {
     "ename": "FileNotFoundError",
     "evalue": "[Errno 2] No such file or directory: 'nithin'",
     "output_type": "error",
     "traceback": [
      "\u001b[31m---------------------------------------------------------------------------\u001b[39m",
      "\u001b[31mFileNotFoundError\u001b[39m                         Traceback (most recent call last)",
      "\u001b[36mCell\u001b[39m\u001b[36m \u001b[39m\u001b[32mIn[387]\u001b[39m\u001b[32m, line 2\u001b[39m\n\u001b[32m      1\u001b[39m \u001b[38;5;28;01mtry\u001b[39;00m:\n\u001b[32m----> \u001b[39m\u001b[32m2\u001b[39m     \u001b[38;5;28;01mwith\u001b[39;00m \u001b[38;5;28;43mopen\u001b[39;49m\u001b[43m \u001b[49m\u001b[43m(\u001b[49m\u001b[33;43m\"\u001b[39;49m\u001b[33;43mnithin\u001b[39;49m\u001b[33;43m\"\u001b[39;49m\u001b[43m)\u001b[49m \u001b[38;5;28;01mas\u001b[39;00m a:\n\u001b[32m      3\u001b[39m         a.read()\n\u001b[32m      4\u001b[39m \u001b[38;5;28;01mfinally\u001b[39;00m:\n",
      "\u001b[36mFile \u001b[39m\u001b[32mC:\\Program Files\\Python311\\Lib\\site-packages\\IPython\\core\\interactiveshell.py:326\u001b[39m, in \u001b[36m_modified_open\u001b[39m\u001b[34m(file, *args, **kwargs)\u001b[39m\n\u001b[32m    319\u001b[39m \u001b[38;5;28;01mif\u001b[39;00m file \u001b[38;5;129;01min\u001b[39;00m {\u001b[32m0\u001b[39m, \u001b[32m1\u001b[39m, \u001b[32m2\u001b[39m}:\n\u001b[32m    320\u001b[39m     \u001b[38;5;28;01mraise\u001b[39;00m \u001b[38;5;167;01mValueError\u001b[39;00m(\n\u001b[32m    321\u001b[39m         \u001b[33mf\u001b[39m\u001b[33m\"\u001b[39m\u001b[33mIPython won\u001b[39m\u001b[33m'\u001b[39m\u001b[33mt let you open fd=\u001b[39m\u001b[38;5;132;01m{\u001b[39;00mfile\u001b[38;5;132;01m}\u001b[39;00m\u001b[33m by default \u001b[39m\u001b[33m\"\u001b[39m\n\u001b[32m    322\u001b[39m         \u001b[33m\"\u001b[39m\u001b[33mas it is likely to crash IPython. If you know what you are doing, \u001b[39m\u001b[33m\"\u001b[39m\n\u001b[32m    323\u001b[39m         \u001b[33m\"\u001b[39m\u001b[33myou can use builtins\u001b[39m\u001b[33m'\u001b[39m\u001b[33m open.\u001b[39m\u001b[33m\"\u001b[39m\n\u001b[32m    324\u001b[39m     )\n\u001b[32m--> \u001b[39m\u001b[32m326\u001b[39m \u001b[38;5;28;01mreturn\u001b[39;00m \u001b[43mio_open\u001b[49m\u001b[43m(\u001b[49m\u001b[43mfile\u001b[49m\u001b[43m,\u001b[49m\u001b[43m \u001b[49m\u001b[43m*\u001b[49m\u001b[43margs\u001b[49m\u001b[43m,\u001b[49m\u001b[43m \u001b[49m\u001b[43m*\u001b[49m\u001b[43m*\u001b[49m\u001b[43mkwargs\u001b[49m\u001b[43m)\u001b[49m\n",
      "\u001b[31mFileNotFoundError\u001b[39m: [Errno 2] No such file or directory: 'nithin'"
     ]
    }
   ],
   "source": [
    "try:\n",
    "    with open (\"nithin\") as a:\n",
    "        a.read()\n",
    "finally:\n",
    "    print(\"Cannot open file\")\n",
    "    "
   ]
  },
  {
   "cell_type": "code",
   "execution_count": 388,
   "id": "3f02d9d7-4873-4cb3-87c3-248dcf5bfdf7",
   "metadata": {},
   "outputs": [
    {
     "name": "stdout",
     "output_type": "stream",
     "text": [
      "Cannot open file\n"
     ]
    }
   ],
   "source": [
    "try:\n",
    "    with open (\"nithin\") as a:\n",
    "        a.read()\n",
    "except:\n",
    "    print(\"Cannot open file\")\n",
    "    "
   ]
  },
  {
   "cell_type": "code",
   "execution_count": 394,
   "id": "9d1b03c2-a2a5-4b16-90bb-3443892349f9",
   "metadata": {},
   "outputs": [],
   "source": [
    "import logging"
   ]
  },
  {
   "cell_type": "code",
   "execution_count": 405,
   "id": "fca677cc-493a-48eb-a19a-cd0834072f68",
   "metadata": {},
   "outputs": [
    {
     "name": "stderr",
     "output_type": "stream",
     "text": [
      "INFO:root:App started\n",
      "WARNING:root:This is a warning\n",
      "ERROR:root:An error occured\n",
      "CRITICAL:root:Critical issue\n"
     ]
    }
   ],
   "source": [
    "logging.basicConfig(level=logging.INFO)\n",
    "logging.debug(\"This is a debug message\")\n",
    "logging.info(\"App started\")\n",
    "logging.warning(\"This is a warning\")\n",
    "logging.error(\"An error occured\")\n",
    "logging.critical(\"Critical issue\")"
   ]
  },
  {
   "cell_type": "code",
   "execution_count": 412,
   "id": "cdbb8e3b-62c1-4032-aa9b-f75882717ab2",
   "metadata": {},
   "outputs": [
    {
     "name": "stderr",
     "output_type": "stream",
     "text": [
      "INFO:root:Starting the application\n",
      "INFO:root:Received input: a=10, b=5\n",
      "INFO:root:Received input: a=10, b=0\n",
      "ERROR:root:Error occurred: division by zero\n",
      "INFO:root:Ending the application\n"
     ]
    }
   ],
   "source": [
    "import logging\n",
    "\n",
    "# Configure logging\n",
    "logging.basicConfig(\n",
    "    #filename='app.log',       # Log file name\n",
    "    level=logging.DEBUG,      # Log level (DEBUG, INFO, WARNING, ERROR, CRITICAL) \n",
    ")\n",
    "\n",
    "# Application logic with logging\n",
    "def divide_numbers(a, b):\n",
    "    logging.info(f\"Received input: a={a}, b={b}\")\n",
    "    try:\n",
    "        result = a / b\n",
    "        logging.debug(f\"Division successful: {result}\")\n",
    "        return result\n",
    "    except ZeroDivisionError as e:\n",
    "        logging.error(f\"Error occurred: {e}\")\n",
    "        return None\n",
    "\n",
    "# Example usage\n",
    "logging.info(\"Starting the application\")\n",
    "result = divide_numbers(10, 5)  # Valid division\n",
    "result = divide_numbers(10, 0)  # Invalid division (division by zero)\n",
    "logging.info(\"Ending the application\")\n"
   ]
  },
  {
   "cell_type": "code",
   "execution_count": 413,
   "id": "736aa667-01b8-456f-9846-ab520b7ff8f8",
   "metadata": {},
   "outputs": [
    {
     "name": "stderr",
     "output_type": "stream",
     "text": [
      "INFO:root:Received input: a=10, b=5\n"
     ]
    },
    {
     "data": {
      "text/plain": [
       "2.0"
      ]
     },
     "execution_count": 413,
     "metadata": {},
     "output_type": "execute_result"
    }
   ],
   "source": [
    "divide_numbers(10, 5)"
   ]
  },
  {
   "cell_type": "code",
   "execution_count": null,
   "id": "fa8ea07e-85aa-4c65-9334-efc11dbe0ca6",
   "metadata": {},
   "outputs": [],
   "source": []
  }
 ],
 "metadata": {
  "kernelspec": {
   "display_name": "Python 3 (ipykernel)",
   "language": "python",
   "name": "python3"
  },
  "language_info": {
   "codemirror_mode": {
    "name": "ipython",
    "version": 3
   },
   "file_extension": ".py",
   "mimetype": "text/x-python",
   "name": "python",
   "nbconvert_exporter": "python",
   "pygments_lexer": "ipython3",
   "version": "3.11.0"
  }
 },
 "nbformat": 4,
 "nbformat_minor": 5
}
