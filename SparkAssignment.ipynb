{
 "cells": [
  {
   "cell_type": "code",
   "execution_count": 1,
   "id": "24ae7d88-f8d2-4cae-99cb-411eed80eb58",
   "metadata": {},
   "outputs": [
    {
     "name": "stdout",
     "output_type": "stream",
     "text": [
      "Spark version: 3.5.5\n"
     ]
    },
    {
     "data": {
      "text/html": [
       "\n",
       "            <div>\n",
       "                <p><b>SparkSession - in-memory</b></p>\n",
       "                \n",
       "        <div>\n",
       "            <p><b>SparkContext</b></p>\n",
       "\n",
       "            <p><a href=\"http://172.19.3.209:4040\">Spark UI</a></p>\n",
       "\n",
       "            <dl>\n",
       "              <dt>Version</dt>\n",
       "                <dd><code>v3.5.5</code></dd>\n",
       "              <dt>Master</dt>\n",
       "                <dd><code>local[*]</code></dd>\n",
       "              <dt>AppName</dt>\n",
       "                <dd><code>MyApp</code></dd>\n",
       "            </dl>\n",
       "        </div>\n",
       "        \n",
       "            </div>\n",
       "        "
      ],
      "text/plain": [
       "<pyspark.sql.session.SparkSession at 0x215e5a03d90>"
      ]
     },
     "execution_count": 1,
     "metadata": {},
     "output_type": "execute_result"
    }
   ],
   "source": [
    "import findspark\n",
    "findspark.init() \n",
    "\n",
    "from pyspark.sql import SparkSession\n",
    "\n",
    "spark = SparkSession.builder \\\n",
    "    .appName(\"MyApp\") \\\n",
    "    .master(\"local[*]\") \\\n",
    "    .getOrCreate()\n",
    "\n",
    "# Check Spark version\n",
    "print(\"Spark version:\", spark.version)\n",
    "spark"
   ]
  },
  {
   "cell_type": "markdown",
   "id": "d90405ef-6e38-43e5-981b-9ab605aef332",
   "metadata": {},
   "source": [
    "## DATASETS"
   ]
  },
  {
   "cell_type": "code",
   "execution_count": 2,
   "id": "da63c7f5-e18a-45cf-bedd-fd5f4e2240cd",
   "metadata": {},
   "outputs": [],
   "source": [
    "df=spark.read.csv(\"Customer_table.csv\",header=True,inferSchema=True,mode=\"DROPMALFORMED\")\n",
    "ds=spark.read.csv(\"Admin_data.csv\",header=True,inferSchema=True,mode=\"DROPMALFORMED\")\n"
   ]
  },
  {
   "cell_type": "code",
   "execution_count": 3,
   "id": "f37e4c5d-fa1b-40f7-98f9-b6462422005f",
   "metadata": {},
   "outputs": [
    {
     "name": "stdout",
     "output_type": "stream",
     "text": [
      "+---------------+---------------+-----------+-------------------+-------------+-------+---------------+---------------+-------------+---------+------------+---------------+--------------+----------------------+---------+----------------+------------+--------------+----------------+--------+-----------+\n",
      "|Pickup DateTime|  Drop DateTime|Driver Name|Driver Phone Number|Trip Distance|Trip ID|Pickup Location|  Drop Location|Trip Duration|Trip Fare|Vehicle Type|   Trip Purpose|Passenger Name|Passenger Phone Number|Scheduled|Passenger Rating|Driver Rated|Payment Method|Payment Discount|Net Fare|Trip Status|\n",
      "+---------------+---------------+-----------+-------------------+-------------+-------+---------------+---------------+-------------+---------+------------+---------------+--------------+----------------------+---------+----------------+------------+--------------+----------------+--------+-----------+\n",
      "| 1/1/2016 21:11| 1/1/2016 21:17|     Almire|         9298608912|           21| 318886|    Fort Pierce|    Fort Pierce|          5.1|    49.98|        Bike| Meal/Entertain|       Johanna|            9181026109|      YES|             3.6|         YES|          Gpay|              0%|   49.98|  Cancelled|\n",
      "| 1/2/2016 20:25| 1/2/2016 20:38|    Frazier|         8621617385|           27| 318886|    Fort Pierce|    Fort Pierce|          4.8|    47.04|        Bike|Errand/Supplies|       Charlot|            9855403124|      YES|             4.5|         YES|        Phonpe|              0%|   47.04|    Arrived|\n",
      "| 1/5/2016 17:31| 1/5/2016 17:45|     Editha|         9954004976|           20| 318886|    Fort Pierce|    Fort Pierce|          4.7|    46.06|        Bike|        Meeting|         Cissy|            9328907059|      YES|             4.8|         YES|         Paytm|              0%|   46.06|   Assigned|\n",
      "| 1/6/2016 14:42| 1/6/2016 15:49|      Deeyn|         9885727873|           34| 318886|    Fort Pierce|West Palm Beach|         63.7|   624.26|        Bike| Customer Visit|        Luelle|            9774674359|       NO|             4.9|         YES|   Uber wallet|             10%| 561.834|   Assigned|\n",
      "| 1/6/2016 17:15| 1/6/2016 17:19|     Correy|         9661756645|           28| 475241|West Palm Beach|West Palm Beach|          4.3|    42.14|        Bike| Meal/Entertain|         Myrle|            9425892986|       NO|             5.0|          NO|          cash|              0%|   42.14|   Assigned|\n",
      "| 1/6/2016 17:30| 1/6/2016 17:35|      Bryan|         8721880095|           50| 475241|West Palm Beach|     Palm Beach|          7.1|    69.58|        Bike|        Meeting|        Duncan|            9611855033|      YES|             3.0|         YES|   Uber wallet|             10%|  76.538|    Arrived|\n",
      "| 1/7/2016 13:27| 1/7/2016 13:33|     Crissy|         8579258893|           68| 265814|           Cary|           Cary|          0.8|     7.84|        Bike|        Meeting|        Carine|            9700998304|      YES|             3.6|         YES|   Uber wallet|             10%|   8.624|   Assigned|\n",
      "| 1/10/2016 8:05| 1/10/2016 8:25|     Kendre|         8900099665|           31| 265814|           Cary|    Morrisville|          8.3|    81.34|        Bike|        Meeting|      Collette|            9212537431|      YES|             3.9|         YES|   Uber wallet|             10%|  89.474|   Assigned|\n",
      "|1/10/2016 12:17|1/10/2016 12:44|      Aymer|         9918333307|           47| 386077|        Jamaica|       New York|         16.5|    161.7|        Bike| Customer Visit|        Killie|            9426616674|       NO|             4.2|         YES|   Uber wallet|             10%|  177.87|    Arrived|\n",
      "|1/10/2016 15:08|1/10/2016 15:51|     Gabbey|         9050095157|           59| 125733|       New York|         Queens|         10.8|   105.84|        Bike|        Meeting|       Ellette|            8949025277|       NO|             4.8|          NO|          cash|              0%|  105.84|   Assigned|\n",
      "+---------------+---------------+-----------+-------------------+-------------+-------+---------------+---------------+-------------+---------+------------+---------------+--------------+----------------------+---------+----------------+------------+--------------+----------------+--------+-----------+\n",
      "only showing top 10 rows\n",
      "\n"
     ]
    }
   ],
   "source": [
    "df.show(10)"
   ]
  },
  {
   "cell_type": "code",
   "execution_count": 4,
   "id": "af0e9afb-331c-4eed-a7c2-a78f9c7419c9",
   "metadata": {},
   "outputs": [
    {
     "name": "stdout",
     "output_type": "stream",
     "text": [
      "root\n",
      " |-- Pickup DateTime: string (nullable = true)\n",
      " |-- Drop DateTime: string (nullable = true)\n",
      " |-- Driver Name: string (nullable = true)\n",
      " |-- Driver Phone Number: long (nullable = true)\n",
      " |-- Trip Distance: integer (nullable = true)\n",
      " |-- Trip ID: integer (nullable = true)\n",
      " |-- Pickup Location: string (nullable = true)\n",
      " |-- Drop Location: string (nullable = true)\n",
      " |-- Trip Duration: double (nullable = true)\n",
      " |-- Trip Fare: double (nullable = true)\n",
      " |-- Vehicle Type: string (nullable = true)\n",
      " |-- Trip Purpose: string (nullable = true)\n",
      " |-- Passenger Name: string (nullable = true)\n",
      " |-- Passenger Phone Number: long (nullable = true)\n",
      " |-- Scheduled: string (nullable = true)\n",
      " |-- Passenger Rating: double (nullable = true)\n",
      " |-- Driver Rated: string (nullable = true)\n",
      " |-- Payment Method: string (nullable = true)\n",
      " |-- Payment Discount: string (nullable = true)\n",
      " |-- Net Fare: double (nullable = true)\n",
      " |-- Trip Status: string (nullable = true)\n",
      "\n"
     ]
    }
   ],
   "source": [
    "df.printSchema()"
   ]
  },
  {
   "cell_type": "code",
   "execution_count": 5,
   "id": "67996f24-7f45-46f3-b6cd-19d7a7e4b5b8",
   "metadata": {},
   "outputs": [
    {
     "name": "stdout",
     "output_type": "stream",
     "text": [
      "+---------------+---------------+--------+----------+---+---------+-----------------+-----------+---------------+-----+-----------+-------------+---------------+-----+------+--------+--------+-----+-------------+---------+---------+---------+----------+----------+-----------+--------------+---------------+---------+----------+------------+--------+----------+---------+\n",
      "|     Start_time|       End_time|    Name|    Mobile|Age|Pin-Codes|           Source|Vaccine_cus|    Destination|Miles|Est_Costing|Ride_category|        Purpose| temp|clouds|pressure|humidity| wind|accquire_vehi|free_vehi|Lattitute|Longitude|locationID|rating_cus|Riders_Name|Riders_contact|Trusted_Contact|Rating_RI|Vaccine_Ri|Payment_mode|Discount|Final_cost|   Status|\n",
      "+---------------+---------------+--------+----------+---+---------+-----------------+-----------+---------------+-----+-----------+-------------+---------------+-----+------+--------+--------+-----+-------------+---------+---------+---------+----------+----------+-----------+--------------+---------------+---------+----------+------------+--------+----------+---------+\n",
      "| 1/1/2016 21:11| 1/1/2016 21:17|  Almire|9298608912| 21|   318886|      Fort Pierce|        YES|    Fort Pierce|  5.1|      49.98|         Bike| Meal/Entertain|42.42|   1.0| 1012.14|    0.77|11.25|           26|       17|   40.769| -73.9549|       141|         3|    Johanna|    9181026109|            YES|      3.6|       YES|        Gpay|      0%|     49.98|Cancelled|\n",
      "| 1/2/2016 20:25| 1/2/2016 20:38| Frazier|8621617385| 27|   318886|      Fort Pierce|        YES|    Fort Pierce|  4.8|      47.04|         Bike|Errand/Supplies|42.43|   1.0| 1012.15|    0.76|11.32|           45|       24|  40.7267| -74.0345|        65|         4|    Charlot|    9855403124|            YES|      4.5|       YES|      Phonpe|      0%|     47.04|  Arrived|\n",
      "| 1/5/2016 17:31| 1/5/2016 17:45|  Editha|9954004976| 20|   318886|      Fort Pierce|        YES|    Fort Pierce|  4.7|      46.06|         Bike|        Meeting| 42.5|   1.0| 1012.15|    0.76|11.07|          731|       36|  40.7316| -73.9873|       100|         5|      Cissy|    9328907059|            YES|      4.8|       YES|       Paytm|      0%|     46.06| Assigned|\n",
      "| 1/6/2016 14:42| 1/6/2016 15:49|   Deeyn|9885727873| 34|   318886|      Fort Pierce|        YES|West Palm Beach| 63.7|     624.26|         Bike| Customer Visit|42.11|   1.0| 1012.13|    0.77|11.09|           10|        9|  40.7588| -73.9776|        80|         2|     Luelle|    9774674359|             NO|      4.9|       YES| Uber wallet|     10%|   561.834| Assigned|\n",
      "| 1/6/2016 17:15| 1/6/2016 17:19|  Correy|9661756645| 28|   475241|  West Palm Beach|         NO|West Palm Beach|  4.3|      42.14|         Bike| Meal/Entertain|43.13|   1.0| 1012.14|    0.75|11.49|          814|       62|  40.7594| -73.9722|        90|         3|      Myrle|    9425892986|             NO|      5.0|        NO|        cash|      0%|     42.14| Assigned|\n",
      "| 1/6/2016 17:30| 1/6/2016 17:35|   Bryan|8721880095| 50|   475241|  West Palm Beach|        YES|     Palm Beach|  7.1|      69.58|         Bike|        Meeting|42.34|   1.0| 1012.15|    0.77|11.49|          220|       46|  40.7383| -74.0403|       228|         4|     Duncan|    9611855033|            YES|      3.0|       YES| Uber wallet|     10%|    62.622|  Arrived|\n",
      "| 1/7/2016 13:27| 1/7/2016 13:33|  Crissy|8579258893| 68|   265814|             Cary|        YES|           Cary|  0.8|       7.84|         Bike|        Meeting|42.36|   1.0| 1012.15|    0.77|11.46|           36|       28|  40.7223| -73.9887|         7|         5|     Carine|    9700998304|            YES|      3.6|       YES| Uber wallet|     10%|     7.056| Assigned|\n",
      "| 1/10/2016 8:05| 1/10/2016 8:25|  Kendre|8900099665| 31|   265814|             Cary|        YES|    Morrisville|  8.3|      81.34|         Bike|        Meeting|42.21|   1.0| 1012.16|    0.77|11.37|         1137|      106|   40.762|  -73.979|        74|         5|   Collette|    9212537431|            YES|      3.9|       YES| Uber wallet|     10%|    73.206| Assigned|\n",
      "|1/10/2016 12:17|1/10/2016 12:44|   Aymer|9918333307| 47|   386077|          Jamaica|        YES|       New York| 16.5|      161.7|         Bike| Customer Visit|42.07|   1.0| 1012.12|    0.78|11.28|          236|      103|  40.7524|  -73.996|       249|         5|     Killie|    9426616674|             NO|      4.2|       YES| Uber wallet|     10%|    145.53|  Arrived|\n",
      "|1/10/2016 15:08|1/10/2016 15:51|  Gabbey|9050095157| 59|   125733|         New York|         NO|         Queens| 10.8|     105.84|         Bike|        Meeting|43.05|   1.0| 1012.12|    0.75|11.58|           47|       29|  40.7575| -73.9846|        22|         4|    Ellette|    8949025277|             NO|      4.8|        NO|        cash|      0%|    105.84| Assigned|\n",
      "|1/10/2016 18:18|1/10/2016 18:53|   Cammi|7884885405| 19|   646882|         Elmhurst|        YES|       New York|  7.5|       73.5|         Bike|        Meeting|42.09|   1.0| 1012.13|    0.78|11.41|         1792|      119|  40.7256| -73.9869|       263|         4|      Amara|    9247349792|            YES|      3.6|       YES|        Gpay|      0%|      73.5| Assigned|\n",
      "|1/10/2016 19:12|1/10/2016 19:32| Carlyle|8333928562| 22|   625132|          Midtown|        YES|    East Harlem|  6.2|      60.76|         Bike|        Meeting|43.28|  0.81|  990.81|    0.71|  8.3|           23|       13|  40.7591| -73.9684|        61|         3|     Ashlee|    9332965757|            YES|      4.5|       YES|        Gpay|      0%|     60.76|  Arrived|\n",
      "| 1/11/2016 8:55| 1/11/2016 9:21|Zedekiah|8283676665| 74|   210314|      East Harlem|        YES|          NoMad|  6.4|      62.72|         Bike| Temporary Site|43.27|   0.8|   990.8|    0.71|  8.3|           83|       20|  40.7271| -73.9803|       229|         3|        Kim|    9267421665|            YES|      4.8|       YES|      Phonpe|      0%|     62.72| Assigned|\n",
      "|1/11/2016 11:56|1/11/2016 12:03|   Sioux|8362408033| 75|   484320|Flatiron District|        YES|        Midtown|  1.6|      15.68|         Bike|Errand/Supplies|43.35|  0.82|  990.82|    0.71| 8.24|         1846|       86|  40.6463| -73.7896|       164|         5|      Jacky|    9472034451|             NO|      4.9|       YES|       Paytm|      0%|     15.68|  Arrived|\n",
      "|1/11/2016 13:32|1/11/2016 13:46| Mathian|9734846586| 62|   625132|          Midtown|         NO|   Midtown East|  1.7|      16.66|         Bike| Meal/Entertain|43.07|  0.82|  990.82|    0.72| 8.28|           57|       39|  40.7564| -73.9167|       237|         5|     Mikkel|    9117822322|             NO|      5.0|        NO| Uber wallet|     10%|    14.994|  Arrived|\n",
      "|1/11/2016 14:30|1/11/2016 14:43|  Maggie|7951534876| 36|   491563|     Midtown East|        YES|        Midtown|  1.9|      18.62|         Bike| Meal/Entertain|43.35|   0.8|   990.8|    0.71| 8.35|            9|        8|  40.7666| -73.9531|       142|         4|       Geri|    9738692778|            YES|      3.0|       YES|        cash|      0%|     18.62|  Arrived|\n",
      "|1/12/2016 12:33|1/12/2016 12:49| Maurice|7932768286| 40|   625132|          Midtown|        YES|  Hudson Square|  1.9|      18.62|         Bike| Meal/Entertain| 43.2|   0.8|  990.79|    0.71| 8.31|            4|        2|   40.758| -73.9761|       188|         5|  Stanislas|    9564616492|            YES|      3.6|       YES| Uber wallet|     10%|    16.758| Assigned|\n",
      "|1/12/2016 12:53|1/12/2016 13:09|    Timi|9323566102| 35|   509117|    Hudson Square|        YES|Lower Manhattan|  4.0|       39.2|         Bike| Meal/Entertain|43.24|   0.8|  990.79|    0.71| 8.32|           81|       37|  40.7238| -73.9821|       237|         5|       Yvon|    9985025265|            YES|      3.9|       YES| Uber wallet|     10%|     35.28|  Arrived|\n",
      "|1/12/2016 14:42|1/12/2016 14:56|   Janey|8572258661| 55|   223672|  Lower Manhattan|        YES|  Hudson Square|  1.8|      17.64|         Bike|Errand/Supplies|41.95|  0.81|  991.63|    0.73|10.87|         1765|      579|  40.7531| -74.0039|       224|         5|      Jaine|    9593730071|             NO|      4.2|       YES| Uber wallet|     10%|    15.876| Assigned|\n",
      "|1/12/2016 15:13|1/12/2016 15:28| Huntlee|9974250697| 32|   318886|      Fort Pierce|         NO| Hell's Kitchen|  2.4|      23.52|         Bike| Customer Visit|43.05|  0.81|  990.82|    0.72| 8.31|          766|       65|  40.7389| -74.0393|       238|         5|       Abbi|    9652057745|             NO|      4.8|        NO| Uber wallet|     10%|    21.168| Assigned|\n",
      "+---------------+---------------+--------+----------+---+---------+-----------------+-----------+---------------+-----+-----------+-------------+---------------+-----+------+--------+--------+-----+-------------+---------+---------+---------+----------+----------+-----------+--------------+---------------+---------+----------+------------+--------+----------+---------+\n",
      "only showing top 20 rows\n",
      "\n"
     ]
    }
   ],
   "source": [
    "ds.show()"
   ]
  },
  {
   "cell_type": "code",
   "execution_count": 6,
   "id": "6e1efd37-ba7f-41b1-a15c-46d8da77b9e1",
   "metadata": {},
   "outputs": [
    {
     "name": "stdout",
     "output_type": "stream",
     "text": [
      "root\n",
      " |-- Start_time: string (nullable = true)\n",
      " |-- End_time: string (nullable = true)\n",
      " |-- Name: string (nullable = true)\n",
      " |-- Mobile: long (nullable = true)\n",
      " |-- Age: integer (nullable = true)\n",
      " |-- Pin-Codes: integer (nullable = true)\n",
      " |-- Source: string (nullable = true)\n",
      " |-- Vaccine_cus: string (nullable = true)\n",
      " |-- Destination: string (nullable = true)\n",
      " |-- Miles: double (nullable = true)\n",
      " |-- Est_Costing: double (nullable = true)\n",
      " |-- Ride_category: string (nullable = true)\n",
      " |-- Purpose: string (nullable = true)\n",
      " |-- temp: double (nullable = true)\n",
      " |-- clouds: double (nullable = true)\n",
      " |-- pressure: double (nullable = true)\n",
      " |-- humidity: double (nullable = true)\n",
      " |-- wind: double (nullable = true)\n",
      " |-- accquire_vehi: integer (nullable = true)\n",
      " |-- free_vehi: string (nullable = true)\n",
      " |-- Lattitute: double (nullable = true)\n",
      " |-- Longitude: double (nullable = true)\n",
      " |-- locationID: integer (nullable = true)\n",
      " |-- rating_cus: integer (nullable = true)\n",
      " |-- Riders_Name: string (nullable = true)\n",
      " |-- Riders_contact: long (nullable = true)\n",
      " |-- Trusted_Contact: string (nullable = true)\n",
      " |-- Rating_RI: double (nullable = true)\n",
      " |-- Vaccine_Ri: string (nullable = true)\n",
      " |-- Payment_mode: string (nullable = true)\n",
      " |-- Discount: string (nullable = true)\n",
      " |-- Final_cost: double (nullable = true)\n",
      " |-- Status: string (nullable = true)\n",
      "\n"
     ]
    }
   ],
   "source": [
    "ds.printSchema()"
   ]
  },
  {
   "cell_type": "markdown",
   "id": "59090f95-8186-4b61-9d6c-670ff2c12575",
   "metadata": {},
   "source": [
    "# 1.How many no of customers take trip from same location."
   ]
  },
  {
   "cell_type": "code",
   "execution_count": 7,
   "id": "3f084906-006f-4a91-bbf8-5402a509d7b4",
   "metadata": {},
   "outputs": [
    {
     "name": "stdout",
     "output_type": "stream",
     "text": [
      "+-----------------+--------------+\n",
      "|  Pickup Location|customer_count|\n",
      "+-----------------+--------------+\n",
      "|      Fort Pierce|           108|\n",
      "|          Midtown|            78|\n",
      "|  West Palm Beach|            54|\n",
      "|             Cary|            52|\n",
      "|  Lower Manhattan|            26|\n",
      "|     Midtown East|            26|\n",
      "|Flatiron District|            26|\n",
      "|      East Harlem|            26|\n",
      "|    Hudson Square|            26|\n",
      "|          Jamaica|            26|\n",
      "|         New York|            26|\n",
      "|         Elmhurst|            26|\n",
      "+-----------------+--------------+\n",
      "\n"
     ]
    }
   ],
   "source": [
    "from pyspark.sql.functions import count,col\n",
    "df.groupBy(\"Pickup Location\").agg(count(\"Passenger Name\").alias(\"customer_count\")).orderBy('customer_count',ascending=False).show()"
   ]
  },
  {
   "cell_type": "markdown",
   "id": "516387cd-924d-4a04-8fac-ca30f81d9f73",
   "metadata": {},
   "source": [
    "# 2.what is priority for each ride category from each location."
   ]
  },
  {
   "cell_type": "code",
   "execution_count": 8,
   "id": "7e6fc107-2cbd-4eca-85b5-b3a6fe082478",
   "metadata": {},
   "outputs": [
    {
     "name": "stdout",
     "output_type": "stream",
     "text": [
      "+-----------------+-------------+----------------------+\n",
      "|           Source|Ride_category|Count of ride category|\n",
      "+-----------------+-------------+----------------------+\n",
      "|             Cary|        Prime|                    12|\n",
      "|             Cary|         Auto|                    12|\n",
      "|             Cary|    Uber-Mini|                    12|\n",
      "|             Cary|   Uber-Micro|                     8|\n",
      "|             Cary|         Bike|                     8|\n",
      "|      East Harlem|         Bike|                     6|\n",
      "|      East Harlem|   Uber-Micro|                     6|\n",
      "|      East Harlem|    Uber-Mini|                     6|\n",
      "|      East Harlem|         Auto|                     4|\n",
      "|      East Harlem|        Prime|                     4|\n",
      "|         Elmhurst|         Auto|                     6|\n",
      "|         Elmhurst|   Uber-Micro|                     6|\n",
      "|         Elmhurst|        Prime|                     5|\n",
      "|         Elmhurst|         Bike|                     5|\n",
      "|         Elmhurst|    Uber-Mini|                     4|\n",
      "|Flatiron District|    Uber-Mini|                     6|\n",
      "|Flatiron District|   Uber-Micro|                     6|\n",
      "|Flatiron District|         Bike|                     6|\n",
      "|Flatiron District|         Auto|                     4|\n",
      "|Flatiron District|        Prime|                     4|\n",
      "+-----------------+-------------+----------------------+\n",
      "only showing top 20 rows\n",
      "\n"
     ]
    }
   ],
   "source": [
    "ds.groupBy(\"Source\",\"Ride_category\").agg(count(\"*\").alias(\"Count of ride category\")).orderBy(col(\"Source\"),col(\"Count of ride category\").desc()).show()"
   ]
  },
  {
   "cell_type": "markdown",
   "id": "5dcbe2d4-635a-4a5b-9bfd-3828002caa5b",
   "metadata": {},
   "source": [
    "# 3.what are the longest locations of customer travelled."
   ]
  },
  {
   "cell_type": "code",
   "execution_count": 9,
   "id": "f7694bae-88dc-4dcf-8365-c1f6253fcf12",
   "metadata": {},
   "outputs": [
    {
     "name": "stdout",
     "output_type": "stream",
     "text": [
      "+--------------+-------------+\n",
      "|Passenger Name|Trip Distance|\n",
      "+--------------+-------------+\n",
      "|      Darlleen|           80|\n",
      "|         Price|           80|\n",
      "|      Charlena|           80|\n",
      "|      Virginie|           80|\n",
      "|        Haskel|           80|\n",
      "|         Jacky|           80|\n",
      "|      Collette|           80|\n",
      "|          Moss|           80|\n",
      "|          Elsy|           79|\n",
      "|           Pen|           79|\n",
      "|         Daron|           79|\n",
      "|          Elsy|           79|\n",
      "|        Shaine|           79|\n",
      "|         Sandy|           79|\n",
      "|         Marta|           79|\n",
      "|       Romonda|           79|\n",
      "|          Dora|           78|\n",
      "|        Damien|           78|\n",
      "|       Charlot|           78|\n",
      "|         Jacky|           78|\n",
      "+--------------+-------------+\n",
      "only showing top 20 rows\n",
      "\n"
     ]
    }
   ],
   "source": [
    "df.select(\"Passenger Name\",\"Trip Distance\").orderBy(\"Trip Distance\",ascending=False).show()"
   ]
  },
  {
   "cell_type": "code",
   "execution_count": 10,
   "id": "dbd02112-8b96-4a4d-9a14-76da84bc7413",
   "metadata": {},
   "outputs": [
    {
     "name": "stdout",
     "output_type": "stream",
     "text": [
      "+--------------+-------------+\n",
      "|Passenger Name|Trip Distance|\n",
      "+--------------+-------------+\n",
      "|         Price|           80|\n",
      "|      Darlleen|           80|\n",
      "|      Virginie|           80|\n",
      "|      Charlena|           80|\n",
      "|        Haskel|           80|\n",
      "|         Jacky|           80|\n",
      "|      Collette|           80|\n",
      "|          Moss|           80|\n",
      "+--------------+-------------+\n",
      "\n"
     ]
    }
   ],
   "source": [
    "from pyspark.sql.functions import max\n",
    "max_distance = df.select(max(\"Trip Distance\").alias(\"max_trip\")).collect()[0][\"max_trip\"]\n",
    "\n",
    "df.select(\"Passenger Name\", \"Trip Distance\").where(col(\"Trip Distance\") == max_distance) .show()\n"
   ]
  },
  {
   "cell_type": "markdown",
   "id": "946906e4-ace4-4027-a5b1-5f9fc56f1704",
   "metadata": {},
   "source": [
    "# 4. Drivers who completed ride with non -vaccinated customers."
   ]
  },
  {
   "cell_type": "code",
   "execution_count": 11,
   "id": "9192a10a-db34-40e8-b7d6-e8a85a917169",
   "metadata": {},
   "outputs": [
    {
     "name": "stdout",
     "output_type": "stream",
     "text": [
      "+-----------+\n",
      "|Riders_Name|\n",
      "+-----------+\n",
      "|     Mikkel|\n",
      "|        Kip|\n",
      "|      Cindi|\n",
      "|    Yasmeen|\n",
      "|       Burk|\n",
      "|      Natty|\n",
      "|       Kain|\n",
      "|      Sandy|\n",
      "|   Kimberly|\n",
      "|    Carolus|\n",
      "|       Dora|\n",
      "|    Romonda|\n",
      "|    Ellette|\n",
      "|     Mikkel|\n",
      "|       Abbi|\n",
      "|     Pattin|\n",
      "|     Haskel|\n",
      "|      Cindi|\n",
      "|    Yasmeen|\n",
      "|       Burk|\n",
      "+-----------+\n",
      "only showing top 20 rows\n",
      "\n"
     ]
    }
   ],
   "source": [
    "ds.select(\"Riders_Name\").filter((col(\"Vaccine_cus\")==\"NO\") & (col(\"Status\")==\"Arrived\")).show()"
   ]
  },
  {
   "cell_type": "markdown",
   "id": "c04e8839-4002-422e-903e-967100db9d58",
   "metadata": {},
   "source": [
    "# 5.How many vaccinated customers have travelled"
   ]
  },
  {
   "cell_type": "code",
   "execution_count": 12,
   "id": "9ff3f637-875c-46ab-89a2-c54ab96673d0",
   "metadata": {},
   "outputs": [
    {
     "data": {
      "text/plain": [
       "400"
      ]
     },
     "execution_count": 12,
     "metadata": {},
     "output_type": "execute_result"
    }
   ],
   "source": [
    "ds.select(\"Name\").filter((col(\"Vaccine_cus\")==\"YES\")).count()"
   ]
  },
  {
   "cell_type": "markdown",
   "id": "08127cb0-ff84-4921-9849-7d0ce26fb012",
   "metadata": {},
   "source": [
    "# 6. .Customers who completed ride with non -vaccinated Drivers"
   ]
  },
  {
   "cell_type": "code",
   "execution_count": 13,
   "id": "9fd0a119-dfc3-4c5a-85c3-a69b68b3ac1c",
   "metadata": {},
   "outputs": [
    {
     "name": "stdout",
     "output_type": "stream",
     "text": [
      "+--------+\n",
      "|    Name|\n",
      "+--------+\n",
      "| Mathian|\n",
      "|  Horten|\n",
      "|   Boyce|\n",
      "|    Berk|\n",
      "|  Aubert|\n",
      "| Stavros|\n",
      "|  Norene|\n",
      "|  Stefan|\n",
      "| Cassius|\n",
      "|   Chadd|\n",
      "|  Joelle|\n",
      "|   Abbey|\n",
      "|  Kristo|\n",
      "|   Lesli|\n",
      "|    Marv|\n",
      "| Sherwin|\n",
      "|    Andi|\n",
      "|   Adamo|\n",
      "|Ernaline|\n",
      "| Balduin|\n",
      "+--------+\n",
      "only showing top 20 rows\n",
      "\n"
     ]
    }
   ],
   "source": [
    "ds.select(\"Name\").filter((col(\"Vaccine_Ri\")==\"NO\") & (col(\"Status\")==\"Arrived\")).show()"
   ]
  },
  {
   "cell_type": "markdown",
   "id": "0931dece-5a01-4b19-abee-06f32dd0d98a",
   "metadata": {},
   "source": [
    "# 7.who is the customer completed highest no of rides."
   ]
  },
  {
   "cell_type": "code",
   "execution_count": 25,
   "id": "78f1cb26-dbfd-4d89-b4cc-7cb9dae16027",
   "metadata": {},
   "outputs": [],
   "source": [
    "a=df.filter(col(\"Trip Status\")==\"Arrived\").groupBy(\"Passenger Name\").agg(count(\"*\").alias(\"TotalRides\")).orderBy(col(\"TotalRides\").desc())"
   ]
  },
  {
   "cell_type": "code",
   "execution_count": 26,
   "id": "c934f46a-4f7d-4c94-9a3b-cb958de51c89",
   "metadata": {},
   "outputs": [
    {
     "name": "stdout",
     "output_type": "stream",
     "text": [
      "+--------------+----------+\n",
      "|Passenger Name|TotalRides|\n",
      "+--------------+----------+\n",
      "|         Sandy|         4|\n",
      "|      Loutitia|         4|\n",
      "|      Virginie|         4|\n",
      "|          Bent|         4|\n",
      "|        Shaine|         4|\n",
      "|       Yasmeen|         4|\n",
      "|          Cher|         4|\n",
      "|        Sybila|         4|\n",
      "|       Chelsie|         4|\n",
      "+--------------+----------+\n",
      "\n"
     ]
    }
   ],
   "source": [
    "maxx=a.select(max(\"TotalRides\").alias(\"Total\")).collect()[0][\"Total\"]\n",
    "a.select(\"Passenger Name\",\"TotalRides\").filter(col(\"TotalRides\")==maxx).show()"
   ]
  },
  {
   "cell_type": "markdown",
   "id": "b4b9b1db-a142-47c4-956e-945827979322",
   "metadata": {},
   "source": [
    "# 8.who is the driver completed highest no of rides."
   ]
  },
  {
   "cell_type": "code",
   "execution_count": 29,
   "id": "4fd2fbf3-826e-42f6-a456-ce674dd12b1c",
   "metadata": {},
   "outputs": [
    {
     "name": "stdout",
     "output_type": "stream",
     "text": [
      "+-----------+---+\n",
      "|Riders_nAme|Tno|\n",
      "+-----------+---+\n",
      "|      Sandy|  4|\n",
      "|   Loutitia|  4|\n",
      "|   Virginie|  4|\n",
      "|       Bent|  4|\n",
      "|     Shaine|  4|\n",
      "|    Yasmeen|  4|\n",
      "|       Cher|  4|\n",
      "|     Sybila|  4|\n",
      "|    Chelsie|  4|\n",
      "+-----------+---+\n",
      "\n"
     ]
    }
   ],
   "source": [
    "a=ds.filter(col(\"Status\")==\"Arrived\").groupBy(\"Riders_name\").agg(count(\"*\").alias(\"Tno\")).orderBy(col(\"Tno\").desc())\n",
    "maxx=a.select(max(\"Tno\").alias(\"Total\")).collect()[0][\"Total\"]\n",
    "a.select(\"Riders_nAme\",\"Tno\").filter(col(\"Tno\")==maxx).show()"
   ]
  },
  {
   "cell_type": "markdown",
   "id": "b4ce64fb-91b2-4ed5-ad8e-d27cdf4c032b",
   "metadata": {},
   "source": [
    "# 9.what are first 10 age groups which uses uber services mostly."
   ]
  },
  {
   "cell_type": "code",
   "execution_count": 36,
   "id": "0ab9fd84-4bf9-4315-9640-391bb3a31139",
   "metadata": {},
   "outputs": [
    {
     "name": "stdout",
     "output_type": "stream",
     "text": [
      "+---+------------+\n",
      "|Age|Total number|\n",
      "+---+------------+\n",
      "| 69|          16|\n",
      "| 15|          15|\n",
      "| 32|          15|\n",
      "| 28|          12|\n",
      "| 78|          11|\n",
      "| 43|          11|\n",
      "| 49|          11|\n",
      "| 21|          11|\n",
      "| 34|          10|\n",
      "| 44|          10|\n",
      "+---+------------+\n",
      "only showing top 10 rows\n",
      "\n"
     ]
    }
   ],
   "source": [
    "ds.select(\"Age\").groupBy(\"Age\").agg(count(\"*\").alias(\"Total number\")).orderBy(col(\"Total number\").desc()).show(10)"
   ]
  },
  {
   "cell_type": "markdown",
   "id": "85340a4e-ec0a-486f-acc2-85801e41a797",
   "metadata": {},
   "source": [
    "## 10.what is the count of different destination locations from same start location and also completed ride"
   ]
  },
  {
   "cell_type": "code",
   "execution_count": 46,
   "id": "145dffa9-267c-4f51-ac0a-e6689ecb7fb5",
   "metadata": {},
   "outputs": [
    {
     "name": "stdout",
     "output_type": "stream",
     "text": [
      "+-----------------+-----------------+\n",
      "|           source|Destination count|\n",
      "+-----------------+-----------------+\n",
      "|      Fort Pierce|               31|\n",
      "|  West Palm Beach|               23|\n",
      "|          Midtown|               19|\n",
      "|             Cary|               15|\n",
      "|     Midtown East|               11|\n",
      "|Flatiron District|                9|\n",
      "|      East Harlem|                8|\n",
      "|          Jamaica|                8|\n",
      "|         New York|                8|\n",
      "|         Elmhurst|                8|\n",
      "|  Lower Manhattan|                7|\n",
      "|    Hudson Square|                7|\n",
      "+-----------------+-----------------+\n",
      "\n"
     ]
    }
   ],
   "source": [
    "from pyspark.sql.functions import countDistinct\n",
    "\n",
    "ds.filter(col(\"Status\")==\"Arrived\").groupBy(\"source\").agg(countDistinct(col(\"destination\")).alias(\"Destination count\")).orderBy(col(\"Destination count\").desc()).show()"
   ]
  },
  {
   "cell_type": "markdown",
   "id": "24408fd3-2eea-4f79-bb7e-e4b9bbe0b0e4",
   "metadata": {},
   "source": [
    "# 11.what is the most expensive Drive."
   ]
  },
  {
   "cell_type": "code",
   "execution_count": 56,
   "id": "1d6c5451-0838-44bf-840f-a2d646725c02",
   "metadata": {},
   "outputs": [
    {
     "name": "stdout",
     "output_type": "stream",
     "text": [
      "+----+-----------+------+-----------+----------+\n",
      "|name|Riders_name|source|destination|Final_cost|\n",
      "+----+-----------+------+-----------+----------+\n",
      "| Ely|     Aurlie|  Cary|       Cary|    5406.0|\n",
      "+----+-----------+------+-----------+----------+\n",
      "only showing top 1 row\n",
      "\n"
     ]
    }
   ],
   "source": [
    "ds.select(\"name\",\"Riders_name\",\"source\",\"destination\",\"Final_cost\").orderBy(col(\"Final_cost\").desc()).show(1)"
   ]
  },
  {
   "cell_type": "code",
   "execution_count": null,
   "id": "80a94805-685f-4a24-a8f0-e14288c61a99",
   "metadata": {},
   "outputs": [],
   "source": []
  }
 ],
 "metadata": {
  "kernelspec": {
   "display_name": "PySpark",
   "language": "python",
   "name": "pyspark"
  },
  "language_info": {
   "codemirror_mode": {
    "name": "ipython",
    "version": 3
   },
   "file_extension": ".py",
   "mimetype": "text/x-python",
   "name": "python",
   "nbconvert_exporter": "python",
   "pygments_lexer": "ipython3",
   "version": "3.11.0"
  }
 },
 "nbformat": 4,
 "nbformat_minor": 5
}
