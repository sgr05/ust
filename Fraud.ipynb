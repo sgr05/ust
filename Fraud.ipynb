{
 "cells": [
  {
   "cell_type": "code",
   "execution_count": 3,
   "id": "57927d9e-f23a-40a1-8016-6924957006e1",
   "metadata": {},
   "outputs": [
    {
     "data": {
      "text/plain": [
       "'C:\\\\Users\\\\Administrator\\\\Documents'"
      ]
     },
     "execution_count": 3,
     "metadata": {},
     "output_type": "execute_result"
    }
   ],
   "source": [
    "import os\n",
    "os.getcwd()"
   ]
  },
  {
   "cell_type": "code",
   "execution_count": 4,
   "id": "4183c8df-b1bb-48da-b65e-e8d4b1981602",
   "metadata": {},
   "outputs": [],
   "source": [
    "import pandas as pd\n",
    "df=pd.read_csv(\"final_data.csv\")"
   ]
  },
  {
   "cell_type": "code",
   "execution_count": 8,
   "id": "5cc0884f-04a8-4448-ac1f-1c5ee157f1d0",
   "metadata": {},
   "outputs": [
    {
     "data": {
      "text/html": [
       "<div>\n",
       "<style scoped>\n",
       "    .dataframe tbody tr th:only-of-type {\n",
       "        vertical-align: middle;\n",
       "    }\n",
       "\n",
       "    .dataframe tbody tr th {\n",
       "        vertical-align: top;\n",
       "    }\n",
       "\n",
       "    .dataframe thead th {\n",
       "        text-align: right;\n",
       "    }\n",
       "</style>\n",
       "<table border=\"1\" class=\"dataframe\">\n",
       "  <thead>\n",
       "    <tr style=\"text-align: right;\">\n",
       "      <th></th>\n",
       "      <th>trans_date_trans_time</th>\n",
       "      <th>cc_num</th>\n",
       "      <th>merchant</th>\n",
       "      <th>category</th>\n",
       "      <th>amt</th>\n",
       "      <th>first</th>\n",
       "      <th>last</th>\n",
       "      <th>gender</th>\n",
       "      <th>street</th>\n",
       "      <th>city</th>\n",
       "      <th>state</th>\n",
       "      <th>zip</th>\n",
       "      <th>lat</th>\n",
       "      <th>long</th>\n",
       "      <th>city_pop</th>\n",
       "      <th>job</th>\n",
       "      <th>dob</th>\n",
       "      <th>trans_num</th>\n",
       "      <th>unix_time</th>\n",
       "      <th>merch_lat</th>\n",
       "      <th>merch_long</th>\n",
       "      <th>is_fraud</th>\n",
       "    </tr>\n",
       "  </thead>\n",
       "  <tbody>\n",
       "    <tr>\n",
       "      <th>0</th>\n",
       "      <td>2019-08-11 19:38:33</td>\n",
       "      <td>4681601008538160</td>\n",
       "      <td>fraud_Hermann and Sons</td>\n",
       "      <td>shopping_pos</td>\n",
       "      <td>50.81</td>\n",
       "      <td>Tammy</td>\n",
       "      <td>Davis</td>\n",
       "      <td>F</td>\n",
       "      <td>77663 Colleen Freeway</td>\n",
       "      <td>Moundsville</td>\n",
       "      <td>WV</td>\n",
       "      <td>26041</td>\n",
       "      <td>39.9148</td>\n",
       "      <td>-80.7310</td>\n",
       "      <td>16183</td>\n",
       "      <td>Physiotherapist</td>\n",
       "      <td>1977-08-12</td>\n",
       "      <td>f64003a5726ca99519ef2ad18bce32f5</td>\n",
       "      <td>1344713913</td>\n",
       "      <td>39.238053</td>\n",
       "      <td>-81.728984</td>\n",
       "      <td>0</td>\n",
       "    </tr>\n",
       "    <tr>\n",
       "      <th>1</th>\n",
       "      <td>2020-02-21 13:31:42</td>\n",
       "      <td>4653879239169997</td>\n",
       "      <td>fraud_Cronin, Kshlerin and Weber</td>\n",
       "      <td>health_fitness</td>\n",
       "      <td>1.97</td>\n",
       "      <td>Monica</td>\n",
       "      <td>Tucker</td>\n",
       "      <td>F</td>\n",
       "      <td>302 Christina Islands</td>\n",
       "      <td>Smiths Grove</td>\n",
       "      <td>KY</td>\n",
       "      <td>42171</td>\n",
       "      <td>37.0581</td>\n",
       "      <td>-86.1938</td>\n",
       "      <td>6841</td>\n",
       "      <td>Therapist, sports</td>\n",
       "      <td>1999-06-06</td>\n",
       "      <td>f8e25094098b22a8e9dce2670ffe891e</td>\n",
       "      <td>1361453502</td>\n",
       "      <td>36.665575</td>\n",
       "      <td>-85.608885</td>\n",
       "      <td>0</td>\n",
       "    </tr>\n",
       "    <tr>\n",
       "      <th>2</th>\n",
       "      <td>2019-09-03 02:39:49</td>\n",
       "      <td>4334230547694630</td>\n",
       "      <td>fraud_Rutherford-Mertz</td>\n",
       "      <td>grocery_pos</td>\n",
       "      <td>100.18</td>\n",
       "      <td>Scott</td>\n",
       "      <td>Martin</td>\n",
       "      <td>M</td>\n",
       "      <td>7483 Navarro Flats</td>\n",
       "      <td>Freedom</td>\n",
       "      <td>WY</td>\n",
       "      <td>83120</td>\n",
       "      <td>43.0172</td>\n",
       "      <td>-111.0292</td>\n",
       "      <td>471</td>\n",
       "      <td>Education officer, museum</td>\n",
       "      <td>1967-08-02</td>\n",
       "      <td>291160a410748e5bec42d95ae06132ae</td>\n",
       "      <td>1346639989</td>\n",
       "      <td>43.362578</td>\n",
       "      <td>-110.580382</td>\n",
       "      <td>0</td>\n",
       "    </tr>\n",
       "    <tr>\n",
       "      <th>3</th>\n",
       "      <td>2020-03-31 02:39:04</td>\n",
       "      <td>2256234701263057</td>\n",
       "      <td>fraud_Kris-Padberg</td>\n",
       "      <td>shopping_pos</td>\n",
       "      <td>7.67</td>\n",
       "      <td>Christopher</td>\n",
       "      <td>Grimes</td>\n",
       "      <td>M</td>\n",
       "      <td>39631 Dunn Radial</td>\n",
       "      <td>Grantham</td>\n",
       "      <td>NH</td>\n",
       "      <td>3753</td>\n",
       "      <td>43.5103</td>\n",
       "      <td>-72.1334</td>\n",
       "      <td>2971</td>\n",
       "      <td>Charity fundraiser</td>\n",
       "      <td>1948-04-11</td>\n",
       "      <td>df716fe9ce97522bc074d8c93e6e18c2</td>\n",
       "      <td>1364697544</td>\n",
       "      <td>44.312773</td>\n",
       "      <td>-71.555079</td>\n",
       "      <td>0</td>\n",
       "    </tr>\n",
       "    <tr>\n",
       "      <th>4</th>\n",
       "      <td>2020-12-05 07:58:57</td>\n",
       "      <td>6011948324228984</td>\n",
       "      <td>fraud_Towne, Greenholt and Koepp</td>\n",
       "      <td>shopping_net</td>\n",
       "      <td>478.10</td>\n",
       "      <td>Mckenzie</td>\n",
       "      <td>Brooks</td>\n",
       "      <td>F</td>\n",
       "      <td>3872 Matthew Skyway</td>\n",
       "      <td>Paris</td>\n",
       "      <td>MS</td>\n",
       "      <td>38949</td>\n",
       "      <td>34.1992</td>\n",
       "      <td>-89.3820</td>\n",
       "      <td>297</td>\n",
       "      <td>Administrator, local government</td>\n",
       "      <td>1961-12-14</td>\n",
       "      <td>c33bcd8c63d50b4fe9c2514c7107e1ba</td>\n",
       "      <td>1386230337</td>\n",
       "      <td>34.362314</td>\n",
       "      <td>-89.623306</td>\n",
       "      <td>0</td>\n",
       "    </tr>\n",
       "    <tr>\n",
       "      <th>...</th>\n",
       "      <td>...</td>\n",
       "      <td>...</td>\n",
       "      <td>...</td>\n",
       "      <td>...</td>\n",
       "      <td>...</td>\n",
       "      <td>...</td>\n",
       "      <td>...</td>\n",
       "      <td>...</td>\n",
       "      <td>...</td>\n",
       "      <td>...</td>\n",
       "      <td>...</td>\n",
       "      <td>...</td>\n",
       "      <td>...</td>\n",
       "      <td>...</td>\n",
       "      <td>...</td>\n",
       "      <td>...</td>\n",
       "      <td>...</td>\n",
       "      <td>...</td>\n",
       "      <td>...</td>\n",
       "      <td>...</td>\n",
       "      <td>...</td>\n",
       "      <td>...</td>\n",
       "    </tr>\n",
       "    <tr>\n",
       "      <th>19297</th>\n",
       "      <td>2020-12-22 22:05:48</td>\n",
       "      <td>2242176657877538</td>\n",
       "      <td>fraud_Willms, Kris and Bergnaum</td>\n",
       "      <td>shopping_pos</td>\n",
       "      <td>1041.51</td>\n",
       "      <td>Travis</td>\n",
       "      <td>Daniel</td>\n",
       "      <td>M</td>\n",
       "      <td>1327 Rose Causeway Apt. 610</td>\n",
       "      <td>Senatobia</td>\n",
       "      <td>MS</td>\n",
       "      <td>38668</td>\n",
       "      <td>34.6323</td>\n",
       "      <td>-89.8855</td>\n",
       "      <td>14462</td>\n",
       "      <td>Database administrator</td>\n",
       "      <td>1959-03-03</td>\n",
       "      <td>35b0297dd026d2e9a75d024a5dec7955</td>\n",
       "      <td>1387749948</td>\n",
       "      <td>34.573471</td>\n",
       "      <td>-89.911011</td>\n",
       "      <td>1</td>\n",
       "    </tr>\n",
       "    <tr>\n",
       "      <th>19298</th>\n",
       "      <td>2020-12-22 22:18:07</td>\n",
       "      <td>2242176657877538</td>\n",
       "      <td>fraud_Kuhn LLC</td>\n",
       "      <td>shopping_pos</td>\n",
       "      <td>868.09</td>\n",
       "      <td>Travis</td>\n",
       "      <td>Daniel</td>\n",
       "      <td>M</td>\n",
       "      <td>1327 Rose Causeway Apt. 610</td>\n",
       "      <td>Senatobia</td>\n",
       "      <td>MS</td>\n",
       "      <td>38668</td>\n",
       "      <td>34.6323</td>\n",
       "      <td>-89.8855</td>\n",
       "      <td>14462</td>\n",
       "      <td>Database administrator</td>\n",
       "      <td>1959-03-03</td>\n",
       "      <td>da7f67d7375f10a054a3d919448c45dd</td>\n",
       "      <td>1387750687</td>\n",
       "      <td>34.091227</td>\n",
       "      <td>-90.390612</td>\n",
       "      <td>1</td>\n",
       "    </tr>\n",
       "    <tr>\n",
       "      <th>19299</th>\n",
       "      <td>2020-12-22 22:31:48</td>\n",
       "      <td>2242176657877538</td>\n",
       "      <td>fraud_Mosciski, Ziemann and Farrell</td>\n",
       "      <td>shopping_net</td>\n",
       "      <td>1039.42</td>\n",
       "      <td>Travis</td>\n",
       "      <td>Daniel</td>\n",
       "      <td>M</td>\n",
       "      <td>1327 Rose Causeway Apt. 610</td>\n",
       "      <td>Senatobia</td>\n",
       "      <td>MS</td>\n",
       "      <td>38668</td>\n",
       "      <td>34.6323</td>\n",
       "      <td>-89.8855</td>\n",
       "      <td>14462</td>\n",
       "      <td>Database administrator</td>\n",
       "      <td>1959-03-03</td>\n",
       "      <td>25b076c7bcd70f272c1c5326bb234f4b</td>\n",
       "      <td>1387751508</td>\n",
       "      <td>34.628434</td>\n",
       "      <td>-90.284780</td>\n",
       "      <td>1</td>\n",
       "    </tr>\n",
       "    <tr>\n",
       "      <th>19300</th>\n",
       "      <td>2020-12-22 23:06:03</td>\n",
       "      <td>2242176657877538</td>\n",
       "      <td>fraud_Bauch-Raynor</td>\n",
       "      <td>grocery_pos</td>\n",
       "      <td>289.27</td>\n",
       "      <td>Travis</td>\n",
       "      <td>Daniel</td>\n",
       "      <td>M</td>\n",
       "      <td>1327 Rose Causeway Apt. 610</td>\n",
       "      <td>Senatobia</td>\n",
       "      <td>MS</td>\n",
       "      <td>38668</td>\n",
       "      <td>34.6323</td>\n",
       "      <td>-89.8855</td>\n",
       "      <td>14462</td>\n",
       "      <td>Database administrator</td>\n",
       "      <td>1959-03-03</td>\n",
       "      <td>2df7d894868fbc99ec1d8b055585fc9d</td>\n",
       "      <td>1387753563</td>\n",
       "      <td>34.746063</td>\n",
       "      <td>-90.401093</td>\n",
       "      <td>1</td>\n",
       "    </tr>\n",
       "    <tr>\n",
       "      <th>19301</th>\n",
       "      <td>2020-12-22 23:13:39</td>\n",
       "      <td>2242176657877538</td>\n",
       "      <td>fraud_Jaskolski-Vandervort</td>\n",
       "      <td>misc_net</td>\n",
       "      <td>766.38</td>\n",
       "      <td>Travis</td>\n",
       "      <td>Daniel</td>\n",
       "      <td>M</td>\n",
       "      <td>1327 Rose Causeway Apt. 610</td>\n",
       "      <td>Senatobia</td>\n",
       "      <td>MS</td>\n",
       "      <td>38668</td>\n",
       "      <td>34.6323</td>\n",
       "      <td>-89.8855</td>\n",
       "      <td>14462</td>\n",
       "      <td>Database administrator</td>\n",
       "      <td>1959-03-03</td>\n",
       "      <td>44292cbc51e37dc018ee6a988a4bc426</td>\n",
       "      <td>1387754019</td>\n",
       "      <td>33.771462</td>\n",
       "      <td>-90.651342</td>\n",
       "      <td>1</td>\n",
       "    </tr>\n",
       "  </tbody>\n",
       "</table>\n",
       "<p>19302 rows × 22 columns</p>\n",
       "</div>"
      ],
      "text/plain": [
       "      trans_date_trans_time            cc_num  \\\n",
       "0       2019-08-11 19:38:33  4681601008538160   \n",
       "1       2020-02-21 13:31:42  4653879239169997   \n",
       "2       2019-09-03 02:39:49  4334230547694630   \n",
       "3       2020-03-31 02:39:04  2256234701263057   \n",
       "4       2020-12-05 07:58:57  6011948324228984   \n",
       "...                     ...               ...   \n",
       "19297   2020-12-22 22:05:48  2242176657877538   \n",
       "19298   2020-12-22 22:18:07  2242176657877538   \n",
       "19299   2020-12-22 22:31:48  2242176657877538   \n",
       "19300   2020-12-22 23:06:03  2242176657877538   \n",
       "19301   2020-12-22 23:13:39  2242176657877538   \n",
       "\n",
       "                                  merchant        category      amt  \\\n",
       "0                   fraud_Hermann and Sons    shopping_pos    50.81   \n",
       "1         fraud_Cronin, Kshlerin and Weber  health_fitness     1.97   \n",
       "2                   fraud_Rutherford-Mertz     grocery_pos   100.18   \n",
       "3                       fraud_Kris-Padberg    shopping_pos     7.67   \n",
       "4         fraud_Towne, Greenholt and Koepp    shopping_net   478.10   \n",
       "...                                    ...             ...      ...   \n",
       "19297      fraud_Willms, Kris and Bergnaum    shopping_pos  1041.51   \n",
       "19298                       fraud_Kuhn LLC    shopping_pos   868.09   \n",
       "19299  fraud_Mosciski, Ziemann and Farrell    shopping_net  1039.42   \n",
       "19300                   fraud_Bauch-Raynor     grocery_pos   289.27   \n",
       "19301           fraud_Jaskolski-Vandervort        misc_net   766.38   \n",
       "\n",
       "             first    last gender                       street          city  \\\n",
       "0            Tammy   Davis      F        77663 Colleen Freeway   Moundsville   \n",
       "1           Monica  Tucker      F        302 Christina Islands  Smiths Grove   \n",
       "2            Scott  Martin      M           7483 Navarro Flats       Freedom   \n",
       "3      Christopher  Grimes      M            39631 Dunn Radial      Grantham   \n",
       "4         Mckenzie  Brooks      F          3872 Matthew Skyway         Paris   \n",
       "...            ...     ...    ...                          ...           ...   \n",
       "19297       Travis  Daniel      M  1327 Rose Causeway Apt. 610     Senatobia   \n",
       "19298       Travis  Daniel      M  1327 Rose Causeway Apt. 610     Senatobia   \n",
       "19299       Travis  Daniel      M  1327 Rose Causeway Apt. 610     Senatobia   \n",
       "19300       Travis  Daniel      M  1327 Rose Causeway Apt. 610     Senatobia   \n",
       "19301       Travis  Daniel      M  1327 Rose Causeway Apt. 610     Senatobia   \n",
       "\n",
       "      state    zip      lat      long  city_pop  \\\n",
       "0        WV  26041  39.9148  -80.7310     16183   \n",
       "1        KY  42171  37.0581  -86.1938      6841   \n",
       "2        WY  83120  43.0172 -111.0292       471   \n",
       "3        NH   3753  43.5103  -72.1334      2971   \n",
       "4        MS  38949  34.1992  -89.3820       297   \n",
       "...     ...    ...      ...       ...       ...   \n",
       "19297    MS  38668  34.6323  -89.8855     14462   \n",
       "19298    MS  38668  34.6323  -89.8855     14462   \n",
       "19299    MS  38668  34.6323  -89.8855     14462   \n",
       "19300    MS  38668  34.6323  -89.8855     14462   \n",
       "19301    MS  38668  34.6323  -89.8855     14462   \n",
       "\n",
       "                                   job         dob  \\\n",
       "0                      Physiotherapist  1977-08-12   \n",
       "1                    Therapist, sports  1999-06-06   \n",
       "2            Education officer, museum  1967-08-02   \n",
       "3                   Charity fundraiser  1948-04-11   \n",
       "4      Administrator, local government  1961-12-14   \n",
       "...                                ...         ...   \n",
       "19297           Database administrator  1959-03-03   \n",
       "19298           Database administrator  1959-03-03   \n",
       "19299           Database administrator  1959-03-03   \n",
       "19300           Database administrator  1959-03-03   \n",
       "19301           Database administrator  1959-03-03   \n",
       "\n",
       "                              trans_num   unix_time  merch_lat  merch_long  \\\n",
       "0      f64003a5726ca99519ef2ad18bce32f5  1344713913  39.238053  -81.728984   \n",
       "1      f8e25094098b22a8e9dce2670ffe891e  1361453502  36.665575  -85.608885   \n",
       "2      291160a410748e5bec42d95ae06132ae  1346639989  43.362578 -110.580382   \n",
       "3      df716fe9ce97522bc074d8c93e6e18c2  1364697544  44.312773  -71.555079   \n",
       "4      c33bcd8c63d50b4fe9c2514c7107e1ba  1386230337  34.362314  -89.623306   \n",
       "...                                 ...         ...        ...         ...   \n",
       "19297  35b0297dd026d2e9a75d024a5dec7955  1387749948  34.573471  -89.911011   \n",
       "19298  da7f67d7375f10a054a3d919448c45dd  1387750687  34.091227  -90.390612   \n",
       "19299  25b076c7bcd70f272c1c5326bb234f4b  1387751508  34.628434  -90.284780   \n",
       "19300  2df7d894868fbc99ec1d8b055585fc9d  1387753563  34.746063  -90.401093   \n",
       "19301  44292cbc51e37dc018ee6a988a4bc426  1387754019  33.771462  -90.651342   \n",
       "\n",
       "       is_fraud  \n",
       "0             0  \n",
       "1             0  \n",
       "2             0  \n",
       "3             0  \n",
       "4             0  \n",
       "...         ...  \n",
       "19297         1  \n",
       "19298         1  \n",
       "19299         1  \n",
       "19300         1  \n",
       "19301         1  \n",
       "\n",
       "[19302 rows x 22 columns]"
      ]
     },
     "execution_count": 8,
     "metadata": {},
     "output_type": "execute_result"
    }
   ],
   "source": [
    "pd.set_option('display.max_columns', None)  # Show all \n",
    "df\n"
   ]
  },
  {
   "cell_type": "code",
   "execution_count": null,
   "id": "c92bb59a-e886-460c-b217-4c9c84f2fb66",
   "metadata": {},
   "outputs": [],
   "source": []
  },
  {
   "cell_type": "markdown",
   "id": "3e09219e-4d9b-4074-bb7b-54b42e8bade2",
   "metadata": {},
   "source": [
    "## 1) Top 5 cities where most fraudent transaction occur"
   ]
  },
  {
   "cell_type": "code",
   "execution_count": 23,
   "id": "92960908-0696-4530-a21e-81054a8cad32",
   "metadata": {},
   "outputs": [],
   "source": [
    "a=df[df[\"is_fraud\"]==1]"
   ]
  },
  {
   "cell_type": "code",
   "execution_count": 26,
   "id": "bccc9a30-a5be-4d40-9ddb-8ce60c88b1d5",
   "metadata": {},
   "outputs": [
    {
     "data": {
      "text/plain": [
       "(9651, 22)"
      ]
     },
     "execution_count": 26,
     "metadata": {},
     "output_type": "execute_result"
    }
   ],
   "source": [
    "a.shape"
   ]
  },
  {
   "cell_type": "code",
   "execution_count": 25,
   "id": "0a02ec97-0c9f-40f5-b4a8-fa90e2801c59",
   "metadata": {},
   "outputs": [
    {
     "data": {
      "text/plain": [
       "city\n",
       "Houston          39\n",
       "Dallas           39\n",
       "Birmingham       36\n",
       "New York City    35\n",
       "Camden           34\n",
       "Name: count, dtype: int64"
      ]
     },
     "execution_count": 25,
     "metadata": {},
     "output_type": "execute_result"
    }
   ],
   "source": [
    "a[\"city\"].value_counts().head()"
   ]
  },
  {
   "cell_type": "markdown",
   "id": "12d3027b-d6b4-4c0c-a8e6-12fc07175375",
   "metadata": {},
   "source": [
    "## 2)Most frequent transaction categories associated with fraudulent transaction"
   ]
  },
  {
   "cell_type": "code",
   "execution_count": 27,
   "id": "333e20e1-2647-478c-85e4-f82231c581c5",
   "metadata": {},
   "outputs": [
    {
     "data": {
      "text/plain": [
       "category\n",
       "grocery_pos      2228\n",
       "shopping_net     2219\n",
       "misc_net         1182\n",
       "shopping_pos     1056\n",
       "gas_transport     772\n",
       "Name: count, dtype: int64"
      ]
     },
     "execution_count": 27,
     "metadata": {},
     "output_type": "execute_result"
    }
   ],
   "source": [
    "a[\"category\"].value_counts().head()"
   ]
  },
  {
   "cell_type": "markdown",
   "id": "0815b568-5178-4612-8daa-8a100ba836b3",
   "metadata": {},
   "source": [
    "## 3)Top 10 most frequent merchants for fraudulent transaction"
   ]
  },
  {
   "cell_type": "code",
   "execution_count": 28,
   "id": "d2877532-ab77-4d39-ac24-95bbd77fc708",
   "metadata": {},
   "outputs": [
    {
     "data": {
      "text/plain": [
       "merchant\n",
       "fraud_Kilback LLC                      62\n",
       "fraud_Kozey-Boehm                      60\n",
       "fraud_Rau and Sons                     60\n",
       "fraud_Doyle Ltd                        57\n",
       "fraud_Terry-Huel                       56\n",
       "fraud_Boyer PLC                        55\n",
       "fraud_Kuhn LLC                         55\n",
       "fraud_Moen, Reinger and Murphy         53\n",
       "fraud_Mosciski, Ziemann and Farrell    53\n",
       "fraud_Kiehn-Emmerich                   53\n",
       "Name: count, dtype: int64"
      ]
     },
     "execution_count": 28,
     "metadata": {},
     "output_type": "execute_result"
    }
   ],
   "source": [
    "a[\"merchant\"].value_counts().head(10)"
   ]
  },
  {
   "cell_type": "markdown",
   "id": "d313b4cd-b638-474e-a80e-a5e4354074b9",
   "metadata": {},
   "source": [
    "## 4) Calculate average amount spent by each gender and visualize it"
   ]
  },
  {
   "cell_type": "code",
   "execution_count": 29,
   "id": "52dd9873-b737-4aca-84da-063492dfe2fa",
   "metadata": {},
   "outputs": [
    {
     "data": {
      "text/plain": [
       "array(['F', 'M'], dtype=object)"
      ]
     },
     "execution_count": 29,
     "metadata": {},
     "output_type": "execute_result"
    }
   ],
   "source": [
    "df.gender.unique()"
   ]
  },
  {
   "cell_type": "code",
   "execution_count": 36,
   "id": "c01acdf2-9190-4c52-81cc-53c49946ec4b",
   "metadata": {},
   "outputs": [
    {
     "name": "stdout",
     "output_type": "stream",
     "text": [
      "Average amount spend by female is 271.71298766157463\n",
      "Average amount spend by male is 330.5072156215621\n"
     ]
    }
   ],
   "source": [
    "a=df[df[\"gender\"]==\"F\"]\n",
    "b=df[df[\"gender\"]==\"M\"]\n",
    "print(\"Average amount spend by female is\",a.amt.mean())\n",
    "print(\"Average amount spend by male is\",b.amt.mean())"
   ]
  },
  {
   "cell_type": "markdown",
   "id": "c48dedd9-e560-4508-bffd-5c10e86c94d8",
   "metadata": {},
   "source": [
    "## 5) Top 5 merchants with the highest average transaction amount  "
   ]
  },
  {
   "cell_type": "code",
   "execution_count": null,
   "id": "0a36bc85-cf1d-4dc3-85cb-bdb22c16f179",
   "metadata": {},
   "outputs": [],
   "source": []
  },
  {
   "cell_type": "code",
   "execution_count": 47,
   "id": "655fb609-136c-4882-bef9-24eab2652e54",
   "metadata": {},
   "outputs": [],
   "source": [
    "a=df.sort_values(by=\"amt\", ascending=False)"
   ]
  },
  {
   "cell_type": "code",
   "execution_count": 51,
   "id": "bec336ca-7df0-4b91-8ba0-040f96180787",
   "metadata": {},
   "outputs": [
    {
     "data": {
      "text/html": [
       "<div>\n",
       "<style scoped>\n",
       "    .dataframe tbody tr th:only-of-type {\n",
       "        vertical-align: middle;\n",
       "    }\n",
       "\n",
       "    .dataframe tbody tr th {\n",
       "        vertical-align: top;\n",
       "    }\n",
       "\n",
       "    .dataframe thead th {\n",
       "        text-align: right;\n",
       "    }\n",
       "</style>\n",
       "<table border=\"1\" class=\"dataframe\">\n",
       "  <thead>\n",
       "    <tr style=\"text-align: right;\">\n",
       "      <th></th>\n",
       "      <th>merchant</th>\n",
       "      <th>amt</th>\n",
       "    </tr>\n",
       "  </thead>\n",
       "  <tbody>\n",
       "    <tr>\n",
       "      <th>5369</th>\n",
       "      <td>fraud_Streich, Dietrich and Barton</td>\n",
       "      <td>7508.46</td>\n",
       "    </tr>\n",
       "    <tr>\n",
       "      <th>2600</th>\n",
       "      <td>fraud_Goyette-Herzog</td>\n",
       "      <td>4673.39</td>\n",
       "    </tr>\n",
       "    <tr>\n",
       "      <th>3568</th>\n",
       "      <td>fraud_Schroeder, Wolff and Hermiston</td>\n",
       "      <td>3304.44</td>\n",
       "    </tr>\n",
       "    <tr>\n",
       "      <th>8203</th>\n",
       "      <td>fraud_Hartmann, Rowe and Hermann</td>\n",
       "      <td>3066.61</td>\n",
       "    </tr>\n",
       "    <tr>\n",
       "      <th>2954</th>\n",
       "      <td>fraud_Larson, Quitzon and Spencer</td>\n",
       "      <td>2967.92</td>\n",
       "    </tr>\n",
       "  </tbody>\n",
       "</table>\n",
       "</div>"
      ],
      "text/plain": [
       "                                  merchant      amt\n",
       "5369    fraud_Streich, Dietrich and Barton  7508.46\n",
       "2600                  fraud_Goyette-Herzog  4673.39\n",
       "3568  fraud_Schroeder, Wolff and Hermiston  3304.44\n",
       "8203      fraud_Hartmann, Rowe and Hermann  3066.61\n",
       "2954     fraud_Larson, Quitzon and Spencer  2967.92"
      ]
     },
     "execution_count": 51,
     "metadata": {},
     "output_type": "execute_result"
    }
   ],
   "source": [
    "a[[\"merchant\",\"amt\"]].head()"
   ]
  },
  {
   "cell_type": "markdown",
   "id": "8eb393f0-6dca-4b38-9343-09b64d9ed733",
   "metadata": {},
   "source": [
    "## 6)Calculate the age of each customers "
   ]
  },
  {
   "cell_type": "code",
   "execution_count": 55,
   "id": "32a7d13c-c67e-41df-bae9-0aef2409d58b",
   "metadata": {},
   "outputs": [
    {
     "data": {
      "text/html": [
       "<div>\n",
       "<style scoped>\n",
       "    .dataframe tbody tr th:only-of-type {\n",
       "        vertical-align: middle;\n",
       "    }\n",
       "\n",
       "    .dataframe tbody tr th {\n",
       "        vertical-align: top;\n",
       "    }\n",
       "\n",
       "    .dataframe thead th {\n",
       "        text-align: right;\n",
       "    }\n",
       "</style>\n",
       "<table border=\"1\" class=\"dataframe\">\n",
       "  <thead>\n",
       "    <tr style=\"text-align: right;\">\n",
       "      <th></th>\n",
       "      <th>first</th>\n",
       "      <th>last</th>\n",
       "      <th>dob</th>\n",
       "    </tr>\n",
       "  </thead>\n",
       "  <tbody>\n",
       "    <tr>\n",
       "      <th>0</th>\n",
       "      <td>Tammy</td>\n",
       "      <td>Davis</td>\n",
       "      <td>1977-08-12</td>\n",
       "    </tr>\n",
       "    <tr>\n",
       "      <th>1</th>\n",
       "      <td>Monica</td>\n",
       "      <td>Tucker</td>\n",
       "      <td>1999-06-06</td>\n",
       "    </tr>\n",
       "    <tr>\n",
       "      <th>2</th>\n",
       "      <td>Scott</td>\n",
       "      <td>Martin</td>\n",
       "      <td>1967-08-02</td>\n",
       "    </tr>\n",
       "    <tr>\n",
       "      <th>3</th>\n",
       "      <td>Christopher</td>\n",
       "      <td>Grimes</td>\n",
       "      <td>1948-04-11</td>\n",
       "    </tr>\n",
       "    <tr>\n",
       "      <th>4</th>\n",
       "      <td>Mckenzie</td>\n",
       "      <td>Brooks</td>\n",
       "      <td>1961-12-14</td>\n",
       "    </tr>\n",
       "    <tr>\n",
       "      <th>...</th>\n",
       "      <td>...</td>\n",
       "      <td>...</td>\n",
       "      <td>...</td>\n",
       "    </tr>\n",
       "    <tr>\n",
       "      <th>19297</th>\n",
       "      <td>Travis</td>\n",
       "      <td>Daniel</td>\n",
       "      <td>1959-03-03</td>\n",
       "    </tr>\n",
       "    <tr>\n",
       "      <th>19298</th>\n",
       "      <td>Travis</td>\n",
       "      <td>Daniel</td>\n",
       "      <td>1959-03-03</td>\n",
       "    </tr>\n",
       "    <tr>\n",
       "      <th>19299</th>\n",
       "      <td>Travis</td>\n",
       "      <td>Daniel</td>\n",
       "      <td>1959-03-03</td>\n",
       "    </tr>\n",
       "    <tr>\n",
       "      <th>19300</th>\n",
       "      <td>Travis</td>\n",
       "      <td>Daniel</td>\n",
       "      <td>1959-03-03</td>\n",
       "    </tr>\n",
       "    <tr>\n",
       "      <th>19301</th>\n",
       "      <td>Travis</td>\n",
       "      <td>Daniel</td>\n",
       "      <td>1959-03-03</td>\n",
       "    </tr>\n",
       "  </tbody>\n",
       "</table>\n",
       "<p>19302 rows × 3 columns</p>\n",
       "</div>"
      ],
      "text/plain": [
       "             first    last         dob\n",
       "0            Tammy   Davis  1977-08-12\n",
       "1           Monica  Tucker  1999-06-06\n",
       "2            Scott  Martin  1967-08-02\n",
       "3      Christopher  Grimes  1948-04-11\n",
       "4         Mckenzie  Brooks  1961-12-14\n",
       "...            ...     ...         ...\n",
       "19297       Travis  Daniel  1959-03-03\n",
       "19298       Travis  Daniel  1959-03-03\n",
       "19299       Travis  Daniel  1959-03-03\n",
       "19300       Travis  Daniel  1959-03-03\n",
       "19301       Travis  Daniel  1959-03-03\n",
       "\n",
       "[19302 rows x 3 columns]"
      ]
     },
     "execution_count": 55,
     "metadata": {},
     "output_type": "execute_result"
    }
   ],
   "source": [
    "a=df[[\"first\",\"last\",\"dob\"]]\n",
    "a"
   ]
  },
  {
   "cell_type": "code",
   "execution_count": 56,
   "id": "cddf5e33-c505-408a-bfc9-7fe6339e8dac",
   "metadata": {},
   "outputs": [
    {
     "name": "stderr",
     "output_type": "stream",
     "text": [
      "C:\\Users\\Administrator\\AppData\\Local\\Temp\\ipykernel_8424\\4099330139.py:1: SettingWithCopyWarning: \n",
      "A value is trying to be set on a copy of a slice from a DataFrame.\n",
      "Try using .loc[row_indexer,col_indexer] = value instead\n",
      "\n",
      "See the caveats in the documentation: https://pandas.pydata.org/pandas-docs/stable/user_guide/indexing.html#returning-a-view-versus-a-copy\n",
      "  a[\"year\"] = a[\"dob\"].str.split(\"-\").str[0]\n"
     ]
    },
    {
     "data": {
      "text/html": [
       "<div>\n",
       "<style scoped>\n",
       "    .dataframe tbody tr th:only-of-type {\n",
       "        vertical-align: middle;\n",
       "    }\n",
       "\n",
       "    .dataframe tbody tr th {\n",
       "        vertical-align: top;\n",
       "    }\n",
       "\n",
       "    .dataframe thead th {\n",
       "        text-align: right;\n",
       "    }\n",
       "</style>\n",
       "<table border=\"1\" class=\"dataframe\">\n",
       "  <thead>\n",
       "    <tr style=\"text-align: right;\">\n",
       "      <th></th>\n",
       "      <th>first</th>\n",
       "      <th>last</th>\n",
       "      <th>dob</th>\n",
       "      <th>year</th>\n",
       "    </tr>\n",
       "  </thead>\n",
       "  <tbody>\n",
       "    <tr>\n",
       "      <th>0</th>\n",
       "      <td>Tammy</td>\n",
       "      <td>Davis</td>\n",
       "      <td>1977-08-12</td>\n",
       "      <td>1977</td>\n",
       "    </tr>\n",
       "    <tr>\n",
       "      <th>1</th>\n",
       "      <td>Monica</td>\n",
       "      <td>Tucker</td>\n",
       "      <td>1999-06-06</td>\n",
       "      <td>1999</td>\n",
       "    </tr>\n",
       "    <tr>\n",
       "      <th>2</th>\n",
       "      <td>Scott</td>\n",
       "      <td>Martin</td>\n",
       "      <td>1967-08-02</td>\n",
       "      <td>1967</td>\n",
       "    </tr>\n",
       "    <tr>\n",
       "      <th>3</th>\n",
       "      <td>Christopher</td>\n",
       "      <td>Grimes</td>\n",
       "      <td>1948-04-11</td>\n",
       "      <td>1948</td>\n",
       "    </tr>\n",
       "    <tr>\n",
       "      <th>4</th>\n",
       "      <td>Mckenzie</td>\n",
       "      <td>Brooks</td>\n",
       "      <td>1961-12-14</td>\n",
       "      <td>1961</td>\n",
       "    </tr>\n",
       "    <tr>\n",
       "      <th>...</th>\n",
       "      <td>...</td>\n",
       "      <td>...</td>\n",
       "      <td>...</td>\n",
       "      <td>...</td>\n",
       "    </tr>\n",
       "    <tr>\n",
       "      <th>19297</th>\n",
       "      <td>Travis</td>\n",
       "      <td>Daniel</td>\n",
       "      <td>1959-03-03</td>\n",
       "      <td>1959</td>\n",
       "    </tr>\n",
       "    <tr>\n",
       "      <th>19298</th>\n",
       "      <td>Travis</td>\n",
       "      <td>Daniel</td>\n",
       "      <td>1959-03-03</td>\n",
       "      <td>1959</td>\n",
       "    </tr>\n",
       "    <tr>\n",
       "      <th>19299</th>\n",
       "      <td>Travis</td>\n",
       "      <td>Daniel</td>\n",
       "      <td>1959-03-03</td>\n",
       "      <td>1959</td>\n",
       "    </tr>\n",
       "    <tr>\n",
       "      <th>19300</th>\n",
       "      <td>Travis</td>\n",
       "      <td>Daniel</td>\n",
       "      <td>1959-03-03</td>\n",
       "      <td>1959</td>\n",
       "    </tr>\n",
       "    <tr>\n",
       "      <th>19301</th>\n",
       "      <td>Travis</td>\n",
       "      <td>Daniel</td>\n",
       "      <td>1959-03-03</td>\n",
       "      <td>1959</td>\n",
       "    </tr>\n",
       "  </tbody>\n",
       "</table>\n",
       "<p>19302 rows × 4 columns</p>\n",
       "</div>"
      ],
      "text/plain": [
       "             first    last         dob  year\n",
       "0            Tammy   Davis  1977-08-12  1977\n",
       "1           Monica  Tucker  1999-06-06  1999\n",
       "2            Scott  Martin  1967-08-02  1967\n",
       "3      Christopher  Grimes  1948-04-11  1948\n",
       "4         Mckenzie  Brooks  1961-12-14  1961\n",
       "...            ...     ...         ...   ...\n",
       "19297       Travis  Daniel  1959-03-03  1959\n",
       "19298       Travis  Daniel  1959-03-03  1959\n",
       "19299       Travis  Daniel  1959-03-03  1959\n",
       "19300       Travis  Daniel  1959-03-03  1959\n",
       "19301       Travis  Daniel  1959-03-03  1959\n",
       "\n",
       "[19302 rows x 4 columns]"
      ]
     },
     "execution_count": 56,
     "metadata": {},
     "output_type": "execute_result"
    }
   ],
   "source": [
    "a[\"year\"] = a[\"dob\"].str.split(\"-\").str[0]\n"
   ]
  },
  {
   "cell_type": "code",
   "execution_count": null,
   "id": "d9b80d1e-ca4d-4a57-a1d4-36a710f36d39",
   "metadata": {},
   "outputs": [],
   "source": []
  },
  {
   "cell_type": "code",
   "execution_count": 61,
   "id": "c20e8191-1b1f-46f6-abf0-068166fb1ee3",
   "metadata": {},
   "outputs": [
    {
     "name": "stderr",
     "output_type": "stream",
     "text": [
      "C:\\Users\\Administrator\\AppData\\Local\\Temp\\ipykernel_8424\\1388983106.py:1: SettingWithCopyWarning: \n",
      "A value is trying to be set on a copy of a slice from a DataFrame.\n",
      "Try using .loc[row_indexer,col_indexer] = value instead\n",
      "\n",
      "See the caveats in the documentation: https://pandas.pydata.org/pandas-docs/stable/user_guide/indexing.html#returning-a-view-versus-a-copy\n",
      "  a[\"age\"] = 2025 - a[\"year\"].astype(int)\n"
     ]
    }
   ],
   "source": [
    "a[\"age\"] = 2025 - a[\"year\"].astype(int)"
   ]
  },
  {
   "cell_type": "code",
   "execution_count": 62,
   "id": "d6c4a5f1-7495-4298-be59-99e2fe81b0ca",
   "metadata": {},
   "outputs": [
    {
     "data": {
      "text/html": [
       "<div>\n",
       "<style scoped>\n",
       "    .dataframe tbody tr th:only-of-type {\n",
       "        vertical-align: middle;\n",
       "    }\n",
       "\n",
       "    .dataframe tbody tr th {\n",
       "        vertical-align: top;\n",
       "    }\n",
       "\n",
       "    .dataframe thead th {\n",
       "        text-align: right;\n",
       "    }\n",
       "</style>\n",
       "<table border=\"1\" class=\"dataframe\">\n",
       "  <thead>\n",
       "    <tr style=\"text-align: right;\">\n",
       "      <th></th>\n",
       "      <th>first</th>\n",
       "      <th>last</th>\n",
       "      <th>dob</th>\n",
       "      <th>year</th>\n",
       "      <th>age</th>\n",
       "    </tr>\n",
       "  </thead>\n",
       "  <tbody>\n",
       "    <tr>\n",
       "      <th>0</th>\n",
       "      <td>Tammy</td>\n",
       "      <td>Davis</td>\n",
       "      <td>1977-08-12</td>\n",
       "      <td>1977</td>\n",
       "      <td>48</td>\n",
       "    </tr>\n",
       "    <tr>\n",
       "      <th>1</th>\n",
       "      <td>Monica</td>\n",
       "      <td>Tucker</td>\n",
       "      <td>1999-06-06</td>\n",
       "      <td>1999</td>\n",
       "      <td>26</td>\n",
       "    </tr>\n",
       "    <tr>\n",
       "      <th>2</th>\n",
       "      <td>Scott</td>\n",
       "      <td>Martin</td>\n",
       "      <td>1967-08-02</td>\n",
       "      <td>1967</td>\n",
       "      <td>58</td>\n",
       "    </tr>\n",
       "    <tr>\n",
       "      <th>3</th>\n",
       "      <td>Christopher</td>\n",
       "      <td>Grimes</td>\n",
       "      <td>1948-04-11</td>\n",
       "      <td>1948</td>\n",
       "      <td>77</td>\n",
       "    </tr>\n",
       "    <tr>\n",
       "      <th>4</th>\n",
       "      <td>Mckenzie</td>\n",
       "      <td>Brooks</td>\n",
       "      <td>1961-12-14</td>\n",
       "      <td>1961</td>\n",
       "      <td>64</td>\n",
       "    </tr>\n",
       "    <tr>\n",
       "      <th>...</th>\n",
       "      <td>...</td>\n",
       "      <td>...</td>\n",
       "      <td>...</td>\n",
       "      <td>...</td>\n",
       "      <td>...</td>\n",
       "    </tr>\n",
       "    <tr>\n",
       "      <th>19297</th>\n",
       "      <td>Travis</td>\n",
       "      <td>Daniel</td>\n",
       "      <td>1959-03-03</td>\n",
       "      <td>1959</td>\n",
       "      <td>66</td>\n",
       "    </tr>\n",
       "    <tr>\n",
       "      <th>19298</th>\n",
       "      <td>Travis</td>\n",
       "      <td>Daniel</td>\n",
       "      <td>1959-03-03</td>\n",
       "      <td>1959</td>\n",
       "      <td>66</td>\n",
       "    </tr>\n",
       "    <tr>\n",
       "      <th>19299</th>\n",
       "      <td>Travis</td>\n",
       "      <td>Daniel</td>\n",
       "      <td>1959-03-03</td>\n",
       "      <td>1959</td>\n",
       "      <td>66</td>\n",
       "    </tr>\n",
       "    <tr>\n",
       "      <th>19300</th>\n",
       "      <td>Travis</td>\n",
       "      <td>Daniel</td>\n",
       "      <td>1959-03-03</td>\n",
       "      <td>1959</td>\n",
       "      <td>66</td>\n",
       "    </tr>\n",
       "    <tr>\n",
       "      <th>19301</th>\n",
       "      <td>Travis</td>\n",
       "      <td>Daniel</td>\n",
       "      <td>1959-03-03</td>\n",
       "      <td>1959</td>\n",
       "      <td>66</td>\n",
       "    </tr>\n",
       "  </tbody>\n",
       "</table>\n",
       "<p>19302 rows × 5 columns</p>\n",
       "</div>"
      ],
      "text/plain": [
       "             first    last         dob  year  age\n",
       "0            Tammy   Davis  1977-08-12  1977   48\n",
       "1           Monica  Tucker  1999-06-06  1999   26\n",
       "2            Scott  Martin  1967-08-02  1967   58\n",
       "3      Christopher  Grimes  1948-04-11  1948   77\n",
       "4         Mckenzie  Brooks  1961-12-14  1961   64\n",
       "...            ...     ...         ...   ...  ...\n",
       "19297       Travis  Daniel  1959-03-03  1959   66\n",
       "19298       Travis  Daniel  1959-03-03  1959   66\n",
       "19299       Travis  Daniel  1959-03-03  1959   66\n",
       "19300       Travis  Daniel  1959-03-03  1959   66\n",
       "19301       Travis  Daniel  1959-03-03  1959   66\n",
       "\n",
       "[19302 rows x 5 columns]"
      ]
     },
     "execution_count": 62,
     "metadata": {},
     "output_type": "execute_result"
    }
   ],
   "source": [
    "# Age of each customer when taking the year of their birth\n",
    "a"
   ]
  },
  {
   "cell_type": "markdown",
   "id": "c6371c28-0987-453d-812e-05e7f710cf84",
   "metadata": {},
   "source": [
    "## 7) Top 5 states with highest number of transactions"
   ]
  },
  {
   "cell_type": "code",
   "execution_count": 69,
   "id": "6a648b39-6036-4aff-804f-2591a6d969b4",
   "metadata": {},
   "outputs": [
    {
     "data": {
      "text/plain": [
       "state\n",
       "NY    1290\n",
       "TX    1287\n",
       "PA    1153\n",
       "CA     857\n",
       "OH     687\n",
       "Name: count, dtype: int64"
      ]
     },
     "execution_count": 69,
     "metadata": {},
     "output_type": "execute_result"
    }
   ],
   "source": [
    "df[\"state\"].value_counts().head()"
   ]
  },
  {
   "cell_type": "markdown",
   "id": "c599f7c5-2338-421e-9299-f17df57ca884",
   "metadata": {},
   "source": [
    "## 8) Distribution of transaction over the course of month"
   ]
  },
  {
   "cell_type": "code",
   "execution_count": 75,
   "id": "a47d01ee-762c-4ebb-902c-66211e7c1371",
   "metadata": {},
   "outputs": [
    {
     "name": "stderr",
     "output_type": "stream",
     "text": [
      "C:\\Users\\Administrator\\AppData\\Local\\Temp\\ipykernel_8424\\1803440968.py:2: SettingWithCopyWarning: \n",
      "A value is trying to be set on a copy of a slice from a DataFrame.\n",
      "Try using .loc[row_indexer,col_indexer] = value instead\n",
      "\n",
      "See the caveats in the documentation: https://pandas.pydata.org/pandas-docs/stable/user_guide/indexing.html#returning-a-view-versus-a-copy\n",
      "  a[\"month\"] = a[\"dob\"].str.split(\"-\").str[1]\n"
     ]
    }
   ],
   "source": [
    "a=df[[\"dob\"]]\n",
    "a[\"month\"] = a[\"dob\"].str.split(\"-\").str[0]\n"
   ]
  },
  {
   "cell_type": "code",
   "execution_count": 77,
   "id": "90192e2d-f519-423a-94f4-c99b6b0dafab",
   "metadata": {},
   "outputs": [
    {
     "data": {
      "text/plain": [
       "month\n",
       "03    1804\n",
       "05    1747\n",
       "11    1675\n",
       "04    1663\n",
       "01    1646\n",
       "06    1642\n",
       "07    1631\n",
       "09    1631\n",
       "12    1569\n",
       "10    1514\n",
       "08    1505\n",
       "02    1275\n",
       "Name: count, dtype: int64"
      ]
     },
     "execution_count": 77,
     "metadata": {},
     "output_type": "execute_result"
    }
   ],
   "source": [
    "a[\"month\"].value_counts()\n",
    "#DISTRIBUTION FOR EACH MONTH"
   ]
  },
  {
   "cell_type": "markdown",
   "id": "3c70efac-1375-48fd-8dd1-411059e3a0fe",
   "metadata": {},
   "source": [
    "## 9) Visualize reln btw transaction date and fraud occurance over time"
   ]
  },
  {
   "cell_type": "code",
   "execution_count": 78,
   "id": "a56125c4-2767-43fa-a153-fe8283d1d8dd",
   "metadata": {},
   "outputs": [],
   "source": [
    "# SKIPPING DUE TO LIMITATION"
   ]
  },
  {
   "cell_type": "markdown",
   "id": "9615044e-d200-4ba8-9219-93f0a0c04e67",
   "metadata": {},
   "source": [
    "## 10) Analyse spending pattern based on age groups and avg spending amount for each group"
   ]
  },
  {
   "cell_type": "code",
   "execution_count": 98,
   "id": "f7d0d317-deb4-4d61-aed7-a8f31ddd659f",
   "metadata": {},
   "outputs": [],
   "source": [
    "a=df[[\"dob\",\"amt\"]]"
   ]
  },
  {
   "cell_type": "code",
   "execution_count": 99,
   "id": "6eb552dc-07ac-4df0-afb3-95ce0e92f469",
   "metadata": {},
   "outputs": [
    {
     "data": {
      "text/html": [
       "<div>\n",
       "<style scoped>\n",
       "    .dataframe tbody tr th:only-of-type {\n",
       "        vertical-align: middle;\n",
       "    }\n",
       "\n",
       "    .dataframe tbody tr th {\n",
       "        vertical-align: top;\n",
       "    }\n",
       "\n",
       "    .dataframe thead th {\n",
       "        text-align: right;\n",
       "    }\n",
       "</style>\n",
       "<table border=\"1\" class=\"dataframe\">\n",
       "  <thead>\n",
       "    <tr style=\"text-align: right;\">\n",
       "      <th></th>\n",
       "      <th>dob</th>\n",
       "      <th>amt</th>\n",
       "    </tr>\n",
       "  </thead>\n",
       "  <tbody>\n",
       "    <tr>\n",
       "      <th>0</th>\n",
       "      <td>1977-08-12</td>\n",
       "      <td>50.81</td>\n",
       "    </tr>\n",
       "    <tr>\n",
       "      <th>1</th>\n",
       "      <td>1999-06-06</td>\n",
       "      <td>1.97</td>\n",
       "    </tr>\n",
       "    <tr>\n",
       "      <th>2</th>\n",
       "      <td>1967-08-02</td>\n",
       "      <td>100.18</td>\n",
       "    </tr>\n",
       "    <tr>\n",
       "      <th>3</th>\n",
       "      <td>1948-04-11</td>\n",
       "      <td>7.67</td>\n",
       "    </tr>\n",
       "    <tr>\n",
       "      <th>4</th>\n",
       "      <td>1961-12-14</td>\n",
       "      <td>478.10</td>\n",
       "    </tr>\n",
       "    <tr>\n",
       "      <th>...</th>\n",
       "      <td>...</td>\n",
       "      <td>...</td>\n",
       "    </tr>\n",
       "    <tr>\n",
       "      <th>19297</th>\n",
       "      <td>1959-03-03</td>\n",
       "      <td>1041.51</td>\n",
       "    </tr>\n",
       "    <tr>\n",
       "      <th>19298</th>\n",
       "      <td>1959-03-03</td>\n",
       "      <td>868.09</td>\n",
       "    </tr>\n",
       "    <tr>\n",
       "      <th>19299</th>\n",
       "      <td>1959-03-03</td>\n",
       "      <td>1039.42</td>\n",
       "    </tr>\n",
       "    <tr>\n",
       "      <th>19300</th>\n",
       "      <td>1959-03-03</td>\n",
       "      <td>289.27</td>\n",
       "    </tr>\n",
       "    <tr>\n",
       "      <th>19301</th>\n",
       "      <td>1959-03-03</td>\n",
       "      <td>766.38</td>\n",
       "    </tr>\n",
       "  </tbody>\n",
       "</table>\n",
       "<p>19302 rows × 2 columns</p>\n",
       "</div>"
      ],
      "text/plain": [
       "              dob      amt\n",
       "0      1977-08-12    50.81\n",
       "1      1999-06-06     1.97\n",
       "2      1967-08-02   100.18\n",
       "3      1948-04-11     7.67\n",
       "4      1961-12-14   478.10\n",
       "...           ...      ...\n",
       "19297  1959-03-03  1041.51\n",
       "19298  1959-03-03   868.09\n",
       "19299  1959-03-03  1039.42\n",
       "19300  1959-03-03   289.27\n",
       "19301  1959-03-03   766.38\n",
       "\n",
       "[19302 rows x 2 columns]"
      ]
     },
     "execution_count": 99,
     "metadata": {},
     "output_type": "execute_result"
    }
   ],
   "source": [
    "a"
   ]
  },
  {
   "cell_type": "code",
   "execution_count": 100,
   "id": "35cb44f5-71d2-43f3-8c19-f9847ddbb37c",
   "metadata": {},
   "outputs": [
    {
     "name": "stderr",
     "output_type": "stream",
     "text": [
      "C:\\Users\\Administrator\\AppData\\Local\\Temp\\ipykernel_8424\\3980866657.py:1: SettingWithCopyWarning: \n",
      "A value is trying to be set on a copy of a slice from a DataFrame.\n",
      "Try using .loc[row_indexer,col_indexer] = value instead\n",
      "\n",
      "See the caveats in the documentation: https://pandas.pydata.org/pandas-docs/stable/user_guide/indexing.html#returning-a-view-versus-a-copy\n",
      "  a[\"year\"] = a[\"dob\"].str.split(\"-\").str[0]\n"
     ]
    }
   ],
   "source": [
    "a[\"year\"] = a[\"dob\"].str.split(\"-\").str[0]\n"
   ]
  },
  {
   "cell_type": "code",
   "execution_count": null,
   "id": "05515117-6506-4e43-9261-1bd56e86213f",
   "metadata": {},
   "outputs": [],
   "source": []
  },
  {
   "cell_type": "code",
   "execution_count": 101,
   "id": "85ce68bf-da9b-42e0-9adb-20cd1e398aa6",
   "metadata": {},
   "outputs": [
    {
     "name": "stderr",
     "output_type": "stream",
     "text": [
      "C:\\Users\\Administrator\\AppData\\Local\\Temp\\ipykernel_8424\\1388983106.py:1: SettingWithCopyWarning: \n",
      "A value is trying to be set on a copy of a slice from a DataFrame.\n",
      "Try using .loc[row_indexer,col_indexer] = value instead\n",
      "\n",
      "See the caveats in the documentation: https://pandas.pydata.org/pandas-docs/stable/user_guide/indexing.html#returning-a-view-versus-a-copy\n",
      "  a[\"age\"] = 2025 - a[\"year\"].astype(int)\n"
     ]
    }
   ],
   "source": [
    "a[\"age\"] = 2025 - a[\"year\"].astype(int)"
   ]
  },
  {
   "cell_type": "code",
   "execution_count": 102,
   "id": "3c0adda3-a3b5-4f31-b3fa-b480f9b3014d",
   "metadata": {},
   "outputs": [
    {
     "data": {
      "text/html": [
       "<div>\n",
       "<style scoped>\n",
       "    .dataframe tbody tr th:only-of-type {\n",
       "        vertical-align: middle;\n",
       "    }\n",
       "\n",
       "    .dataframe tbody tr th {\n",
       "        vertical-align: top;\n",
       "    }\n",
       "\n",
       "    .dataframe thead th {\n",
       "        text-align: right;\n",
       "    }\n",
       "</style>\n",
       "<table border=\"1\" class=\"dataframe\">\n",
       "  <thead>\n",
       "    <tr style=\"text-align: right;\">\n",
       "      <th></th>\n",
       "      <th>dob</th>\n",
       "      <th>amt</th>\n",
       "      <th>year</th>\n",
       "      <th>age</th>\n",
       "    </tr>\n",
       "  </thead>\n",
       "  <tbody>\n",
       "    <tr>\n",
       "      <th>0</th>\n",
       "      <td>1977-08-12</td>\n",
       "      <td>50.81</td>\n",
       "      <td>1977</td>\n",
       "      <td>48</td>\n",
       "    </tr>\n",
       "    <tr>\n",
       "      <th>1</th>\n",
       "      <td>1999-06-06</td>\n",
       "      <td>1.97</td>\n",
       "      <td>1999</td>\n",
       "      <td>26</td>\n",
       "    </tr>\n",
       "    <tr>\n",
       "      <th>2</th>\n",
       "      <td>1967-08-02</td>\n",
       "      <td>100.18</td>\n",
       "      <td>1967</td>\n",
       "      <td>58</td>\n",
       "    </tr>\n",
       "    <tr>\n",
       "      <th>3</th>\n",
       "      <td>1948-04-11</td>\n",
       "      <td>7.67</td>\n",
       "      <td>1948</td>\n",
       "      <td>77</td>\n",
       "    </tr>\n",
       "    <tr>\n",
       "      <th>4</th>\n",
       "      <td>1961-12-14</td>\n",
       "      <td>478.10</td>\n",
       "      <td>1961</td>\n",
       "      <td>64</td>\n",
       "    </tr>\n",
       "    <tr>\n",
       "      <th>...</th>\n",
       "      <td>...</td>\n",
       "      <td>...</td>\n",
       "      <td>...</td>\n",
       "      <td>...</td>\n",
       "    </tr>\n",
       "    <tr>\n",
       "      <th>19297</th>\n",
       "      <td>1959-03-03</td>\n",
       "      <td>1041.51</td>\n",
       "      <td>1959</td>\n",
       "      <td>66</td>\n",
       "    </tr>\n",
       "    <tr>\n",
       "      <th>19298</th>\n",
       "      <td>1959-03-03</td>\n",
       "      <td>868.09</td>\n",
       "      <td>1959</td>\n",
       "      <td>66</td>\n",
       "    </tr>\n",
       "    <tr>\n",
       "      <th>19299</th>\n",
       "      <td>1959-03-03</td>\n",
       "      <td>1039.42</td>\n",
       "      <td>1959</td>\n",
       "      <td>66</td>\n",
       "    </tr>\n",
       "    <tr>\n",
       "      <th>19300</th>\n",
       "      <td>1959-03-03</td>\n",
       "      <td>289.27</td>\n",
       "      <td>1959</td>\n",
       "      <td>66</td>\n",
       "    </tr>\n",
       "    <tr>\n",
       "      <th>19301</th>\n",
       "      <td>1959-03-03</td>\n",
       "      <td>766.38</td>\n",
       "      <td>1959</td>\n",
       "      <td>66</td>\n",
       "    </tr>\n",
       "  </tbody>\n",
       "</table>\n",
       "<p>19302 rows × 4 columns</p>\n",
       "</div>"
      ],
      "text/plain": [
       "              dob      amt  year  age\n",
       "0      1977-08-12    50.81  1977   48\n",
       "1      1999-06-06     1.97  1999   26\n",
       "2      1967-08-02   100.18  1967   58\n",
       "3      1948-04-11     7.67  1948   77\n",
       "4      1961-12-14   478.10  1961   64\n",
       "...           ...      ...   ...  ...\n",
       "19297  1959-03-03  1041.51  1959   66\n",
       "19298  1959-03-03   868.09  1959   66\n",
       "19299  1959-03-03  1039.42  1959   66\n",
       "19300  1959-03-03   289.27  1959   66\n",
       "19301  1959-03-03   766.38  1959   66\n",
       "\n",
       "[19302 rows x 4 columns]"
      ]
     },
     "execution_count": 102,
     "metadata": {},
     "output_type": "execute_result"
    }
   ],
   "source": [
    "a"
   ]
  },
  {
   "cell_type": "code",
   "execution_count": 103,
   "id": "408fd80c-d749-4703-beae-8fc8c0ec3a35",
   "metadata": {},
   "outputs": [
    {
     "name": "stderr",
     "output_type": "stream",
     "text": [
      "C:\\Users\\Administrator\\AppData\\Local\\Temp\\ipykernel_8424\\3914564035.py:5: SettingWithCopyWarning: \n",
      "A value is trying to be set on a copy of a slice from a DataFrame.\n",
      "Try using .loc[row_indexer,col_indexer] = value instead\n",
      "\n",
      "See the caveats in the documentation: https://pandas.pydata.org/pandas-docs/stable/user_guide/indexing.html#returning-a-view-versus-a-copy\n",
      "  a[\"age_group\"] = pd.cut(a[\"age\"], bins=bins, labels=labels, right=False)\n"
     ]
    }
   ],
   "source": [
    "\n",
    "bins = [18, 25, 50, 100]  \n",
    "labels = [\"Young (18-25)\", \"Middle-aged (26-50)\", \"Senior (51+)\"]\n",
    "\n",
    "\n",
    "a[\"age_group\"] = pd.cut(a[\"age\"], bins=bins, labels=labels, right=False)\n",
    "\n",
    "\n"
   ]
  },
  {
   "cell_type": "code",
   "execution_count": 106,
   "id": "2f393b17-6912-4576-b72f-57b062f92828",
   "metadata": {},
   "outputs": [
    {
     "name": "stderr",
     "output_type": "stream",
     "text": [
      "C:\\Users\\Administrator\\AppData\\Local\\Temp\\ipykernel_8424\\917758100.py:1: FutureWarning: The default of observed=False is deprecated and will be changed to True in a future version of pandas. Pass observed=False to retain current behavior or observed=True to adopt the future default and silence this warning.\n",
      "  each_avg= a.groupby(\"age_group\")[\"amt\"].mean()\n"
     ]
    }
   ],
   "source": [
    "each_avg= a.groupby(\"age_group\")[\"amt\"].mean()"
   ]
  },
  {
   "cell_type": "code",
   "execution_count": 107,
   "id": "56aedcb9-ff21-43c5-91da-aae21f190f66",
   "metadata": {},
   "outputs": [
    {
     "data": {
      "text/plain": [
       "age_group\n",
       "Young (18-25)          322.235019\n",
       "Middle-aged (26-50)    272.959675\n",
       "Senior (51+)           320.432807\n",
       "Name: amt, dtype: float64"
      ]
     },
     "execution_count": 107,
     "metadata": {},
     "output_type": "execute_result"
    }
   ],
   "source": [
    "each_avg\n",
    "#Average spending amount for each group"
   ]
  },
  {
   "cell_type": "code",
   "execution_count": 109,
   "id": "4eb96503-b7bf-42db-87f6-4ce7a1bb2796",
   "metadata": {},
   "outputs": [
    {
     "name": "stderr",
     "output_type": "stream",
     "text": [
      "C:\\Users\\Administrator\\AppData\\Local\\Temp\\ipykernel_8424\\2597938702.py:1: FutureWarning: The default of observed=False is deprecated and will be changed to True in a future version of pandas. Pass observed=False to retain current behavior or observed=True to adopt the future default and silence this warning.\n",
      "  a.groupby(\"age_group\")[\"amt\"].agg([\"sum\", \"mean\", \"count\"])\n"
     ]
    },
    {
     "data": {
      "text/html": [
       "<div>\n",
       "<style scoped>\n",
       "    .dataframe tbody tr th:only-of-type {\n",
       "        vertical-align: middle;\n",
       "    }\n",
       "\n",
       "    .dataframe tbody tr th {\n",
       "        vertical-align: top;\n",
       "    }\n",
       "\n",
       "    .dataframe thead th {\n",
       "        text-align: right;\n",
       "    }\n",
       "</style>\n",
       "<table border=\"1\" class=\"dataframe\">\n",
       "  <thead>\n",
       "    <tr style=\"text-align: right;\">\n",
       "      <th></th>\n",
       "      <th>sum</th>\n",
       "      <th>mean</th>\n",
       "      <th>count</th>\n",
       "    </tr>\n",
       "    <tr>\n",
       "      <th>age_group</th>\n",
       "      <th></th>\n",
       "      <th></th>\n",
       "      <th></th>\n",
       "    </tr>\n",
       "  </thead>\n",
       "  <tbody>\n",
       "    <tr>\n",
       "      <th>Young (18-25)</th>\n",
       "      <td>84747.81</td>\n",
       "      <td>322.235019</td>\n",
       "      <td>263</td>\n",
       "    </tr>\n",
       "    <tr>\n",
       "      <th>Middle-aged (26-50)</th>\n",
       "      <td>2354823.12</td>\n",
       "      <td>272.959675</td>\n",
       "      <td>8627</td>\n",
       "    </tr>\n",
       "    <tr>\n",
       "      <th>Senior (51+)</th>\n",
       "      <td>3330258.16</td>\n",
       "      <td>320.432807</td>\n",
       "      <td>10393</td>\n",
       "    </tr>\n",
       "  </tbody>\n",
       "</table>\n",
       "</div>"
      ],
      "text/plain": [
       "                            sum        mean  count\n",
       "age_group                                         \n",
       "Young (18-25)          84747.81  322.235019    263\n",
       "Middle-aged (26-50)  2354823.12  272.959675   8627\n",
       "Senior (51+)         3330258.16  320.432807  10393"
      ]
     },
     "execution_count": 109,
     "metadata": {},
     "output_type": "execute_result"
    }
   ],
   "source": [
    "a.groupby(\"age_group\")[\"amt\"].agg([\"sum\", \"mean\", \"count\"])\n",
    "# Spend pattern for each age group"
   ]
  },
  {
   "cell_type": "code",
   "execution_count": null,
   "id": "05dd3bae-1971-47c6-b5e4-5e3287bef9ff",
   "metadata": {},
   "outputs": [],
   "source": []
  },
  {
   "cell_type": "code",
   "execution_count": null,
   "id": "12b848a1-1c8f-4b0a-b463-bdad6c1dd877",
   "metadata": {},
   "outputs": [],
   "source": []
  },
  {
   "cell_type": "code",
   "execution_count": null,
   "id": "cd57c753-e3b9-4939-9d02-ab7058f44623",
   "metadata": {},
   "outputs": [],
   "source": []
  }
 ],
 "metadata": {
  "kernelspec": {
   "display_name": "Python 3 (ipykernel)",
   "language": "python",
   "name": "python3"
  },
  "language_info": {
   "codemirror_mode": {
    "name": "ipython",
    "version": 3
   },
   "file_extension": ".py",
   "mimetype": "text/x-python",
   "name": "python",
   "nbconvert_exporter": "python",
   "pygments_lexer": "ipython3",
   "version": "3.11.0"
  }
 },
 "nbformat": 4,
 "nbformat_minor": 5
}
